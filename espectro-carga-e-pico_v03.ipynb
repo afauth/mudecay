{
 "cells": [
  {
   "cell_type": "markdown",
   "metadata": {},
   "source": [
    "## Imports"
   ]
  },
  {
   "cell_type": "code",
   "execution_count": 1,
   "metadata": {},
   "outputs": [],
   "source": [
    "import pandas  as pd\n",
    "import seaborn as sns\n",
    "import numpy   as np\n",
    "import matplotlib.pyplot as plt\n",
    "from scipy.signal    import find_peaks\n",
    "from scipy.integrate import simps, trapz"
   ]
  },
  {
   "cell_type": "markdown",
   "metadata": {},
   "source": [
    "# Lendo arquivo das waveforms"
   ]
  },
  {
   "cell_type": "markdown",
   "metadata": {},
   "source": [
    "#### O arquivo original já foi parcialmente modificado em relação a linhas e colunas"
   ]
  },
  {
   "cell_type": "code",
   "execution_count": 2,
   "metadata": {},
   "outputs": [
    {
     "name": "stdout",
     "output_type": "stream",
     "text": [
      "Wall time: 2.86 s\n"
     ]
    },
    {
     "data": {
      "text/html": [
       "<div>\n",
       "<style scoped>\n",
       "    .dataframe tbody tr th:only-of-type {\n",
       "        vertical-align: middle;\n",
       "    }\n",
       "\n",
       "    .dataframe tbody tr th {\n",
       "        vertical-align: top;\n",
       "    }\n",
       "\n",
       "    .dataframe thead th {\n",
       "        text-align: right;\n",
       "    }\n",
       "</style>\n",
       "<table border=\"1\" class=\"dataframe\">\n",
       "  <thead>\n",
       "    <tr style=\"text-align: right;\">\n",
       "      <th></th>\n",
       "      <th>event_0</th>\n",
       "      <th>event_1</th>\n",
       "      <th>event_2</th>\n",
       "      <th>event_3</th>\n",
       "      <th>event_4</th>\n",
       "      <th>event_5</th>\n",
       "      <th>event_6</th>\n",
       "      <th>event_7</th>\n",
       "      <th>event_8</th>\n",
       "      <th>event_9</th>\n",
       "      <th>...</th>\n",
       "      <th>event_5546</th>\n",
       "      <th>event_5547</th>\n",
       "      <th>event_5548</th>\n",
       "      <th>event_5549</th>\n",
       "      <th>event_5550</th>\n",
       "      <th>event_5551</th>\n",
       "      <th>event_5552</th>\n",
       "      <th>event_5553</th>\n",
       "      <th>event_5554</th>\n",
       "      <th>time</th>\n",
       "    </tr>\n",
       "  </thead>\n",
       "  <tbody>\n",
       "    <tr>\n",
       "      <th>0</th>\n",
       "      <td>56.0</td>\n",
       "      <td>56.0</td>\n",
       "      <td>56.0</td>\n",
       "      <td>53.0</td>\n",
       "      <td>55.0</td>\n",
       "      <td>55.0</td>\n",
       "      <td>54.0</td>\n",
       "      <td>54.0</td>\n",
       "      <td>54.0</td>\n",
       "      <td>54.0</td>\n",
       "      <td>...</td>\n",
       "      <td>54.0</td>\n",
       "      <td>53.0</td>\n",
       "      <td>53.0</td>\n",
       "      <td>51.0</td>\n",
       "      <td>51.0</td>\n",
       "      <td>51.0</td>\n",
       "      <td>51.0</td>\n",
       "      <td>51.0</td>\n",
       "      <td>51.0</td>\n",
       "      <td>0</td>\n",
       "    </tr>\n",
       "    <tr>\n",
       "      <th>1</th>\n",
       "      <td>55.0</td>\n",
       "      <td>55.0</td>\n",
       "      <td>55.0</td>\n",
       "      <td>53.0</td>\n",
       "      <td>55.0</td>\n",
       "      <td>55.0</td>\n",
       "      <td>54.0</td>\n",
       "      <td>54.0</td>\n",
       "      <td>54.0</td>\n",
       "      <td>54.0</td>\n",
       "      <td>...</td>\n",
       "      <td>52.0</td>\n",
       "      <td>52.0</td>\n",
       "      <td>52.0</td>\n",
       "      <td>52.0</td>\n",
       "      <td>51.0</td>\n",
       "      <td>51.0</td>\n",
       "      <td>51.0</td>\n",
       "      <td>51.0</td>\n",
       "      <td>51.0</td>\n",
       "      <td>1</td>\n",
       "    </tr>\n",
       "    <tr>\n",
       "      <th>2</th>\n",
       "      <td>53.0</td>\n",
       "      <td>53.0</td>\n",
       "      <td>53.0</td>\n",
       "      <td>51.0</td>\n",
       "      <td>53.0</td>\n",
       "      <td>53.0</td>\n",
       "      <td>55.0</td>\n",
       "      <td>55.0</td>\n",
       "      <td>55.0</td>\n",
       "      <td>55.0</td>\n",
       "      <td>...</td>\n",
       "      <td>53.0</td>\n",
       "      <td>53.0</td>\n",
       "      <td>53.0</td>\n",
       "      <td>50.0</td>\n",
       "      <td>55.0</td>\n",
       "      <td>55.0</td>\n",
       "      <td>55.0</td>\n",
       "      <td>55.0</td>\n",
       "      <td>55.0</td>\n",
       "      <td>2</td>\n",
       "    </tr>\n",
       "    <tr>\n",
       "      <th>3</th>\n",
       "      <td>53.0</td>\n",
       "      <td>53.0</td>\n",
       "      <td>53.0</td>\n",
       "      <td>52.0</td>\n",
       "      <td>53.0</td>\n",
       "      <td>53.0</td>\n",
       "      <td>54.0</td>\n",
       "      <td>54.0</td>\n",
       "      <td>54.0</td>\n",
       "      <td>54.0</td>\n",
       "      <td>...</td>\n",
       "      <td>53.0</td>\n",
       "      <td>53.0</td>\n",
       "      <td>53.0</td>\n",
       "      <td>50.0</td>\n",
       "      <td>55.0</td>\n",
       "      <td>55.0</td>\n",
       "      <td>55.0</td>\n",
       "      <td>55.0</td>\n",
       "      <td>55.0</td>\n",
       "      <td>3</td>\n",
       "    </tr>\n",
       "    <tr>\n",
       "      <th>4</th>\n",
       "      <td>54.0</td>\n",
       "      <td>54.0</td>\n",
       "      <td>54.0</td>\n",
       "      <td>53.0</td>\n",
       "      <td>55.0</td>\n",
       "      <td>55.0</td>\n",
       "      <td>55.0</td>\n",
       "      <td>55.0</td>\n",
       "      <td>55.0</td>\n",
       "      <td>55.0</td>\n",
       "      <td>...</td>\n",
       "      <td>51.0</td>\n",
       "      <td>53.0</td>\n",
       "      <td>53.0</td>\n",
       "      <td>52.0</td>\n",
       "      <td>54.0</td>\n",
       "      <td>54.0</td>\n",
       "      <td>54.0</td>\n",
       "      <td>54.0</td>\n",
       "      <td>54.0</td>\n",
       "      <td>4</td>\n",
       "    </tr>\n",
       "    <tr>\n",
       "      <th>...</th>\n",
       "      <td>...</td>\n",
       "      <td>...</td>\n",
       "      <td>...</td>\n",
       "      <td>...</td>\n",
       "      <td>...</td>\n",
       "      <td>...</td>\n",
       "      <td>...</td>\n",
       "      <td>...</td>\n",
       "      <td>...</td>\n",
       "      <td>...</td>\n",
       "      <td>...</td>\n",
       "      <td>...</td>\n",
       "      <td>...</td>\n",
       "      <td>...</td>\n",
       "      <td>...</td>\n",
       "      <td>...</td>\n",
       "      <td>...</td>\n",
       "      <td>...</td>\n",
       "      <td>...</td>\n",
       "      <td>...</td>\n",
       "      <td>...</td>\n",
       "    </tr>\n",
       "    <tr>\n",
       "      <th>2495</th>\n",
       "      <td>53.0</td>\n",
       "      <td>53.0</td>\n",
       "      <td>53.0</td>\n",
       "      <td>54.0</td>\n",
       "      <td>55.0</td>\n",
       "      <td>55.0</td>\n",
       "      <td>22.0</td>\n",
       "      <td>22.0</td>\n",
       "      <td>22.0</td>\n",
       "      <td>22.0</td>\n",
       "      <td>...</td>\n",
       "      <td>54.0</td>\n",
       "      <td>50.0</td>\n",
       "      <td>50.0</td>\n",
       "      <td>50.0</td>\n",
       "      <td>52.0</td>\n",
       "      <td>52.0</td>\n",
       "      <td>52.0</td>\n",
       "      <td>52.0</td>\n",
       "      <td>52.0</td>\n",
       "      <td>2495</td>\n",
       "    </tr>\n",
       "    <tr>\n",
       "      <th>2496</th>\n",
       "      <td>55.0</td>\n",
       "      <td>55.0</td>\n",
       "      <td>55.0</td>\n",
       "      <td>54.0</td>\n",
       "      <td>56.0</td>\n",
       "      <td>56.0</td>\n",
       "      <td>14.0</td>\n",
       "      <td>14.0</td>\n",
       "      <td>14.0</td>\n",
       "      <td>14.0</td>\n",
       "      <td>...</td>\n",
       "      <td>50.0</td>\n",
       "      <td>51.0</td>\n",
       "      <td>51.0</td>\n",
       "      <td>53.0</td>\n",
       "      <td>51.0</td>\n",
       "      <td>51.0</td>\n",
       "      <td>51.0</td>\n",
       "      <td>51.0</td>\n",
       "      <td>51.0</td>\n",
       "      <td>2496</td>\n",
       "    </tr>\n",
       "    <tr>\n",
       "      <th>2497</th>\n",
       "      <td>52.0</td>\n",
       "      <td>52.0</td>\n",
       "      <td>52.0</td>\n",
       "      <td>53.0</td>\n",
       "      <td>53.0</td>\n",
       "      <td>53.0</td>\n",
       "      <td>37.0</td>\n",
       "      <td>37.0</td>\n",
       "      <td>37.0</td>\n",
       "      <td>37.0</td>\n",
       "      <td>...</td>\n",
       "      <td>53.0</td>\n",
       "      <td>51.0</td>\n",
       "      <td>51.0</td>\n",
       "      <td>53.0</td>\n",
       "      <td>52.0</td>\n",
       "      <td>52.0</td>\n",
       "      <td>52.0</td>\n",
       "      <td>52.0</td>\n",
       "      <td>52.0</td>\n",
       "      <td>2497</td>\n",
       "    </tr>\n",
       "    <tr>\n",
       "      <th>2498</th>\n",
       "      <td>52.0</td>\n",
       "      <td>52.0</td>\n",
       "      <td>52.0</td>\n",
       "      <td>53.0</td>\n",
       "      <td>54.0</td>\n",
       "      <td>54.0</td>\n",
       "      <td>51.0</td>\n",
       "      <td>51.0</td>\n",
       "      <td>51.0</td>\n",
       "      <td>51.0</td>\n",
       "      <td>...</td>\n",
       "      <td>52.0</td>\n",
       "      <td>53.0</td>\n",
       "      <td>53.0</td>\n",
       "      <td>52.0</td>\n",
       "      <td>52.0</td>\n",
       "      <td>52.0</td>\n",
       "      <td>52.0</td>\n",
       "      <td>52.0</td>\n",
       "      <td>52.0</td>\n",
       "      <td>2498</td>\n",
       "    </tr>\n",
       "    <tr>\n",
       "      <th>2499</th>\n",
       "      <td>53.0</td>\n",
       "      <td>53.0</td>\n",
       "      <td>53.0</td>\n",
       "      <td>52.0</td>\n",
       "      <td>55.0</td>\n",
       "      <td>55.0</td>\n",
       "      <td>47.0</td>\n",
       "      <td>47.0</td>\n",
       "      <td>47.0</td>\n",
       "      <td>47.0</td>\n",
       "      <td>...</td>\n",
       "      <td>53.0</td>\n",
       "      <td>52.0</td>\n",
       "      <td>52.0</td>\n",
       "      <td>52.0</td>\n",
       "      <td>54.0</td>\n",
       "      <td>54.0</td>\n",
       "      <td>54.0</td>\n",
       "      <td>54.0</td>\n",
       "      <td>54.0</td>\n",
       "      <td>2499</td>\n",
       "    </tr>\n",
       "  </tbody>\n",
       "</table>\n",
       "<p>2500 rows × 5556 columns</p>\n",
       "</div>"
      ],
      "text/plain": [
       "      event_0  event_1  event_2  event_3  event_4  event_5  event_6  event_7  \\\n",
       "0        56.0     56.0     56.0     53.0     55.0     55.0     54.0     54.0   \n",
       "1        55.0     55.0     55.0     53.0     55.0     55.0     54.0     54.0   \n",
       "2        53.0     53.0     53.0     51.0     53.0     53.0     55.0     55.0   \n",
       "3        53.0     53.0     53.0     52.0     53.0     53.0     54.0     54.0   \n",
       "4        54.0     54.0     54.0     53.0     55.0     55.0     55.0     55.0   \n",
       "...       ...      ...      ...      ...      ...      ...      ...      ...   \n",
       "2495     53.0     53.0     53.0     54.0     55.0     55.0     22.0     22.0   \n",
       "2496     55.0     55.0     55.0     54.0     56.0     56.0     14.0     14.0   \n",
       "2497     52.0     52.0     52.0     53.0     53.0     53.0     37.0     37.0   \n",
       "2498     52.0     52.0     52.0     53.0     54.0     54.0     51.0     51.0   \n",
       "2499     53.0     53.0     53.0     52.0     55.0     55.0     47.0     47.0   \n",
       "\n",
       "      event_8  event_9  ...  event_5546  event_5547  event_5548  event_5549  \\\n",
       "0        54.0     54.0  ...        54.0        53.0        53.0        51.0   \n",
       "1        54.0     54.0  ...        52.0        52.0        52.0        52.0   \n",
       "2        55.0     55.0  ...        53.0        53.0        53.0        50.0   \n",
       "3        54.0     54.0  ...        53.0        53.0        53.0        50.0   \n",
       "4        55.0     55.0  ...        51.0        53.0        53.0        52.0   \n",
       "...       ...      ...  ...         ...         ...         ...         ...   \n",
       "2495     22.0     22.0  ...        54.0        50.0        50.0        50.0   \n",
       "2496     14.0     14.0  ...        50.0        51.0        51.0        53.0   \n",
       "2497     37.0     37.0  ...        53.0        51.0        51.0        53.0   \n",
       "2498     51.0     51.0  ...        52.0        53.0        53.0        52.0   \n",
       "2499     47.0     47.0  ...        53.0        52.0        52.0        52.0   \n",
       "\n",
       "      event_5550  event_5551  event_5552  event_5553  event_5554  time  \n",
       "0           51.0        51.0        51.0        51.0        51.0     0  \n",
       "1           51.0        51.0        51.0        51.0        51.0     1  \n",
       "2           55.0        55.0        55.0        55.0        55.0     2  \n",
       "3           55.0        55.0        55.0        55.0        55.0     3  \n",
       "4           54.0        54.0        54.0        54.0        54.0     4  \n",
       "...          ...         ...         ...         ...         ...   ...  \n",
       "2495        52.0        52.0        52.0        52.0        52.0  2495  \n",
       "2496        51.0        51.0        51.0        51.0        51.0  2496  \n",
       "2497        52.0        52.0        52.0        52.0        52.0  2497  \n",
       "2498        52.0        52.0        52.0        52.0        52.0  2498  \n",
       "2499        54.0        54.0        54.0        54.0        54.0  2499  \n",
       "\n",
       "[2500 rows x 5556 columns]"
      ]
     },
     "execution_count": 2,
     "metadata": {},
     "output_type": "execute_result"
    }
   ],
   "source": [
    "%%time\n",
    "'''Lendo arquivo das waveforms'''\n",
    "\n",
    "waveform = pd.read_csv(\n",
    "    '5555_eventos-edit.csv', \n",
    "    index_col = 0\n",
    "                      ) # importa como waveform vs sample\n",
    "waveform"
   ]
  },
  {
   "cell_type": "code",
   "execution_count": 3,
   "metadata": {},
   "outputs": [
    {
     "data": {
      "text/plain": [
       "[<matplotlib.lines.Line2D at 0x24dbca2baf0>]"
      ]
     },
     "execution_count": 3,
     "metadata": {},
     "output_type": "execute_result"
    },
    {
     "data": {
      "image/png": "[encoded data removed]",
      "text/plain": [
       "<Figure size 432x288 with 1 Axes>"
      ]
     },
     "metadata": {
      "needs_background": "light"
     },
     "output_type": "display_data"
    }
   ],
   "source": [
    "plt.plot( waveform.time, waveform.event_0 )"
   ]
  },
  {
   "cell_type": "markdown",
   "metadata": {},
   "source": [
    "# Construindo os métodos para a análise de dados"
   ]
  },
  {
   "cell_type": "markdown",
   "metadata": {},
   "source": [
    "#### 1. Peak_finder \n",
    "\n",
    "Auxilia a encontrar todos os picos de uma waveform. No caso, encontra dois picos.\n",
    "\n",
    "## OBSERVAÇÃO\n",
    "\n",
    "Talvez seja uma boa ideia implementar apenas uma função peak_finder"
   ]
  },
  {
   "cell_type": "code",
   "execution_count": 4,
   "metadata": {},
   "outputs": [],
   "source": [
    "def peak_finder(series, height): # peak_finder se aplica em data frames com valores do eixo y    \n",
    "    '''\n",
    "    Essa função retorna os valores no eixo x\n",
    "    '''\n",
    "    \n",
    "    # get the actual peaks\n",
    "    peaks, _ = find_peaks( (-1)*series, height = height ) # height é um parâmetro decidido\n",
    "    \n",
    "    return(peaks)"
   ]
  },
  {
   "cell_type": "code",
   "execution_count": 5,
   "metadata": {},
   "outputs": [],
   "source": [
    "'''\n",
    "Essa função utiliza a peak_finder e já retorna os dados como uma Series com os valores em x e y de cada pico\n",
    "'''\n",
    "\n",
    "def peak_finder_xy(series, height): \n",
    "    __ = peak_finder(series, height = height)\n",
    "    \n",
    "    return(series.iloc[__])"
   ]
  },
  {
   "cell_type": "markdown",
   "metadata": {},
   "source": [
    "#### 2. delta_signal\n",
    "\n",
    "Encontra as diferenças entre elementos lado-a-lado. Serve para avaliar quando estamos começando ou terminando um pulso."
   ]
  },
  {
   "cell_type": "code",
   "execution_count": 6,
   "metadata": {},
   "outputs": [],
   "source": [
    "def delta_x(s): # insira uma series na entrada; o valor retornado está em coordenadas do eixo x\n",
    "    VA_derivada_baseLine = 5  #   flutuação/amplitude máxima da base-line;\n",
    "                              #   valor arbirtrário para saber se o número em questão está fora da \n",
    "                              # base-line; não é exatamente a derivada\n",
    "    _ = []\n",
    "    for i in range( len(s) - 1 ): # i = index da series\n",
    "        if abs(s[i] - s[i+1]) > VA_derivada_baseLine:\n",
    "            _.append(i) \n",
    "        \n",
    "    return (_) # o valor retornado está em coordenadas do eixo x"
   ]
  },
  {
   "cell_type": "markdown",
   "metadata": {},
   "source": [
    "#### 3. contorno_pulso\n",
    "\n",
    "Encontra os valores dos dois pulsos em cada uma das waveforms. Utiliza as duas funções anteriores. \n",
    "Funciona da seguinte maneira: encontra os picos e delimita os entornos. Daí, guarda os pontos interiores do pulso e os devolve."
   ]
  },
  {
   "cell_type": "code",
   "execution_count": 7,
   "metadata": {},
   "outputs": [],
   "source": [
    "def contorno_pulso(series, VA_1, VA_2): # recebe uma Series do pandas para começar\n",
    "    \n",
    "    \n",
    "    '''\n",
    "    Define um recorte de onde se deve buscar um pulso e os seus delimitadores\n",
    "    VA_1 e VA_2 são variáveis arbitrárias para definir a largura do pulso \n",
    "    '''\n",
    "    \n",
    "\n",
    "    peak = peak_finder(series, height) # encontrar os picos da waveform\n",
    "    \n",
    "    s1 = series[ (peak[0] - VA_1):(peak[0] + VA_2) ] # recortar envolta dos picos\n",
    "    s2 = series[ (peak[1] - VA_1):(peak[1] + VA_2) ]\n",
    "    \n",
    "    df1 = pd.DataFrame( dict(s1 = s1) ).reset_index() # cria um Data Frame com os valores do recorte\n",
    "    df1.columns = ['time', 's1']                      # renomeia a coluna do data frame\n",
    "    df2 = pd.DataFrame( dict(s1 = s2) ).reset_index()\n",
    "    df2.columns = ['time', 's2']\n",
    "    \n",
    "    \n",
    "    \n",
    "\n",
    "    '''\n",
    "    Calcular a \"derivada\" em cada ponto no entorno, para saber os limitantes do pulso\n",
    "    Ao terminar, retornar o data frame que contem os valores limitantes do contorno do pulso\n",
    "    '''  \n",
    "\n",
    "    indexLim_1 = delta_x( df1['s1'] ) # índices limitantes\n",
    "    indexLim_2 = delta_x( df2['s2'] )\n",
    "    \n",
    "    # redefine os valores para apenas os limitantes do data frame\n",
    "    df1 = df1.iloc[    [  indexLim_1[0], indexLim_1[-1]  ]    ] \n",
    "    df2 = df2.iloc[    [  indexLim_2[0], indexLim_2[-1]  ]    ] \n",
    "    \n",
    "    # print(df2) # series marcada pelas colunas \n",
    "    \n",
    "    \n",
    "    # da Series original, temos agora o contorno do pulso\n",
    "    s1 = series[ df1['time'].iloc[0] : df1['time'].iloc[1]+1 ] # soma 1 para incluir o último termo\n",
    "    s2 = series[ df2['time'].iloc[0] : df2['time'].iloc[1]+1 ] \n",
    "    \n",
    "    # print(s2)\n",
    "    \n",
    "    pulsos = s1, s2\n",
    "    \n",
    "    \n",
    "    \n",
    "    \n",
    "    \n",
    "    \n",
    "    return(pulsos) # retorna os dois contornos, um de cada pulso"
   ]
  },
  {
   "cell_type": "markdown",
   "metadata": {},
   "source": [
    "#### 4. integral_simples\n",
    "\n",
    "Calcula a integral do contorno do pulso da waveform"
   ]
  },
  {
   "cell_type": "code",
   "execution_count": 8,
   "metadata": {},
   "outputs": [],
   "source": [
    "def integral_simples(dados_em_y, dx):\n",
    "    \n",
    "    _ = dados_em_y\n",
    "    I = 0\n",
    "    \n",
    "    for i in range(len(_)):\n",
    "        y = _.iloc[i]\n",
    "        I += y * dx\n",
    "    \n",
    "    return(I)"
   ]
  },
  {
   "cell_type": "markdown",
   "metadata": {},
   "source": [
    "#### 5. baseLine_sample\n",
    "\n",
    "Retorna uma amostra da waveform para determinar o valor estatístico dela"
   ]
  },
  {
   "cell_type": "code",
   "execution_count": 9,
   "metadata": {},
   "outputs": [],
   "source": [
    "'''\n",
    "Definimos essa função que retorna uma sample da base line da waveform\n",
    "'''\n",
    "\n",
    "def baseLine_sample(series, height): # recebe uma series do pandas\n",
    "    \n",
    "    _ = peak_finder(series, height = height)\n",
    "    \n",
    "    '''Pega todos os elementos até o início do primeiro pulso; intervalo exclusivo à direita'''\n",
    "    \n",
    "    if len(_) != 0: # pode acontecer de que o peak_finder não \n",
    "        \n",
    "        x_inicio_pulso_0 = _[0] - VA_1 # definido arbitrariamente\n",
    "        # print(x_inicio_pulso_0)\n",
    "    \n",
    "        sample  = evento.iloc[:x_inicio_pulso_0]\n",
    "        \n",
    "    else:\n",
    "        #print(f'problema em {_s.name}')\n",
    "        sample = None\n",
    "\n",
    "    return( sample ) # este elemento é uma Series"
   ]
  },
  {
   "cell_type": "code",
   "execution_count": null,
   "metadata": {},
   "outputs": [],
   "source": []
  },
  {
   "cell_type": "markdown",
   "metadata": {},
   "source": [
    "# Análise de dados"
   ]
  },
  {
   "cell_type": "markdown",
   "metadata": {},
   "source": [
    "### Copia o data frame e seleciona a janela de busca\n",
    "\n",
    "Cria uma cópia das waveforms para poder transladar o base line sem modificar os dados originais;\n",
    "\n",
    "Define a janela onde procuraremos pelos valores do contorno do pulso"
   ]
  },
  {
   "cell_type": "code",
   "execution_count": 10,
   "metadata": {},
   "outputs": [
    {
     "data": {
      "text/html": [
       "<div>\n",
       "<style scoped>\n",
       "    .dataframe tbody tr th:only-of-type {\n",
       "        vertical-align: middle;\n",
       "    }\n",
       "\n",
       "    .dataframe tbody tr th {\n",
       "        vertical-align: top;\n",
       "    }\n",
       "\n",
       "    .dataframe thead th {\n",
       "        text-align: right;\n",
       "    }\n",
       "</style>\n",
       "<table border=\"1\" class=\"dataframe\">\n",
       "  <thead>\n",
       "    <tr style=\"text-align: right;\">\n",
       "      <th></th>\n",
       "      <th>event_0</th>\n",
       "      <th>event_1</th>\n",
       "      <th>event_2</th>\n",
       "      <th>event_3</th>\n",
       "      <th>event_4</th>\n",
       "      <th>event_5</th>\n",
       "      <th>event_6</th>\n",
       "      <th>event_7</th>\n",
       "      <th>event_8</th>\n",
       "      <th>event_9</th>\n",
       "      <th>...</th>\n",
       "      <th>event_5546</th>\n",
       "      <th>event_5547</th>\n",
       "      <th>event_5548</th>\n",
       "      <th>event_5549</th>\n",
       "      <th>event_5550</th>\n",
       "      <th>event_5551</th>\n",
       "      <th>event_5552</th>\n",
       "      <th>event_5553</th>\n",
       "      <th>event_5554</th>\n",
       "      <th>time</th>\n",
       "    </tr>\n",
       "  </thead>\n",
       "  <tbody>\n",
       "    <tr>\n",
       "      <th>0</th>\n",
       "      <td>56.0</td>\n",
       "      <td>56.0</td>\n",
       "      <td>56.0</td>\n",
       "      <td>53.0</td>\n",
       "      <td>55.0</td>\n",
       "      <td>55.0</td>\n",
       "      <td>54.0</td>\n",
       "      <td>54.0</td>\n",
       "      <td>54.0</td>\n",
       "      <td>54.0</td>\n",
       "      <td>...</td>\n",
       "      <td>54.0</td>\n",
       "      <td>53.0</td>\n",
       "      <td>53.0</td>\n",
       "      <td>51.0</td>\n",
       "      <td>51.0</td>\n",
       "      <td>51.0</td>\n",
       "      <td>51.0</td>\n",
       "      <td>51.0</td>\n",
       "      <td>51.0</td>\n",
       "      <td>0</td>\n",
       "    </tr>\n",
       "    <tr>\n",
       "      <th>1</th>\n",
       "      <td>55.0</td>\n",
       "      <td>55.0</td>\n",
       "      <td>55.0</td>\n",
       "      <td>53.0</td>\n",
       "      <td>55.0</td>\n",
       "      <td>55.0</td>\n",
       "      <td>54.0</td>\n",
       "      <td>54.0</td>\n",
       "      <td>54.0</td>\n",
       "      <td>54.0</td>\n",
       "      <td>...</td>\n",
       "      <td>52.0</td>\n",
       "      <td>52.0</td>\n",
       "      <td>52.0</td>\n",
       "      <td>52.0</td>\n",
       "      <td>51.0</td>\n",
       "      <td>51.0</td>\n",
       "      <td>51.0</td>\n",
       "      <td>51.0</td>\n",
       "      <td>51.0</td>\n",
       "      <td>1</td>\n",
       "    </tr>\n",
       "    <tr>\n",
       "      <th>2</th>\n",
       "      <td>53.0</td>\n",
       "      <td>53.0</td>\n",
       "      <td>53.0</td>\n",
       "      <td>51.0</td>\n",
       "      <td>53.0</td>\n",
       "      <td>53.0</td>\n",
       "      <td>55.0</td>\n",
       "      <td>55.0</td>\n",
       "      <td>55.0</td>\n",
       "      <td>55.0</td>\n",
       "      <td>...</td>\n",
       "      <td>53.0</td>\n",
       "      <td>53.0</td>\n",
       "      <td>53.0</td>\n",
       "      <td>50.0</td>\n",
       "      <td>55.0</td>\n",
       "      <td>55.0</td>\n",
       "      <td>55.0</td>\n",
       "      <td>55.0</td>\n",
       "      <td>55.0</td>\n",
       "      <td>2</td>\n",
       "    </tr>\n",
       "    <tr>\n",
       "      <th>3</th>\n",
       "      <td>53.0</td>\n",
       "      <td>53.0</td>\n",
       "      <td>53.0</td>\n",
       "      <td>52.0</td>\n",
       "      <td>53.0</td>\n",
       "      <td>53.0</td>\n",
       "      <td>54.0</td>\n",
       "      <td>54.0</td>\n",
       "      <td>54.0</td>\n",
       "      <td>54.0</td>\n",
       "      <td>...</td>\n",
       "      <td>53.0</td>\n",
       "      <td>53.0</td>\n",
       "      <td>53.0</td>\n",
       "      <td>50.0</td>\n",
       "      <td>55.0</td>\n",
       "      <td>55.0</td>\n",
       "      <td>55.0</td>\n",
       "      <td>55.0</td>\n",
       "      <td>55.0</td>\n",
       "      <td>3</td>\n",
       "    </tr>\n",
       "    <tr>\n",
       "      <th>4</th>\n",
       "      <td>54.0</td>\n",
       "      <td>54.0</td>\n",
       "      <td>54.0</td>\n",
       "      <td>53.0</td>\n",
       "      <td>55.0</td>\n",
       "      <td>55.0</td>\n",
       "      <td>55.0</td>\n",
       "      <td>55.0</td>\n",
       "      <td>55.0</td>\n",
       "      <td>55.0</td>\n",
       "      <td>...</td>\n",
       "      <td>51.0</td>\n",
       "      <td>53.0</td>\n",
       "      <td>53.0</td>\n",
       "      <td>52.0</td>\n",
       "      <td>54.0</td>\n",
       "      <td>54.0</td>\n",
       "      <td>54.0</td>\n",
       "      <td>54.0</td>\n",
       "      <td>54.0</td>\n",
       "      <td>4</td>\n",
       "    </tr>\n",
       "  </tbody>\n",
       "</table>\n",
       "<p>5 rows × 5556 columns</p>\n",
       "</div>"
      ],
      "text/plain": [
       "   event_0  event_1  event_2  event_3  event_4  event_5  event_6  event_7  \\\n",
       "0     56.0     56.0     56.0     53.0     55.0     55.0     54.0     54.0   \n",
       "1     55.0     55.0     55.0     53.0     55.0     55.0     54.0     54.0   \n",
       "2     53.0     53.0     53.0     51.0     53.0     53.0     55.0     55.0   \n",
       "3     53.0     53.0     53.0     52.0     53.0     53.0     54.0     54.0   \n",
       "4     54.0     54.0     54.0     53.0     55.0     55.0     55.0     55.0   \n",
       "\n",
       "   event_8  event_9  ...  event_5546  event_5547  event_5548  event_5549  \\\n",
       "0     54.0     54.0  ...        54.0        53.0        53.0        51.0   \n",
       "1     54.0     54.0  ...        52.0        52.0        52.0        52.0   \n",
       "2     55.0     55.0  ...        53.0        53.0        53.0        50.0   \n",
       "3     54.0     54.0  ...        53.0        53.0        53.0        50.0   \n",
       "4     55.0     55.0  ...        51.0        53.0        53.0        52.0   \n",
       "\n",
       "   event_5550  event_5551  event_5552  event_5553  event_5554  time  \n",
       "0        51.0        51.0        51.0        51.0        51.0     0  \n",
       "1        51.0        51.0        51.0        51.0        51.0     1  \n",
       "2        55.0        55.0        55.0        55.0        55.0     2  \n",
       "3        55.0        55.0        55.0        55.0        55.0     3  \n",
       "4        54.0        54.0        54.0        54.0        54.0     4  \n",
       "\n",
       "[5 rows x 5556 columns]"
      ]
     },
     "execution_count": 10,
     "metadata": {},
     "output_type": "execute_result"
    }
   ],
   "source": [
    "df = waveform.copy(deep = True)\n",
    "\n",
    "VA_1 = 20 # VA_1 e VA_2 são variáveis arbitrárias para definir o majorante da largura dos pulsos\n",
    "VA_2 = 70\n",
    "\n",
    "df.head()"
   ]
  },
  {
   "cell_type": "markdown",
   "metadata": {},
   "source": [
    "### Translação da base-line\n",
    "\n",
    "É interessante transladar os pontos e fixar a base line no 0. Podemos fazer isso somando ~= -50 em cada um dos valores de toda a coleção de waveforms. Isso servirá para evitar problemas de 'height' no peak_finder()\n",
    "\n",
    "Análise estatística do base-line:\n",
    "No caso, tomaremos todos os dados antes do primeiro pulso de cada waveform e consideraremos o base-line como o mesmo para todos os waveforms\n",
    "\n",
    "#### Método:\n",
    "\n",
    "Para encontrar a base line, selecionaremos a parte mais à esquerda, antes do pulso. \n",
    "Esse pedaço é definido como fora de um valor arbitrário em torno do primeiro pico da waveform, que acaba não sofrendo com a questão da base line. Definimos desse jeito porque a função para calcular o contorno do pulso, além de demorar para ser computada, sofre com as questões do peak_finder acabar encontrando apenas um elemento\n"
   ]
  },
  {
   "cell_type": "code",
   "execution_count": 11,
   "metadata": {},
   "outputs": [
    {
     "name": "stdout",
     "output_type": "stream",
     "text": [
      "Wall time: 1.66 s\n"
     ]
    }
   ],
   "source": [
    "%%time\n",
    "\n",
    "height = 50 # esse parâmetro aqui é somente para efeito de encontrar os elementos da  base line a priori\n",
    "\n",
    "baseLines = [] # será uma lista de series\n",
    "for i in range( df.shape[1] - 1 ):\n",
    "    evento = df[ df.columns[i] ]\n",
    "    baseLines.append(baseLine_sample(evento, height))\n",
    "baseLines = pd.concat(baseLines)"
   ]
  },
  {
   "cell_type": "code",
   "execution_count": 12,
   "metadata": {},
   "outputs": [
    {
     "data": {
      "text/plain": [
       "0       56.0\n",
       "1       55.0\n",
       "2       53.0\n",
       "3       53.0\n",
       "4       54.0\n",
       "        ... \n",
       "1711    52.0\n",
       "1712    52.0\n",
       "1713    53.0\n",
       "1714    52.0\n",
       "1715    51.0\n",
       "Length: 641964, dtype: float64"
      ]
     },
     "execution_count": 12,
     "metadata": {},
     "output_type": "execute_result"
    }
   ],
   "source": [
    "baseLines"
   ]
  },
  {
   "cell_type": "code",
   "execution_count": 13,
   "metadata": {},
   "outputs": [
    {
     "data": {
      "text/plain": [
       "(52.27678966421793, 3.159833572851221)"
      ]
     },
     "execution_count": 13,
     "metadata": {},
     "output_type": "execute_result"
    }
   ],
   "source": [
    "baseLines.mean() , baseLines.std()"
   ]
  },
  {
   "cell_type": "markdown",
   "metadata": {},
   "source": [
    "\n",
    "\n"
   ]
  },
  {
   "cell_type": "code",
   "execution_count": 14,
   "metadata": {},
   "outputs": [
    {
     "data": {
      "text/plain": [
       "Text(0.5, 1.0, 'Plot evento original')"
      ]
     },
     "execution_count": 14,
     "metadata": {},
     "output_type": "execute_result"
    },
    {
     "data": {
      "image/png": "[encoded data removed]",
      "text/plain": [
       "<Figure size 432x288 with 1 Axes>"
      ]
     },
     "metadata": {
      "needs_background": "light"
     },
     "output_type": "display_data"
    }
   ],
   "source": [
    "plt.plot( df.index , df.event_30 )\n",
    "plt.title(\"Plot evento original\")"
   ]
  },
  {
   "cell_type": "markdown",
   "metadata": {},
   "source": [
    "#### Relocação do base-line\n",
    "Colocando o valor médio do base line como o parâmetro height do peak-finder, surpreendentemente temos um resultado que não incorre em erros na hora de achar os dois picos de cada waveform. No caso, ele acaba por achar dois picos (não mais nem menos) de maneira mais fácil e exata"
   ]
  },
  {
   "cell_type": "code",
   "execution_count": 15,
   "metadata": {},
   "outputs": [
    {
     "data": {
      "text/html": [
       "<div>\n",
       "<style scoped>\n",
       "    .dataframe tbody tr th:only-of-type {\n",
       "        vertical-align: middle;\n",
       "    }\n",
       "\n",
       "    .dataframe tbody tr th {\n",
       "        vertical-align: top;\n",
       "    }\n",
       "\n",
       "    .dataframe thead th {\n",
       "        text-align: right;\n",
       "    }\n",
       "</style>\n",
       "<table border=\"1\" class=\"dataframe\">\n",
       "  <thead>\n",
       "    <tr style=\"text-align: right;\">\n",
       "      <th></th>\n",
       "      <th>event_0</th>\n",
       "      <th>event_1</th>\n",
       "      <th>event_2</th>\n",
       "      <th>event_3</th>\n",
       "      <th>event_4</th>\n",
       "      <th>event_5</th>\n",
       "      <th>event_6</th>\n",
       "      <th>event_7</th>\n",
       "      <th>event_8</th>\n",
       "      <th>event_9</th>\n",
       "      <th>...</th>\n",
       "      <th>event_5546</th>\n",
       "      <th>event_5547</th>\n",
       "      <th>event_5548</th>\n",
       "      <th>event_5549</th>\n",
       "      <th>event_5550</th>\n",
       "      <th>event_5551</th>\n",
       "      <th>event_5552</th>\n",
       "      <th>event_5553</th>\n",
       "      <th>event_5554</th>\n",
       "      <th>time</th>\n",
       "    </tr>\n",
       "  </thead>\n",
       "  <tbody>\n",
       "    <tr>\n",
       "      <th>0</th>\n",
       "      <td>3.72321</td>\n",
       "      <td>3.72321</td>\n",
       "      <td>3.72321</td>\n",
       "      <td>0.72321</td>\n",
       "      <td>2.72321</td>\n",
       "      <td>2.72321</td>\n",
       "      <td>1.72321</td>\n",
       "      <td>1.72321</td>\n",
       "      <td>1.72321</td>\n",
       "      <td>1.72321</td>\n",
       "      <td>...</td>\n",
       "      <td>1.72321</td>\n",
       "      <td>0.72321</td>\n",
       "      <td>0.72321</td>\n",
       "      <td>-1.27679</td>\n",
       "      <td>-1.27679</td>\n",
       "      <td>-1.27679</td>\n",
       "      <td>-1.27679</td>\n",
       "      <td>-1.27679</td>\n",
       "      <td>-1.27679</td>\n",
       "      <td>0</td>\n",
       "    </tr>\n",
       "    <tr>\n",
       "      <th>1</th>\n",
       "      <td>2.72321</td>\n",
       "      <td>2.72321</td>\n",
       "      <td>2.72321</td>\n",
       "      <td>0.72321</td>\n",
       "      <td>2.72321</td>\n",
       "      <td>2.72321</td>\n",
       "      <td>1.72321</td>\n",
       "      <td>1.72321</td>\n",
       "      <td>1.72321</td>\n",
       "      <td>1.72321</td>\n",
       "      <td>...</td>\n",
       "      <td>-0.27679</td>\n",
       "      <td>-0.27679</td>\n",
       "      <td>-0.27679</td>\n",
       "      <td>-0.27679</td>\n",
       "      <td>-1.27679</td>\n",
       "      <td>-1.27679</td>\n",
       "      <td>-1.27679</td>\n",
       "      <td>-1.27679</td>\n",
       "      <td>-1.27679</td>\n",
       "      <td>1</td>\n",
       "    </tr>\n",
       "    <tr>\n",
       "      <th>2</th>\n",
       "      <td>0.72321</td>\n",
       "      <td>0.72321</td>\n",
       "      <td>0.72321</td>\n",
       "      <td>-1.27679</td>\n",
       "      <td>0.72321</td>\n",
       "      <td>0.72321</td>\n",
       "      <td>2.72321</td>\n",
       "      <td>2.72321</td>\n",
       "      <td>2.72321</td>\n",
       "      <td>2.72321</td>\n",
       "      <td>...</td>\n",
       "      <td>0.72321</td>\n",
       "      <td>0.72321</td>\n",
       "      <td>0.72321</td>\n",
       "      <td>-2.27679</td>\n",
       "      <td>2.72321</td>\n",
       "      <td>2.72321</td>\n",
       "      <td>2.72321</td>\n",
       "      <td>2.72321</td>\n",
       "      <td>2.72321</td>\n",
       "      <td>2</td>\n",
       "    </tr>\n",
       "    <tr>\n",
       "      <th>3</th>\n",
       "      <td>0.72321</td>\n",
       "      <td>0.72321</td>\n",
       "      <td>0.72321</td>\n",
       "      <td>-0.27679</td>\n",
       "      <td>0.72321</td>\n",
       "      <td>0.72321</td>\n",
       "      <td>1.72321</td>\n",
       "      <td>1.72321</td>\n",
       "      <td>1.72321</td>\n",
       "      <td>1.72321</td>\n",
       "      <td>...</td>\n",
       "      <td>0.72321</td>\n",
       "      <td>0.72321</td>\n",
       "      <td>0.72321</td>\n",
       "      <td>-2.27679</td>\n",
       "      <td>2.72321</td>\n",
       "      <td>2.72321</td>\n",
       "      <td>2.72321</td>\n",
       "      <td>2.72321</td>\n",
       "      <td>2.72321</td>\n",
       "      <td>3</td>\n",
       "    </tr>\n",
       "    <tr>\n",
       "      <th>4</th>\n",
       "      <td>1.72321</td>\n",
       "      <td>1.72321</td>\n",
       "      <td>1.72321</td>\n",
       "      <td>0.72321</td>\n",
       "      <td>2.72321</td>\n",
       "      <td>2.72321</td>\n",
       "      <td>2.72321</td>\n",
       "      <td>2.72321</td>\n",
       "      <td>2.72321</td>\n",
       "      <td>2.72321</td>\n",
       "      <td>...</td>\n",
       "      <td>-1.27679</td>\n",
       "      <td>0.72321</td>\n",
       "      <td>0.72321</td>\n",
       "      <td>-0.27679</td>\n",
       "      <td>1.72321</td>\n",
       "      <td>1.72321</td>\n",
       "      <td>1.72321</td>\n",
       "      <td>1.72321</td>\n",
       "      <td>1.72321</td>\n",
       "      <td>4</td>\n",
       "    </tr>\n",
       "    <tr>\n",
       "      <th>...</th>\n",
       "      <td>...</td>\n",
       "      <td>...</td>\n",
       "      <td>...</td>\n",
       "      <td>...</td>\n",
       "      <td>...</td>\n",
       "      <td>...</td>\n",
       "      <td>...</td>\n",
       "      <td>...</td>\n",
       "      <td>...</td>\n",
       "      <td>...</td>\n",
       "      <td>...</td>\n",
       "      <td>...</td>\n",
       "      <td>...</td>\n",
       "      <td>...</td>\n",
       "      <td>...</td>\n",
       "      <td>...</td>\n",
       "      <td>...</td>\n",
       "      <td>...</td>\n",
       "      <td>...</td>\n",
       "      <td>...</td>\n",
       "      <td>...</td>\n",
       "    </tr>\n",
       "    <tr>\n",
       "      <th>2495</th>\n",
       "      <td>0.72321</td>\n",
       "      <td>0.72321</td>\n",
       "      <td>0.72321</td>\n",
       "      <td>1.72321</td>\n",
       "      <td>2.72321</td>\n",
       "      <td>2.72321</td>\n",
       "      <td>-30.27679</td>\n",
       "      <td>-30.27679</td>\n",
       "      <td>-30.27679</td>\n",
       "      <td>-30.27679</td>\n",
       "      <td>...</td>\n",
       "      <td>1.72321</td>\n",
       "      <td>-2.27679</td>\n",
       "      <td>-2.27679</td>\n",
       "      <td>-2.27679</td>\n",
       "      <td>-0.27679</td>\n",
       "      <td>-0.27679</td>\n",
       "      <td>-0.27679</td>\n",
       "      <td>-0.27679</td>\n",
       "      <td>-0.27679</td>\n",
       "      <td>2495</td>\n",
       "    </tr>\n",
       "    <tr>\n",
       "      <th>2496</th>\n",
       "      <td>2.72321</td>\n",
       "      <td>2.72321</td>\n",
       "      <td>2.72321</td>\n",
       "      <td>1.72321</td>\n",
       "      <td>3.72321</td>\n",
       "      <td>3.72321</td>\n",
       "      <td>-38.27679</td>\n",
       "      <td>-38.27679</td>\n",
       "      <td>-38.27679</td>\n",
       "      <td>-38.27679</td>\n",
       "      <td>...</td>\n",
       "      <td>-2.27679</td>\n",
       "      <td>-1.27679</td>\n",
       "      <td>-1.27679</td>\n",
       "      <td>0.72321</td>\n",
       "      <td>-1.27679</td>\n",
       "      <td>-1.27679</td>\n",
       "      <td>-1.27679</td>\n",
       "      <td>-1.27679</td>\n",
       "      <td>-1.27679</td>\n",
       "      <td>2496</td>\n",
       "    </tr>\n",
       "    <tr>\n",
       "      <th>2497</th>\n",
       "      <td>-0.27679</td>\n",
       "      <td>-0.27679</td>\n",
       "      <td>-0.27679</td>\n",
       "      <td>0.72321</td>\n",
       "      <td>0.72321</td>\n",
       "      <td>0.72321</td>\n",
       "      <td>-15.27679</td>\n",
       "      <td>-15.27679</td>\n",
       "      <td>-15.27679</td>\n",
       "      <td>-15.27679</td>\n",
       "      <td>...</td>\n",
       "      <td>0.72321</td>\n",
       "      <td>-1.27679</td>\n",
       "      <td>-1.27679</td>\n",
       "      <td>0.72321</td>\n",
       "      <td>-0.27679</td>\n",
       "      <td>-0.27679</td>\n",
       "      <td>-0.27679</td>\n",
       "      <td>-0.27679</td>\n",
       "      <td>-0.27679</td>\n",
       "      <td>2497</td>\n",
       "    </tr>\n",
       "    <tr>\n",
       "      <th>2498</th>\n",
       "      <td>-0.27679</td>\n",
       "      <td>-0.27679</td>\n",
       "      <td>-0.27679</td>\n",
       "      <td>0.72321</td>\n",
       "      <td>1.72321</td>\n",
       "      <td>1.72321</td>\n",
       "      <td>-1.27679</td>\n",
       "      <td>-1.27679</td>\n",
       "      <td>-1.27679</td>\n",
       "      <td>-1.27679</td>\n",
       "      <td>...</td>\n",
       "      <td>-0.27679</td>\n",
       "      <td>0.72321</td>\n",
       "      <td>0.72321</td>\n",
       "      <td>-0.27679</td>\n",
       "      <td>-0.27679</td>\n",
       "      <td>-0.27679</td>\n",
       "      <td>-0.27679</td>\n",
       "      <td>-0.27679</td>\n",
       "      <td>-0.27679</td>\n",
       "      <td>2498</td>\n",
       "    </tr>\n",
       "    <tr>\n",
       "      <th>2499</th>\n",
       "      <td>0.72321</td>\n",
       "      <td>0.72321</td>\n",
       "      <td>0.72321</td>\n",
       "      <td>-0.27679</td>\n",
       "      <td>2.72321</td>\n",
       "      <td>2.72321</td>\n",
       "      <td>-5.27679</td>\n",
       "      <td>-5.27679</td>\n",
       "      <td>-5.27679</td>\n",
       "      <td>-5.27679</td>\n",
       "      <td>...</td>\n",
       "      <td>0.72321</td>\n",
       "      <td>-0.27679</td>\n",
       "      <td>-0.27679</td>\n",
       "      <td>-0.27679</td>\n",
       "      <td>1.72321</td>\n",
       "      <td>1.72321</td>\n",
       "      <td>1.72321</td>\n",
       "      <td>1.72321</td>\n",
       "      <td>1.72321</td>\n",
       "      <td>2499</td>\n",
       "    </tr>\n",
       "  </tbody>\n",
       "</table>\n",
       "<p>2500 rows × 5556 columns</p>\n",
       "</div>"
      ],
      "text/plain": [
       "      event_0  event_1  event_2  event_3  event_4  event_5   event_6  \\\n",
       "0     3.72321  3.72321  3.72321  0.72321  2.72321  2.72321   1.72321   \n",
       "1     2.72321  2.72321  2.72321  0.72321  2.72321  2.72321   1.72321   \n",
       "2     0.72321  0.72321  0.72321 -1.27679  0.72321  0.72321   2.72321   \n",
       "3     0.72321  0.72321  0.72321 -0.27679  0.72321  0.72321   1.72321   \n",
       "4     1.72321  1.72321  1.72321  0.72321  2.72321  2.72321   2.72321   \n",
       "...       ...      ...      ...      ...      ...      ...       ...   \n",
       "2495  0.72321  0.72321  0.72321  1.72321  2.72321  2.72321 -30.27679   \n",
       "2496  2.72321  2.72321  2.72321  1.72321  3.72321  3.72321 -38.27679   \n",
       "2497 -0.27679 -0.27679 -0.27679  0.72321  0.72321  0.72321 -15.27679   \n",
       "2498 -0.27679 -0.27679 -0.27679  0.72321  1.72321  1.72321  -1.27679   \n",
       "2499  0.72321  0.72321  0.72321 -0.27679  2.72321  2.72321  -5.27679   \n",
       "\n",
       "       event_7   event_8   event_9  ...  event_5546  event_5547  event_5548  \\\n",
       "0      1.72321   1.72321   1.72321  ...     1.72321     0.72321     0.72321   \n",
       "1      1.72321   1.72321   1.72321  ...    -0.27679    -0.27679    -0.27679   \n",
       "2      2.72321   2.72321   2.72321  ...     0.72321     0.72321     0.72321   \n",
       "3      1.72321   1.72321   1.72321  ...     0.72321     0.72321     0.72321   \n",
       "4      2.72321   2.72321   2.72321  ...    -1.27679     0.72321     0.72321   \n",
       "...        ...       ...       ...  ...         ...         ...         ...   \n",
       "2495 -30.27679 -30.27679 -30.27679  ...     1.72321    -2.27679    -2.27679   \n",
       "2496 -38.27679 -38.27679 -38.27679  ...    -2.27679    -1.27679    -1.27679   \n",
       "2497 -15.27679 -15.27679 -15.27679  ...     0.72321    -1.27679    -1.27679   \n",
       "2498  -1.27679  -1.27679  -1.27679  ...    -0.27679     0.72321     0.72321   \n",
       "2499  -5.27679  -5.27679  -5.27679  ...     0.72321    -0.27679    -0.27679   \n",
       "\n",
       "      event_5549  event_5550  event_5551  event_5552  event_5553  event_5554  \\\n",
       "0       -1.27679    -1.27679    -1.27679    -1.27679    -1.27679    -1.27679   \n",
       "1       -0.27679    -1.27679    -1.27679    -1.27679    -1.27679    -1.27679   \n",
       "2       -2.27679     2.72321     2.72321     2.72321     2.72321     2.72321   \n",
       "3       -2.27679     2.72321     2.72321     2.72321     2.72321     2.72321   \n",
       "4       -0.27679     1.72321     1.72321     1.72321     1.72321     1.72321   \n",
       "...          ...         ...         ...         ...         ...         ...   \n",
       "2495    -2.27679    -0.27679    -0.27679    -0.27679    -0.27679    -0.27679   \n",
       "2496     0.72321    -1.27679    -1.27679    -1.27679    -1.27679    -1.27679   \n",
       "2497     0.72321    -0.27679    -0.27679    -0.27679    -0.27679    -0.27679   \n",
       "2498    -0.27679    -0.27679    -0.27679    -0.27679    -0.27679    -0.27679   \n",
       "2499    -0.27679     1.72321     1.72321     1.72321     1.72321     1.72321   \n",
       "\n",
       "      time  \n",
       "0        0  \n",
       "1        1  \n",
       "2        2  \n",
       "3        3  \n",
       "4        4  \n",
       "...    ...  \n",
       "2495  2495  \n",
       "2496  2496  \n",
       "2497  2497  \n",
       "2498  2498  \n",
       "2499  2499  \n",
       "\n",
       "[2500 rows x 5556 columns]"
      ]
     },
     "execution_count": 15,
     "metadata": {},
     "output_type": "execute_result"
    }
   ],
   "source": [
    "'''\n",
    "Alterando os valores e recolocando na base line ~= 0\n",
    "'''\n",
    "\n",
    "df.iloc[ :  , : waveform.shape[1] - 1 ] -= baseLines.mean() # soma ~= -50 em todo o df, exceto pela última coluna 'time'\n",
    "df"
   ]
  },
  {
   "cell_type": "code",
   "execution_count": 16,
   "metadata": {},
   "outputs": [
    {
     "data": {
      "text/plain": [
       "52.27678966421793"
      ]
     },
     "execution_count": 16,
     "metadata": {},
     "output_type": "execute_result"
    },
    {
     "data": {
      "image/png": "[encoded data removed]",
      "text/plain": [
       "<Figure size 432x288 with 1 Axes>"
      ]
     },
     "metadata": {
      "needs_background": "light"
     },
     "output_type": "display_data"
    }
   ],
   "source": [
    "plt.title(\"Plot evento transladado\")\n",
    "plt.plot( df.index , df.event_30 )\n",
    "baseLines.mean()"
   ]
  },
  {
   "cell_type": "markdown",
   "metadata": {},
   "source": [
    "#### Loop de check do peak_finder\n",
    "Esse loop checa se existem erros na obtenção dos picos através da função peak-finder, quando peaks != 2"
   ]
  },
  {
   "cell_type": "code",
   "execution_count": 17,
   "metadata": {},
   "outputs": [
    {
     "name": "stdout",
     "output_type": "stream",
     "text": [
      "\n",
      "loop finalizado com 0 erros\n",
      "Wall time: 6.58 s\n"
     ]
    }
   ],
   "source": [
    "%%time\n",
    "peaks_em_x = []\n",
    "counter = 0\n",
    "for i in range(df.shape[1] - 1):\n",
    "    evento = df[ df.columns[i] ]\n",
    "    _ = peak_finder(evento, height = baseLines.mean())\n",
    "    if len(_) != 2:\n",
    "        print(f'problema no {evento.name} com tamanho = {len(_)} e picos em {_}')\n",
    "        counter += 1\n",
    "    peaks_em_x.append(_)\n",
    "\n",
    "print(f'\\nloop finalizado com {counter} erros')"
   ]
  },
  {
   "cell_type": "code",
   "execution_count": null,
   "metadata": {},
   "outputs": [],
   "source": []
  },
  {
   "cell_type": "markdown",
   "metadata": {},
   "source": [
    "## Espectro de amplitude\n",
    "Selecionamos os picos, no eixo y, em cada pulso e plotamos um histograma"
   ]
  },
  {
   "cell_type": "code",
   "execution_count": 18,
   "metadata": {},
   "outputs": [
    {
     "data": {
      "text/plain": [
       "array([  94, 1111], dtype=int64)"
      ]
     },
     "execution_count": 18,
     "metadata": {},
     "output_type": "execute_result"
    }
   ],
   "source": [
    "peaks_em_x[0]"
   ]
  },
  {
   "cell_type": "markdown",
   "metadata": {},
   "source": [
    "## Observação\n",
    "\n",
    "A célula abaixo mostra uma Series que foi recortada do df original. Ela contem exatamente os valores em x e y do pico do evento selecionado.\n",
    "\n",
    "Todavia, eu não consegui pensar num método tão simples para retirar somente a primeira linha, porque isto é uma Series (só tem a coluna da direita) e não um Data Frame. Salvar o valor da coordenada x, embora não tão necessário para nossos propósitos agora, pode ser útil no futuro.\n",
    "\n",
    "Eu pensei em duas soluções, que na verdade são três. \n",
    "\n",
    "1) Transformar num data frame cada uma das series e guardar os valores\n",
    "\n",
    "2) Resgatar o índice (a coordenada x) manualmente\n",
    "\n",
    "3) Fazer alguma dessas duas coisas em alguma parte anterior do código\n",
    "\n",
    "Acabou que eu pensei melhor e decidi por concatenar todos esses valores em apenas uma única Series, preparando os elementos para o plot do espectro de amplitude. Depois disso, separamos cada um em seu respectivo pulso."
   ]
  },
  {
   "cell_type": "code",
   "execution_count": 19,
   "metadata": {},
   "outputs": [
    {
     "data": {
      "text/plain": [
       "94     -179.27679\n",
       "1111   -179.27679\n",
       "Name: event_0, dtype: float64"
      ]
     },
     "execution_count": 19,
     "metadata": {},
     "output_type": "execute_result"
    }
   ],
   "source": [
    "df.iloc[: , 0][peaks_em_x[0]]"
   ]
  },
  {
   "cell_type": "code",
   "execution_count": 20,
   "metadata": {},
   "outputs": [
    {
     "name": "stderr",
     "output_type": "stream",
     "text": [
      "<timed exec>:1: DeprecationWarning: The default dtype for empty Series will be 'object' instead of 'float64' in a future version. Specify a dtype explicitly to silence this warning.\n"
     ]
    },
    {
     "name": "stdout",
     "output_type": "stream",
     "text": [
      "não foram detectados problemas na quantidade de picos\n",
      "Wall time: 7.71 s\n"
     ]
    }
   ],
   "source": [
    "%%time\n",
    "peaks_em_xy = pd.Series([])\n",
    "for i in range( df.shape[1] - 1 ):\n",
    "    evento = df[ df.columns[i] ]\n",
    "    #print(peak_finder_xy(evento, height = baseLines.mean()))\n",
    "    _ = peak_finder_xy(evento, height = baseLines.mean())\n",
    "    peaks_em_xy = pd.concat([  peaks_em_xy, _  ])\n",
    "if len(peaks_em_xy) != 2*(df.shape[1] - 1): # se ele reconhe algo diferente de dois picos por waveform:\n",
    "    print(f'existe um erro nos picos, pois aparece(m) {len(peaks_em_xy) - 2*(df.shape[1] - 1)} pico(s) a mais')\n",
    "else:\n",
    "    print('não foram detectados problemas na quantidade de picos')"
   ]
  },
  {
   "cell_type": "markdown",
   "metadata": {},
   "source": [
    "#### Esses são os picos em cooordenadas de xy"
   ]
  },
  {
   "cell_type": "code",
   "execution_count": 21,
   "metadata": {},
   "outputs": [
    {
     "data": {
      "text/html": [
       "<div>\n",
       "<style scoped>\n",
       "    .dataframe tbody tr th:only-of-type {\n",
       "        vertical-align: middle;\n",
       "    }\n",
       "\n",
       "    .dataframe tbody tr th {\n",
       "        vertical-align: top;\n",
       "    }\n",
       "\n",
       "    .dataframe thead th {\n",
       "        text-align: right;\n",
       "    }\n",
       "</style>\n",
       "<table border=\"1\" class=\"dataframe\">\n",
       "  <thead>\n",
       "    <tr style=\"text-align: right;\">\n",
       "      <th></th>\n",
       "      <th>x</th>\n",
       "      <th>y</th>\n",
       "    </tr>\n",
       "  </thead>\n",
       "  <tbody>\n",
       "    <tr>\n",
       "      <th>0</th>\n",
       "      <td>94</td>\n",
       "      <td>-179.27679</td>\n",
       "    </tr>\n",
       "    <tr>\n",
       "      <th>1</th>\n",
       "      <td>1111</td>\n",
       "      <td>-179.27679</td>\n",
       "    </tr>\n",
       "    <tr>\n",
       "      <th>2</th>\n",
       "      <td>94</td>\n",
       "      <td>-179.27679</td>\n",
       "    </tr>\n",
       "    <tr>\n",
       "      <th>3</th>\n",
       "      <td>1111</td>\n",
       "      <td>-179.27679</td>\n",
       "    </tr>\n",
       "    <tr>\n",
       "      <th>4</th>\n",
       "      <td>94</td>\n",
       "      <td>-179.27679</td>\n",
       "    </tr>\n",
       "    <tr>\n",
       "      <th>...</th>\n",
       "      <td>...</td>\n",
       "      <td>...</td>\n",
       "    </tr>\n",
       "    <tr>\n",
       "      <th>11105</th>\n",
       "      <td>1736</td>\n",
       "      <td>-179.27679</td>\n",
       "    </tr>\n",
       "    <tr>\n",
       "      <th>11106</th>\n",
       "      <td>93</td>\n",
       "      <td>-56.27679</td>\n",
       "    </tr>\n",
       "    <tr>\n",
       "      <th>11107</th>\n",
       "      <td>1736</td>\n",
       "      <td>-179.27679</td>\n",
       "    </tr>\n",
       "    <tr>\n",
       "      <th>11108</th>\n",
       "      <td>93</td>\n",
       "      <td>-56.27679</td>\n",
       "    </tr>\n",
       "    <tr>\n",
       "      <th>11109</th>\n",
       "      <td>1736</td>\n",
       "      <td>-179.27679</td>\n",
       "    </tr>\n",
       "  </tbody>\n",
       "</table>\n",
       "<p>11110 rows × 2 columns</p>\n",
       "</div>"
      ],
      "text/plain": [
       "          x          y\n",
       "0        94 -179.27679\n",
       "1      1111 -179.27679\n",
       "2        94 -179.27679\n",
       "3      1111 -179.27679\n",
       "4        94 -179.27679\n",
       "...     ...        ...\n",
       "11105  1736 -179.27679\n",
       "11106    93  -56.27679\n",
       "11107  1736 -179.27679\n",
       "11108    93  -56.27679\n",
       "11109  1736 -179.27679\n",
       "\n",
       "[11110 rows x 2 columns]"
      ]
     },
     "execution_count": 21,
     "metadata": {},
     "output_type": "execute_result"
    }
   ],
   "source": [
    "peaks_em_xy = pd.DataFrame(peaks_em_xy).reset_index()\n",
    "peaks_em_xy.columns = ['x', 'y']\n",
    "peaks_em_xy"
   ]
  },
  {
   "cell_type": "markdown",
   "metadata": {},
   "source": [
    "#### Separar os picos em relação ao primeiro e segundo pulso"
   ]
  },
  {
   "cell_type": "code",
   "execution_count": 22,
   "metadata": {},
   "outputs": [
    {
     "data": {
      "text/html": [
       "<div>\n",
       "<style scoped>\n",
       "    .dataframe tbody tr th:only-of-type {\n",
       "        vertical-align: middle;\n",
       "    }\n",
       "\n",
       "    .dataframe tbody tr th {\n",
       "        vertical-align: top;\n",
       "    }\n",
       "\n",
       "    .dataframe thead th {\n",
       "        text-align: right;\n",
       "    }\n",
       "</style>\n",
       "<table border=\"1\" class=\"dataframe\">\n",
       "  <thead>\n",
       "    <tr style=\"text-align: right;\">\n",
       "      <th></th>\n",
       "      <th>x</th>\n",
       "      <th>y</th>\n",
       "    </tr>\n",
       "  </thead>\n",
       "  <tbody>\n",
       "    <tr>\n",
       "      <th>0</th>\n",
       "      <td>94</td>\n",
       "      <td>-179.27679</td>\n",
       "    </tr>\n",
       "    <tr>\n",
       "      <th>2</th>\n",
       "      <td>94</td>\n",
       "      <td>-179.27679</td>\n",
       "    </tr>\n",
       "    <tr>\n",
       "      <th>4</th>\n",
       "      <td>94</td>\n",
       "      <td>-179.27679</td>\n",
       "    </tr>\n",
       "    <tr>\n",
       "      <th>6</th>\n",
       "      <td>94</td>\n",
       "      <td>-179.27679</td>\n",
       "    </tr>\n",
       "    <tr>\n",
       "      <th>8</th>\n",
       "      <td>94</td>\n",
       "      <td>-179.27679</td>\n",
       "    </tr>\n",
       "    <tr>\n",
       "      <th>10</th>\n",
       "      <td>94</td>\n",
       "      <td>-179.27679</td>\n",
       "    </tr>\n",
       "    <tr>\n",
       "      <th>12</th>\n",
       "      <td>94</td>\n",
       "      <td>-140.27679</td>\n",
       "    </tr>\n",
       "    <tr>\n",
       "      <th>14</th>\n",
       "      <td>94</td>\n",
       "      <td>-140.27679</td>\n",
       "    </tr>\n",
       "    <tr>\n",
       "      <th>16</th>\n",
       "      <td>94</td>\n",
       "      <td>-140.27679</td>\n",
       "    </tr>\n",
       "    <tr>\n",
       "      <th>18</th>\n",
       "      <td>94</td>\n",
       "      <td>-140.27679</td>\n",
       "    </tr>\n",
       "  </tbody>\n",
       "</table>\n",
       "</div>"
      ],
      "text/plain": [
       "     x          y\n",
       "0   94 -179.27679\n",
       "2   94 -179.27679\n",
       "4   94 -179.27679\n",
       "6   94 -179.27679\n",
       "8   94 -179.27679\n",
       "10  94 -179.27679\n",
       "12  94 -140.27679\n",
       "14  94 -140.27679\n",
       "16  94 -140.27679\n",
       "18  94 -140.27679"
      ]
     },
     "execution_count": 22,
     "metadata": {},
     "output_type": "execute_result"
    }
   ],
   "source": [
    "'''\n",
    "Separar os picos em relação ao primeiro e segundo pulso\n",
    "'''\n",
    "\n",
    "peaks_0,   peaks_1   =   peaks_em_xy.query('index % 2 == 0'),   peaks_em_xy.query('index % 2 != 0')\n",
    "peaks_0.head(10)"
   ]
  },
  {
   "cell_type": "code",
   "execution_count": 23,
   "metadata": {},
   "outputs": [
    {
     "data": {
      "image/png": "[encoded data removed]",
      "text/plain": [
       "<Figure size 432x288 with 1 Axes>"
      ]
     },
     "metadata": {
      "needs_background": "light"
     },
     "output_type": "display_data"
    }
   ],
   "source": [
    "sns_plot = sns.histplot( peaks_0.y.round() )\n",
    "plt.savefig(\"espectro_carga_pulso_0.png\", dpi = 150, transparent = True)"
   ]
  },
  {
   "cell_type": "code",
   "execution_count": 24,
   "metadata": {},
   "outputs": [
    {
     "data": {
      "text/plain": [
       "-179.0    3788\n",
       "-136.0      36\n",
       "-119.0      30\n",
       "-151.0      26\n",
       "-158.0      25\n",
       "          ... \n",
       "-77.0        5\n",
       "-71.0        4\n",
       "-55.0        4\n",
       "-53.0        1\n",
       "-54.0        1\n",
       "Name: y, Length: 127, dtype: int64"
      ]
     },
     "execution_count": 24,
     "metadata": {},
     "output_type": "execute_result"
    }
   ],
   "source": [
    "peaks_0.y.round().value_counts()"
   ]
  },
  {
   "cell_type": "code",
   "execution_count": 25,
   "metadata": {},
   "outputs": [
    {
     "data": {
      "image/png": "[encoded data removed]",
      "text/plain": [
       "<Figure size 432x288 with 1 Axes>"
      ]
     },
     "metadata": {
      "needs_background": "light"
     },
     "output_type": "display_data"
    }
   ],
   "source": [
    "sns.histplot( peaks_1.y.round() )\n",
    "plt.savefig(\"espectro_carga_pulso_1.png\", dpi = 150, transparent = True)"
   ]
  },
  {
   "cell_type": "code",
   "execution_count": 26,
   "metadata": {},
   "outputs": [
    {
     "data": {
      "text/plain": [
       "-179.0    2107\n",
       "-73.0       69\n",
       "-55.0       60\n",
       "-58.0       57\n",
       "-59.0       51\n",
       "          ... \n",
       "-166.0      11\n",
       "-176.0      11\n",
       "-137.0      10\n",
       "-158.0      10\n",
       "-151.0      10\n",
       "Name: y, Length: 128, dtype: int64"
      ]
     },
     "execution_count": 26,
     "metadata": {},
     "output_type": "execute_result"
    }
   ],
   "source": [
    "peaks_1.y.round().value_counts()"
   ]
  },
  {
   "cell_type": "markdown",
   "metadata": {},
   "source": [
    "#### Procuramos agora os contornos dos pulsos"
   ]
  },
  {
   "cell_type": "code",
   "execution_count": 27,
   "metadata": {},
   "outputs": [
    {
     "name": "stdout",
     "output_type": "stream",
     "text": [
      "Wall time: 6.72 s\n"
     ]
    }
   ],
   "source": [
    "%%time\n",
    "\n",
    "'''\n",
    "Esse loop serve para olhar, em cada waveform do Data Frame original, o contorno ao redor de cada pulso, selecionado através do pico e das larguras arbitradas \n",
    "'''\n",
    "\n",
    "contorno_0 = []\n",
    "contorno_1 = []\n",
    "\n",
    "for i in range( df.shape[1] - 1 ): \n",
    "    \n",
    "    evento = df[ df.columns[i] ]\n",
    "    s0 = evento.where( (evento.index >= peaks_0.x.iloc[i] - VA_1) & (evento.index <= peaks_0.x.iloc[i] + VA_2) ).dropna()\n",
    "    s1 = evento.where( (evento.index >= peaks_1.x.iloc[i] - VA_1) & (evento.index <= peaks_1.x.iloc[i] + VA_2) ).dropna()\n",
    "    \n",
    "    contorno_0.append(s0)\n",
    "    contorno_1.append(s1)"
   ]
  },
  {
   "cell_type": "markdown",
   "metadata": {},
   "source": [
    "#### Checando os tamanhos dos contornos e a quantidade de elementos em cada sample"
   ]
  },
  {
   "cell_type": "code",
   "execution_count": 28,
   "metadata": {},
   "outputs": [
    {
     "name": "stdout",
     "output_type": "stream",
     "text": [
      "Wall time: 7 ms\n"
     ]
    }
   ],
   "source": [
    "%%time\n",
    "'''\n",
    "Loop de checagem dos contornos\n",
    "'''\n",
    "\n",
    "if ( len(contorno_0) and len(contorno_1) ) != df.shape[1] - 1:\n",
    "    _  = abs( len(contorno_0) - len(contorno_1) )\n",
    "    __ = 'primeiro' if len(contorno_0) > len(contorno_1) else 'segundo'\n",
    "    print(f'Os contornos não batem no tamanho. Existe(m) {_} a mais no {__}')\n",
    "\n",
    "for elemento in (contorno_0 or contorno_1):\n",
    "    if len(elemento) != VA_1 + VA_2 + 1:\n",
    "        print(f'Erro no {elemento.name}')"
   ]
  },
  {
   "cell_type": "markdown",
   "metadata": {},
   "source": [
    "# Integração do pulso \n",
    "\n",
    "Integramos o pulso para obter a carga gerada com ele. Utilizamos a integração pelo método de Simpson."
   ]
  },
  {
   "cell_type": "code",
   "execution_count": 29,
   "metadata": {},
   "outputs": [
    {
     "name": "stdout",
     "output_type": "stream",
     "text": [
      "Wall time: 481 ms\n"
     ]
    }
   ],
   "source": [
    "%%time\n",
    "'''\n",
    "Calculando as integrais por Simpson\n",
    "'''\n",
    "\n",
    "integrais_0 = np.array([])\n",
    "integrais_1 = np.array([])\n",
    "\n",
    "for i in range(df.shape[1] - 1):\n",
    "    integrais_0 = np.append(  integrais_0, -1*simps(contorno_0[i], dx = 1)  )\n",
    "    integrais_1 = np.append(  integrais_1, -1*simps(contorno_1[i], dx = 1)  )\n",
    "    \n",
    "integrais_0 = pd.Series(integrais_0, name ='pulso_0')\n",
    "integrais_1 = pd.Series(integrais_1, name ='pulso_1')"
   ]
  },
  {
   "cell_type": "code",
   "execution_count": 30,
   "metadata": {},
   "outputs": [
    {
     "data": {
      "text/plain": [
       "107.244403     1\n",
       "116.577736     3\n",
       "122.911070     1\n",
       "131.911070     1\n",
       "132.244403     2\n",
       "              ..\n",
       "1698.244403    1\n",
       "1698.577736    1\n",
       "1732.577736    1\n",
       "1734.244403    1\n",
       "1769.911070    1\n",
       "Name: pulso_0, Length: 2913, dtype: int64"
      ]
     },
     "execution_count": 30,
     "metadata": {},
     "output_type": "execute_result"
    }
   ],
   "source": [
    "integrais_0.value_counts().sort_index()"
   ]
  },
  {
   "cell_type": "markdown",
   "metadata": {},
   "source": [
    "### Integral por método alternativo\n",
    "\n",
    "Se quiser comparar com uma integral mais simples, aqui está. O resultado dá praticamente o mesmo do que o método de Simpson (sendo que este é mais confiável)"
   ]
  },
  {
   "cell_type": "code",
   "execution_count": 31,
   "metadata": {},
   "outputs": [
    {
     "name": "stdout",
     "output_type": "stream",
     "text": [
      "Wall time: 209 ms\n"
     ]
    },
    {
     "data": {
      "text/plain": [
       "106.41107     1\n",
       "114.41107     3\n",
       "122.91107     1\n",
       "127.41107     1\n",
       "133.91107     2\n",
       "             ..\n",
       "1667.91107    1\n",
       "1678.41107    1\n",
       "1700.41107    1\n",
       "1735.91107    1\n",
       "1778.41107    1\n",
       "Name: pulso_0, Length: 2031, dtype: int64"
      ]
     },
     "execution_count": 31,
     "metadata": {},
     "output_type": "execute_result"
    }
   ],
   "source": [
    "%%time\n",
    "\n",
    "'''\n",
    "Regra do trapézio\n",
    "'''\n",
    "\n",
    "integrais_trapezio_0 = np.array([])\n",
    "\n",
    "for i in range(df.shape[1] - 1): #df.shape[1] - 1\n",
    "    integrais_trapezio_0 = np.append(  integrais_trapezio_0, -1*trapz(contorno_0[i], dx = 1)  )\n",
    "    \n",
    "integrais_trapezio_0 = pd.Series(integrais_trapezio_0, name = 'pulso_0')\n",
    "integrais_trapezio_0.value_counts().sort_index()"
   ]
  },
  {
   "cell_type": "code",
   "execution_count": 32,
   "metadata": {},
   "outputs": [
    {
     "name": "stdout",
     "output_type": "stream",
     "text": [
      "Wall time: 3.48 s\n"
     ]
    }
   ],
   "source": [
    "%%time\n",
    "\n",
    "'''\n",
    "Regra mais simples\n",
    "'''\n",
    "\n",
    "integrais_simples_0 = np.array([])\n",
    "\n",
    "for i in range(df.shape[1] - 1): #df.shape[1] - 1\n",
    "    integrais_simples_0 = np.append(  integrais_simples_0, -1*integral_simples(contorno_0[i], dx = 1)  )\n",
    "    \n",
    "integrais_simples_0 = pd.Series(integrais_simples_0, name = 'pulso_0')"
   ]
  },
  {
   "cell_type": "code",
   "execution_count": 33,
   "metadata": {},
   "outputs": [
    {
     "data": {
      "text/plain": [
       "105.187859     1\n",
       "113.187859     3\n",
       "124.187859     1\n",
       "126.187859     1\n",
       "132.187859     2\n",
       "              ..\n",
       "1669.187859    1\n",
       "1676.187859    1\n",
       "1703.187859    1\n",
       "1737.187859    1\n",
       "1779.187859    1\n",
       "Name: pulso_0, Length: 1464, dtype: int64"
      ]
     },
     "execution_count": 33,
     "metadata": {},
     "output_type": "execute_result"
    }
   ],
   "source": [
    "integrais_simples_0.value_counts().sort_index()"
   ]
  },
  {
   "cell_type": "code",
   "execution_count": 34,
   "metadata": {},
   "outputs": [
    {
     "data": {
      "text/plain": [
       "0.056544       1\n",
       "0.056544       6\n",
       "0.056544       2\n",
       "0.056544      10\n",
       "0.056544       1\n",
       "              ..\n",
       "73.943456      1\n",
       "78.610123      1\n",
       "103.943456     1\n",
       "111.610123     1\n",
       "116.276790     1\n",
       "Name: pulso_0, Length: 1430, dtype: int64"
      ]
     },
     "execution_count": 34,
     "metadata": {},
     "output_type": "execute_result"
    }
   ],
   "source": [
    "abs(integrais_0 - integrais_simples_0).value_counts().sort_index()"
   ]
  },
  {
   "cell_type": "code",
   "execution_count": 35,
   "metadata": {},
   "outputs": [
    {
     "data": {
      "text/plain": [
       "Text(0.5, 1.0, 'Integrais simples')"
      ]
     },
     "execution_count": 35,
     "metadata": {},
     "output_type": "execute_result"
    },
    {
     "data": {
      "image/png": "[encoded data removed]",
      "text/plain": [
       "<Figure size 432x288 with 1 Axes>"
      ]
     },
     "metadata": {
      "needs_background": "light"
     },
     "output_type": "display_data"
    }
   ],
   "source": [
    "sns.histplot(data = integrais_simples_0).set_title(\"Integrais simples\")"
   ]
  },
  {
   "cell_type": "code",
   "execution_count": 36,
   "metadata": {},
   "outputs": [
    {
     "data": {
      "text/plain": [
       "Text(0.5, 1.0, 'Integrais por trapézio')"
      ]
     },
     "execution_count": 36,
     "metadata": {},
     "output_type": "execute_result"
    },
    {
     "data": {
      "image/png": "[encoded data removed]",
      "text/plain": [
       "<Figure size 432x288 with 1 Axes>"
      ]
     },
     "metadata": {
      "needs_background": "light"
     },
     "output_type": "display_data"
    }
   ],
   "source": [
    "sns.histplot(data = integrais_trapezio_0).set_title(\"Integrais por trapézio\")"
   ]
  },
  {
   "cell_type": "code",
   "execution_count": 37,
   "metadata": {},
   "outputs": [
    {
     "data": {
      "image/png": "[encoded data removed]",
      "text/plain": [
       "<Figure size 432x288 with 1 Axes>"
      ]
     },
     "metadata": {
      "needs_background": "light"
     },
     "output_type": "display_data"
    }
   ],
   "source": [
    "sns.histplot(data = integrais_0).set_title(\"Integrais por Simpson\")\n",
    "plt.savefig(\"espectro_integral_pulso_0.png\", dpi = 150, transparent = True)"
   ]
  },
  {
   "cell_type": "code",
   "execution_count": 38,
   "metadata": {},
   "outputs": [
    {
     "data": {
      "image/png": "[encoded data removed]",
      "text/plain": [
       "<Figure size 432x288 with 1 Axes>"
      ]
     },
     "metadata": {
      "needs_background": "light"
     },
     "output_type": "display_data"
    }
   ],
   "source": [
    "sns.histplot(data = integrais_1)\n",
    "plt.savefig(\"espectro_integral_pulso_1.png\", dpi = 150, transparent = True)"
   ]
  },
  {
   "cell_type": "code",
   "execution_count": null,
   "metadata": {},
   "outputs": [],
   "source": []
  }
 ],
 "metadata": {
  "kernelspec": {
   "display_name": "Python 3",
   "language": "python",
   "name": "python3"
  },
  "language_info": {
   "codemirror_mode": {
    "name": "ipython",
    "version": 3
   },
   "file_extension": ".py",
   "mimetype": "text/x-python",
   "name": "python",
   "nbconvert_exporter": "python",
   "pygments_lexer": "ipython3",
   "version": "3.8.5"
  }
 },
 "nbformat": 4,
 "nbformat_minor": 4
}
