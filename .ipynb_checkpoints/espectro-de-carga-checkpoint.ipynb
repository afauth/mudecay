{
 "cells": [
  {
   "cell_type": "code",
   "execution_count": 1,
   "metadata": {},
   "outputs": [],
   "source": [
    "import pandas as pd\n",
    "import seaborn as sns\n",
    "import matplotlib.pyplot as plt\n",
    "from scipy.signal import find_peaks\n",
    "from scipy.integrate import simps"
   ]
  },
  {
   "cell_type": "code",
   "execution_count": 2,
   "metadata": {},
   "outputs": [
    {
     "data": {
      "text/html": [
       "<div>\n",
       "<style scoped>\n",
       "    .dataframe tbody tr th:only-of-type {\n",
       "        vertical-align: middle;\n",
       "    }\n",
       "\n",
       "    .dataframe tbody tr th {\n",
       "        vertical-align: top;\n",
       "    }\n",
       "\n",
       "    .dataframe thead th {\n",
       "        text-align: right;\n",
       "    }\n",
       "</style>\n",
       "<table border=\"1\" class=\"dataframe\">\n",
       "  <thead>\n",
       "    <tr style=\"text-align: right;\">\n",
       "      <th></th>\n",
       "      <th>event_0</th>\n",
       "      <th>event_1</th>\n",
       "      <th>event_2</th>\n",
       "      <th>event_3</th>\n",
       "      <th>event_4</th>\n",
       "      <th>event_5</th>\n",
       "      <th>event_6</th>\n",
       "      <th>event_7</th>\n",
       "      <th>event_8</th>\n",
       "      <th>event_9</th>\n",
       "      <th>...</th>\n",
       "      <th>event_5546</th>\n",
       "      <th>event_5547</th>\n",
       "      <th>event_5548</th>\n",
       "      <th>event_5549</th>\n",
       "      <th>event_5550</th>\n",
       "      <th>event_5551</th>\n",
       "      <th>event_5552</th>\n",
       "      <th>event_5553</th>\n",
       "      <th>event_5554</th>\n",
       "      <th>time</th>\n",
       "    </tr>\n",
       "  </thead>\n",
       "  <tbody>\n",
       "    <tr>\n",
       "      <th>0</th>\n",
       "      <td>56.0</td>\n",
       "      <td>56.0</td>\n",
       "      <td>56.0</td>\n",
       "      <td>53.0</td>\n",
       "      <td>55.0</td>\n",
       "      <td>55.0</td>\n",
       "      <td>54.0</td>\n",
       "      <td>54.0</td>\n",
       "      <td>54.0</td>\n",
       "      <td>54.0</td>\n",
       "      <td>...</td>\n",
       "      <td>54.0</td>\n",
       "      <td>53.0</td>\n",
       "      <td>53.0</td>\n",
       "      <td>51.0</td>\n",
       "      <td>51.0</td>\n",
       "      <td>51.0</td>\n",
       "      <td>51.0</td>\n",
       "      <td>51.0</td>\n",
       "      <td>51.0</td>\n",
       "      <td>0</td>\n",
       "    </tr>\n",
       "    <tr>\n",
       "      <th>1</th>\n",
       "      <td>55.0</td>\n",
       "      <td>55.0</td>\n",
       "      <td>55.0</td>\n",
       "      <td>53.0</td>\n",
       "      <td>55.0</td>\n",
       "      <td>55.0</td>\n",
       "      <td>54.0</td>\n",
       "      <td>54.0</td>\n",
       "      <td>54.0</td>\n",
       "      <td>54.0</td>\n",
       "      <td>...</td>\n",
       "      <td>52.0</td>\n",
       "      <td>52.0</td>\n",
       "      <td>52.0</td>\n",
       "      <td>52.0</td>\n",
       "      <td>51.0</td>\n",
       "      <td>51.0</td>\n",
       "      <td>51.0</td>\n",
       "      <td>51.0</td>\n",
       "      <td>51.0</td>\n",
       "      <td>1</td>\n",
       "    </tr>\n",
       "    <tr>\n",
       "      <th>2</th>\n",
       "      <td>53.0</td>\n",
       "      <td>53.0</td>\n",
       "      <td>53.0</td>\n",
       "      <td>51.0</td>\n",
       "      <td>53.0</td>\n",
       "      <td>53.0</td>\n",
       "      <td>55.0</td>\n",
       "      <td>55.0</td>\n",
       "      <td>55.0</td>\n",
       "      <td>55.0</td>\n",
       "      <td>...</td>\n",
       "      <td>53.0</td>\n",
       "      <td>53.0</td>\n",
       "      <td>53.0</td>\n",
       "      <td>50.0</td>\n",
       "      <td>55.0</td>\n",
       "      <td>55.0</td>\n",
       "      <td>55.0</td>\n",
       "      <td>55.0</td>\n",
       "      <td>55.0</td>\n",
       "      <td>2</td>\n",
       "    </tr>\n",
       "    <tr>\n",
       "      <th>3</th>\n",
       "      <td>53.0</td>\n",
       "      <td>53.0</td>\n",
       "      <td>53.0</td>\n",
       "      <td>52.0</td>\n",
       "      <td>53.0</td>\n",
       "      <td>53.0</td>\n",
       "      <td>54.0</td>\n",
       "      <td>54.0</td>\n",
       "      <td>54.0</td>\n",
       "      <td>54.0</td>\n",
       "      <td>...</td>\n",
       "      <td>53.0</td>\n",
       "      <td>53.0</td>\n",
       "      <td>53.0</td>\n",
       "      <td>50.0</td>\n",
       "      <td>55.0</td>\n",
       "      <td>55.0</td>\n",
       "      <td>55.0</td>\n",
       "      <td>55.0</td>\n",
       "      <td>55.0</td>\n",
       "      <td>3</td>\n",
       "    </tr>\n",
       "    <tr>\n",
       "      <th>4</th>\n",
       "      <td>54.0</td>\n",
       "      <td>54.0</td>\n",
       "      <td>54.0</td>\n",
       "      <td>53.0</td>\n",
       "      <td>55.0</td>\n",
       "      <td>55.0</td>\n",
       "      <td>55.0</td>\n",
       "      <td>55.0</td>\n",
       "      <td>55.0</td>\n",
       "      <td>55.0</td>\n",
       "      <td>...</td>\n",
       "      <td>51.0</td>\n",
       "      <td>53.0</td>\n",
       "      <td>53.0</td>\n",
       "      <td>52.0</td>\n",
       "      <td>54.0</td>\n",
       "      <td>54.0</td>\n",
       "      <td>54.0</td>\n",
       "      <td>54.0</td>\n",
       "      <td>54.0</td>\n",
       "      <td>4</td>\n",
       "    </tr>\n",
       "    <tr>\n",
       "      <th>...</th>\n",
       "      <td>...</td>\n",
       "      <td>...</td>\n",
       "      <td>...</td>\n",
       "      <td>...</td>\n",
       "      <td>...</td>\n",
       "      <td>...</td>\n",
       "      <td>...</td>\n",
       "      <td>...</td>\n",
       "      <td>...</td>\n",
       "      <td>...</td>\n",
       "      <td>...</td>\n",
       "      <td>...</td>\n",
       "      <td>...</td>\n",
       "      <td>...</td>\n",
       "      <td>...</td>\n",
       "      <td>...</td>\n",
       "      <td>...</td>\n",
       "      <td>...</td>\n",
       "      <td>...</td>\n",
       "      <td>...</td>\n",
       "      <td>...</td>\n",
       "    </tr>\n",
       "    <tr>\n",
       "      <th>2495</th>\n",
       "      <td>53.0</td>\n",
       "      <td>53.0</td>\n",
       "      <td>53.0</td>\n",
       "      <td>54.0</td>\n",
       "      <td>55.0</td>\n",
       "      <td>55.0</td>\n",
       "      <td>22.0</td>\n",
       "      <td>22.0</td>\n",
       "      <td>22.0</td>\n",
       "      <td>22.0</td>\n",
       "      <td>...</td>\n",
       "      <td>54.0</td>\n",
       "      <td>50.0</td>\n",
       "      <td>50.0</td>\n",
       "      <td>50.0</td>\n",
       "      <td>52.0</td>\n",
       "      <td>52.0</td>\n",
       "      <td>52.0</td>\n",
       "      <td>52.0</td>\n",
       "      <td>52.0</td>\n",
       "      <td>2495</td>\n",
       "    </tr>\n",
       "    <tr>\n",
       "      <th>2496</th>\n",
       "      <td>55.0</td>\n",
       "      <td>55.0</td>\n",
       "      <td>55.0</td>\n",
       "      <td>54.0</td>\n",
       "      <td>56.0</td>\n",
       "      <td>56.0</td>\n",
       "      <td>14.0</td>\n",
       "      <td>14.0</td>\n",
       "      <td>14.0</td>\n",
       "      <td>14.0</td>\n",
       "      <td>...</td>\n",
       "      <td>50.0</td>\n",
       "      <td>51.0</td>\n",
       "      <td>51.0</td>\n",
       "      <td>53.0</td>\n",
       "      <td>51.0</td>\n",
       "      <td>51.0</td>\n",
       "      <td>51.0</td>\n",
       "      <td>51.0</td>\n",
       "      <td>51.0</td>\n",
       "      <td>2496</td>\n",
       "    </tr>\n",
       "    <tr>\n",
       "      <th>2497</th>\n",
       "      <td>52.0</td>\n",
       "      <td>52.0</td>\n",
       "      <td>52.0</td>\n",
       "      <td>53.0</td>\n",
       "      <td>53.0</td>\n",
       "      <td>53.0</td>\n",
       "      <td>37.0</td>\n",
       "      <td>37.0</td>\n",
       "      <td>37.0</td>\n",
       "      <td>37.0</td>\n",
       "      <td>...</td>\n",
       "      <td>53.0</td>\n",
       "      <td>51.0</td>\n",
       "      <td>51.0</td>\n",
       "      <td>53.0</td>\n",
       "      <td>52.0</td>\n",
       "      <td>52.0</td>\n",
       "      <td>52.0</td>\n",
       "      <td>52.0</td>\n",
       "      <td>52.0</td>\n",
       "      <td>2497</td>\n",
       "    </tr>\n",
       "    <tr>\n",
       "      <th>2498</th>\n",
       "      <td>52.0</td>\n",
       "      <td>52.0</td>\n",
       "      <td>52.0</td>\n",
       "      <td>53.0</td>\n",
       "      <td>54.0</td>\n",
       "      <td>54.0</td>\n",
       "      <td>51.0</td>\n",
       "      <td>51.0</td>\n",
       "      <td>51.0</td>\n",
       "      <td>51.0</td>\n",
       "      <td>...</td>\n",
       "      <td>52.0</td>\n",
       "      <td>53.0</td>\n",
       "      <td>53.0</td>\n",
       "      <td>52.0</td>\n",
       "      <td>52.0</td>\n",
       "      <td>52.0</td>\n",
       "      <td>52.0</td>\n",
       "      <td>52.0</td>\n",
       "      <td>52.0</td>\n",
       "      <td>2498</td>\n",
       "    </tr>\n",
       "    <tr>\n",
       "      <th>2499</th>\n",
       "      <td>53.0</td>\n",
       "      <td>53.0</td>\n",
       "      <td>53.0</td>\n",
       "      <td>52.0</td>\n",
       "      <td>55.0</td>\n",
       "      <td>55.0</td>\n",
       "      <td>47.0</td>\n",
       "      <td>47.0</td>\n",
       "      <td>47.0</td>\n",
       "      <td>47.0</td>\n",
       "      <td>...</td>\n",
       "      <td>53.0</td>\n",
       "      <td>52.0</td>\n",
       "      <td>52.0</td>\n",
       "      <td>52.0</td>\n",
       "      <td>54.0</td>\n",
       "      <td>54.0</td>\n",
       "      <td>54.0</td>\n",
       "      <td>54.0</td>\n",
       "      <td>54.0</td>\n",
       "      <td>2499</td>\n",
       "    </tr>\n",
       "  </tbody>\n",
       "</table>\n",
       "<p>2500 rows × 5556 columns</p>\n",
       "</div>"
      ],
      "text/plain": [
       "      event_0  event_1  event_2  event_3  event_4  event_5  event_6  event_7  \\\n",
       "0        56.0     56.0     56.0     53.0     55.0     55.0     54.0     54.0   \n",
       "1        55.0     55.0     55.0     53.0     55.0     55.0     54.0     54.0   \n",
       "2        53.0     53.0     53.0     51.0     53.0     53.0     55.0     55.0   \n",
       "3        53.0     53.0     53.0     52.0     53.0     53.0     54.0     54.0   \n",
       "4        54.0     54.0     54.0     53.0     55.0     55.0     55.0     55.0   \n",
       "...       ...      ...      ...      ...      ...      ...      ...      ...   \n",
       "2495     53.0     53.0     53.0     54.0     55.0     55.0     22.0     22.0   \n",
       "2496     55.0     55.0     55.0     54.0     56.0     56.0     14.0     14.0   \n",
       "2497     52.0     52.0     52.0     53.0     53.0     53.0     37.0     37.0   \n",
       "2498     52.0     52.0     52.0     53.0     54.0     54.0     51.0     51.0   \n",
       "2499     53.0     53.0     53.0     52.0     55.0     55.0     47.0     47.0   \n",
       "\n",
       "      event_8  event_9  ...  event_5546  event_5547  event_5548  event_5549  \\\n",
       "0        54.0     54.0  ...        54.0        53.0        53.0        51.0   \n",
       "1        54.0     54.0  ...        52.0        52.0        52.0        52.0   \n",
       "2        55.0     55.0  ...        53.0        53.0        53.0        50.0   \n",
       "3        54.0     54.0  ...        53.0        53.0        53.0        50.0   \n",
       "4        55.0     55.0  ...        51.0        53.0        53.0        52.0   \n",
       "...       ...      ...  ...         ...         ...         ...         ...   \n",
       "2495     22.0     22.0  ...        54.0        50.0        50.0        50.0   \n",
       "2496     14.0     14.0  ...        50.0        51.0        51.0        53.0   \n",
       "2497     37.0     37.0  ...        53.0        51.0        51.0        53.0   \n",
       "2498     51.0     51.0  ...        52.0        53.0        53.0        52.0   \n",
       "2499     47.0     47.0  ...        53.0        52.0        52.0        52.0   \n",
       "\n",
       "      event_5550  event_5551  event_5552  event_5553  event_5554  time  \n",
       "0           51.0        51.0        51.0        51.0        51.0     0  \n",
       "1           51.0        51.0        51.0        51.0        51.0     1  \n",
       "2           55.0        55.0        55.0        55.0        55.0     2  \n",
       "3           55.0        55.0        55.0        55.0        55.0     3  \n",
       "4           54.0        54.0        54.0        54.0        54.0     4  \n",
       "...          ...         ...         ...         ...         ...   ...  \n",
       "2495        52.0        52.0        52.0        52.0        52.0  2495  \n",
       "2496        51.0        51.0        51.0        51.0        51.0  2496  \n",
       "2497        52.0        52.0        52.0        52.0        52.0  2497  \n",
       "2498        52.0        52.0        52.0        52.0        52.0  2498  \n",
       "2499        54.0        54.0        54.0        54.0        54.0  2499  \n",
       "\n",
       "[2500 rows x 5556 columns]"
      ]
     },
     "execution_count": 2,
     "metadata": {},
     "output_type": "execute_result"
    }
   ],
   "source": [
    "'''Lendo arquivo das waveforms'''\n",
    "\n",
    "waveform = pd.read_csv(\n",
    "    '5555_eventos-edit.csv', \n",
    "    index_col = 0\n",
    "                      ) # importa como waveform vs sample\n",
    "waveform"
   ]
  },
  {
   "cell_type": "markdown",
   "metadata": {},
   "source": [
    "### Esta parte seguinte já foi usada no tratamento original dos dados. Agora, é só ler. "
   ]
  },
  {
   "cell_type": "code",
   "execution_count": 3,
   "metadata": {},
   "outputs": [],
   "source": [
    "# '''Renomeando linhas e adicionando a coluna com os instantes de tempo ao Data Frame'''\n",
    "\n",
    "# waveform.columns = [ 'event_' + str(i) for i in range(waveform.shape[1]) ]\n",
    "# waveform['time'] = [i for i in range(waveform.shape[0])] # time is out of scale, but it'll be used like this\n",
    "# waveform.head()"
   ]
  },
  {
   "cell_type": "code",
   "execution_count": 4,
   "metadata": {},
   "outputs": [
    {
     "data": {
      "text/plain": [
       "array([  56.,   55.,   53.,   54.,   52.,   51.,   50.,   22.,  -95.,\n",
       "       -127.,  -56.,   18.,   39.,   29.,   30.,   49.,   46.,   43.,\n",
       "         47.,   57.,   48.,  -98.,  -37.,   27.,   31.,   21.,   34.,\n",
       "         44.,   58.])"
      ]
     },
     "execution_count": 4,
     "metadata": {},
     "output_type": "execute_result"
    }
   ],
   "source": [
    "'''Valores unicos da coluna (de cada sample)'''\n",
    "\n",
    "pd.unique( waveform['event_0'] )"
   ]
  },
  {
   "cell_type": "code",
   "execution_count": 5,
   "metadata": {},
   "outputs": [
    {
     "data": {
      "text/plain": [
       "[<matplotlib.lines.Line2D at 0x23cf8581d60>]"
      ]
     },
     "execution_count": 5,
     "metadata": {},
     "output_type": "execute_result"
    },
    {
     "data": {
      "image/png": "[encoded data removed]",
      "text/plain": [
       "<Figure size 432x288 with 1 Axes>"
      ]
     },
     "metadata": {
      "needs_background": "light"
     },
     "output_type": "display_data"
    }
   ],
   "source": [
    "'''Plot da leitura do osciloscópio'''\n",
    "\n",
    "plt.plot(waveform['time'], \n",
    "         waveform['event_75'], \n",
    "         linewidth = 1\n",
    "        )"
   ]
  },
  {
   "cell_type": "code",
   "execution_count": 6,
   "metadata": {},
   "outputs": [
    {
     "data": {
      "text/plain": [
       "[<matplotlib.lines.Line2D at 0x23cf9bd80d0>]"
      ]
     },
     "execution_count": 6,
     "metadata": {},
     "output_type": "execute_result"
    },
    {
     "data": {
      "image/png": "[encoded data removed]",
      "text/plain": [
       "<Figure size 432x288 with 1 Axes>"
      ]
     },
     "metadata": {
      "needs_background": "light"
     },
     "output_type": "display_data"
    }
   ],
   "source": [
    "''' Plot com \"zoom\" '''\n",
    "\n",
    "plt.plot(waveform['time'].iloc[50:150], \n",
    "         waveform['event_75'].iloc[50:150], \n",
    "         linewidth = 1\n",
    "        )"
   ]
  },
  {
   "cell_type": "code",
   "execution_count": null,
   "metadata": {},
   "outputs": [],
   "source": []
  },
  {
   "cell_type": "code",
   "execution_count": 7,
   "metadata": {},
   "outputs": [
    {
     "data": {
      "image/png": "[encoded data removed]",
      "text/plain": [
       "<Figure size 432x288 with 1 Axes>"
      ]
     },
     "metadata": {
      "needs_background": "light"
     },
     "output_type": "display_data"
    }
   ],
   "source": [
    "'''Find_peaks e plot'''\n",
    "\n",
    "Y = waveform['event_75']\n",
    "Y *= -1 # CUIDADO: aparentemente, isso muda o df. Tenha certeza que irá desfazer isso depois\n",
    "\n",
    "# get the actual peaks\n",
    "peaks, _ = find_peaks(Y, height=50)\n",
    "\n",
    "# multiply back for plotting purposes\n",
    "Y *= -1\n",
    "\n",
    "plt.plot(Y)\n",
    "plt.plot(peaks, Y[peaks], \"x\")\n",
    "plt.show()\n",
    "\n",
    "Y = None\n",
    "\n",
    "def peak_finder(df): # peak_finder se aplica em data frames com valores dp eixo y\n",
    "    df *= -1 # CUIDADO: aparentemente, isso muda o df. Tenha certeza que irá desfazer isso depois\n",
    "    \n",
    "    # get the actual peaks\n",
    "    peaks, _ = find_peaks(Y, height=50) # height é um parâmetro decidido\n",
    "    \n",
    "    # multiply back for plotting purposes\n",
    "    Y *= -1\n",
    "    \n",
    "    return(peaks)\n",
    "    "
   ]
  },
  {
   "cell_type": "code",
   "execution_count": null,
   "metadata": {},
   "outputs": [],
   "source": []
  },
  {
   "cell_type": "code",
   "execution_count": 8,
   "metadata": {
    "scrolled": true
   },
   "outputs": [
    {
     "data": {
      "image/png": "[encoded data removed]",
      "text/plain": [
       "<Figure size 432x288 with 1 Axes>"
      ]
     },
     "metadata": {
      "needs_background": "light"
     },
     "output_type": "display_data"
    }
   ],
   "source": [
    "X = waveform.query('time < 200')['event_75']\n",
    "X *= -1 # CUIDADO: aparentemente, isso muda o df. Tenha certeza que irá desfazer isso depois\n",
    "\n",
    "# get the actual peaks\n",
    "peaks, _ = find_peaks(X, height=50)\n",
    "\n",
    "# multiply back for plotting purposes\n",
    "X *= -1\n",
    "\n",
    "plt.plot(X)\n",
    "plt.plot(peaks, X[peaks], \"x\")\n",
    "plt.show()\n",
    "peaks\n",
    "\n",
    "X = None"
   ]
  },
  {
   "cell_type": "code",
   "execution_count": 9,
   "metadata": {},
   "outputs": [
    {
     "data": {
      "text/plain": [
       "0    53.0\n",
       "dtype: float64"
      ]
     },
     "execution_count": 9,
     "metadata": {},
     "output_type": "execute_result"
    }
   ],
   "source": [
    "waveform['event_75'].mode()"
   ]
  },
  {
   "cell_type": "markdown",
   "metadata": {},
   "source": [
    "### Encontrar a largura do pulso\n",
    "A estratégia consiste em olhar as diferenças lado a lado, para então determinar onde o pulso começa e onde ele termina.\n",
    "\n",
    "Basicamente, consiste em analisar a derivada em cada ponto"
   ]
  },
  {
   "cell_type": "code",
   "execution_count": 10,
   "metadata": {},
   "outputs": [
    {
     "data": {
      "text/plain": [
       "array([  0.,   1.,   2.,   3.,   4.,   5.,   6.,   7.,   8.,   9.,  10.,\n",
       "        11.,  15.,  16.,  18.,  27.,  30.,  32.,  33.,  37.,  59., 118.,\n",
       "       134.])"
      ]
     },
     "execution_count": 10,
     "metadata": {},
     "output_type": "execute_result"
    }
   ],
   "source": [
    "'''\n",
    "Este bloco serve apenas para dar uma ideia dos valores únicos de deltas esperados no base line\n",
    "'''\n",
    "\n",
    "def delta( y_values ):\n",
    "    aux = [ abs(y_values[i] - y_values[i+1]) for i in range( len(y_values) - 1 ) ]\n",
    "    return(aux)\n",
    "\n",
    "dy = pd.DataFrame( delta(waveform['event_75']) )\n",
    "dy.columns = ['delta_75']\n",
    "pd.unique(dy.sort_values(by = 'delta_75')['delta_75'])"
   ]
  },
  {
   "cell_type": "markdown",
   "metadata": {},
   "source": [
    "#### Nota:\n",
    "Talvez valha a pena descartar a função delta\n"
   ]
  },
  {
   "cell_type": "code",
   "execution_count": 11,
   "metadata": {},
   "outputs": [],
   "source": [
    "VA_baseLine = 5 # valor \"aleatório\" para saber se o número em questão está fora da base-line\n",
    "\n",
    "def delta_signal( y_values ): # esta função retorna os valores no eixo x\n",
    "    aux = [ i for i in range( len(y_values) - 1 ) \n",
    "           if ( abs(y_values[i] - y_values[i+1]) > VA_baseLine) ] # é interessante calcular com base no módulo\n",
    "    return(aux)"
   ]
  },
  {
   "cell_type": "code",
   "execution_count": 12,
   "metadata": {},
   "outputs": [
    {
     "data": {
      "image/png": "[encoded data removed]",
      "text/plain": [
       "<Figure size 432x288 with 1 Axes>"
      ]
     },
     "metadata": {
      "needs_background": "light"
     },
     "output_type": "display_data"
    }
   ],
   "source": [
    "X = waveform.query('time < 200')['event_75']\n",
    "X *= -1 # CUIDADO: aparentemente, isso muda o df. Tenha certeza que irá desfazer isso depois\n",
    "\n",
    "# get the actual peaks\n",
    "peaks, _ = find_peaks(X, height=50)\n",
    "\n",
    "# multiply back for plotting purposes\n",
    "X *= -1\n",
    "\n",
    "plt.plot(X)\n",
    "plt.plot( peaks, X[peaks], \"x\", color = 'red')\n",
    "plt.plot( delta_signal(X),\n",
    "          X[delta_signal(X)],\n",
    "          \"x\",\n",
    "          color = 'green' )\n",
    "plt.show()"
   ]
  },
  {
   "cell_type": "code",
   "execution_count": 13,
   "metadata": {},
   "outputs": [
    {
     "data": {
      "text/plain": [
       "[91, 124]"
      ]
     },
     "execution_count": 13,
     "metadata": {},
     "output_type": "execute_result"
    }
   ],
   "source": [
    "'''\n",
    "Podemos marcar o \"começo\" e o \"fim\" do pulso tomando o primeiro e o último marcadores\n",
    "'''\n",
    "x_i , x_f = delta_signal(X)[0], delta_signal(X)[-1]\n",
    "[x_i, x_f]"
   ]
  },
  {
   "cell_type": "code",
   "execution_count": 14,
   "metadata": {},
   "outputs": [
    {
     "data": {
      "image/png": "[encoded data removed]",
      "text/plain": [
       "<Figure size 432x288 with 1 Axes>"
      ]
     },
     "metadata": {
      "needs_background": "light"
     },
     "output_type": "display_data"
    }
   ],
   "source": [
    "plt.plot(X)\n",
    "plt.plot( peaks, X[peaks], \"x\", color = 'red' )\n",
    "plt.plot( [x_i, x_f], [ X[x_i], X[x_f] ], \"x\", color = 'green' )\n",
    "plt.show()\n",
    "\n",
    "X = None"
   ]
  },
  {
   "cell_type": "code",
   "execution_count": 15,
   "metadata": {},
   "outputs": [
    {
     "data": {
      "image/png": "[encoded data removed]",
      "text/plain": [
       "<Figure size 432x288 with 1 Axes>"
      ]
     },
     "metadata": {
      "needs_background": "light"
     },
     "output_type": "display_data"
    }
   ],
   "source": [
    "Y = waveform['event_75']\n",
    "Y *= -1 # CUIDADO: aparentemente, isso muda o df. Tenha certeza que irá desfazer isso depois\n",
    "\n",
    "# get the actual peaks\n",
    "peaks, _ = find_peaks(Y, height=50)\n",
    "\n",
    "# multiply back for plotting purposes\n",
    "Y *= -1\n",
    "\n",
    "plt.plot(Y)\n",
    "plt.plot(peaks, Y[peaks], \"x\")\n",
    "plt.plot( delta_signal(Y), Y[delta_signal(Y)], \"x\", color = 'green' )\n",
    "plt.show()\n",
    "\n"
   ]
  },
  {
   "cell_type": "code",
   "execution_count": 101,
   "metadata": {},
   "outputs": [
    {
     "data": {
      "text/html": [
       "<div>\n",
       "<style scoped>\n",
       "    .dataframe tbody tr th:only-of-type {\n",
       "        vertical-align: middle;\n",
       "    }\n",
       "\n",
       "    .dataframe tbody tr th {\n",
       "        vertical-align: top;\n",
       "    }\n",
       "\n",
       "    .dataframe thead th {\n",
       "        text-align: right;\n",
       "    }\n",
       "</style>\n",
       "<table border=\"1\" class=\"dataframe\">\n",
       "  <thead>\n",
       "    <tr style=\"text-align: right;\">\n",
       "      <th></th>\n",
       "      <th>pulso_x</th>\n",
       "      <th>pulso_y</th>\n",
       "    </tr>\n",
       "  </thead>\n",
       "  <tbody>\n",
       "    <tr>\n",
       "      <th>min_1</th>\n",
       "      <td>91</td>\n",
       "      <td>52.0</td>\n",
       "    </tr>\n",
       "    <tr>\n",
       "      <th>max_1</th>\n",
       "      <td>124</td>\n",
       "      <td>48.0</td>\n",
       "    </tr>\n",
       "    <tr>\n",
       "      <th>min_2</th>\n",
       "      <td>1030</td>\n",
       "      <td>51.0</td>\n",
       "    </tr>\n",
       "    <tr>\n",
       "      <th>max_2</th>\n",
       "      <td>1039</td>\n",
       "      <td>47.0</td>\n",
       "    </tr>\n",
       "  </tbody>\n",
       "</table>\n",
       "</div>"
      ],
      "text/plain": [
       "       pulso_x  pulso_y\n",
       "min_1       91     52.0\n",
       "max_1      124     48.0\n",
       "min_2     1030     51.0\n",
       "max_2     1039     47.0"
      ]
     },
     "execution_count": 101,
     "metadata": {},
     "output_type": "execute_result"
    }
   ],
   "source": [
    "largura_max_esperada = 100 # define a abertura de uma janela para procurar o pulso ali dentro\n",
    "\n",
    "evento          = pd.DataFrame( delta_signal(Y) )\n",
    "evento.columns  = ['event_75']\n",
    "\n",
    "# Esses valores estão em coordenadas do eixo x\n",
    "\n",
    "#aux   = []\n",
    "lista = []\n",
    "for i in range(len(peaks)):\n",
    "    s = evento.query( \n",
    "        '(event_75 > @peaks[@i] - @largura_max_esperada/2) and (event_75 < @peaks[@i] + @largura_max_esperada/2)'\n",
    "                     )['event_75'] # este objeto é uma Series\n",
    "    lista.append(s.min()) , lista.append(s.max()) # transformar em lista serve para facilitar o plot gráfico\n",
    "    \n",
    "limites_largura_pulsos = pd.DataFrame( waveform.query('@lista')['event_75'] ).reset_index() \n",
    "# este método anterior acaba por mover os valores do index para uma coluna e resetar o index principal\n",
    "# daí, é só renomear o index e as colunas\n",
    "\n",
    "limites_largura_pulsos.index   = ['min_1', 'max_1', 'min_2', 'max_2']\n",
    "limites_largura_pulsos.columns = ['pulso_x', 'pulso_y']\n",
    "\n",
    "limites_largura_pulsos\n"
   ]
  },
  {
   "cell_type": "markdown",
   "metadata": {},
   "source": [
    "### Sobre o bloco acima: largura_max_esperada\n",
    "\n",
    "Ele serve para determinar as coordenadas de x que limitam cada um dos dois pulsos da waveform. Isso porque o algoritmo que identifica os possíveis valores acaba por identificar alguns candidatos dentro da base line. O bloco acima elimina esses candidatos inelegíveis. \n",
    "\n",
    "Definindo uma janela para procurar pelo começo e fim do pulso, em torno do pico já encontrado, acabamos por delimitar os contornos do pulso em x. Com isso, nós podemos achar os limites de cada um dos pulsos e construir um data frame contendo os respectivos valores de cada contorno do pulso.\n",
    "\n",
    "#### Pergunta: \n",
    "\n",
    "\n",
    "#### Para melhorar\n",
    "\n",
    "1) É interessante criar métodos/funções para cada um dos blocos, de maneira a aplicar tudo facilmente a todas as waveforms\n",
    "\n",
    "2) É interessante pensar num jeito de checar (de maneira fácil) se existe algum problema adicional em alguma waveform que os algoritmos não cobrem\n",
    "\n",
    "3) Precisa-se de um pedaço de código que recolha o nome da coluna do df original e aplique, na função, o mesmo nome a cada elemento derivado pelos algoritmos\n",
    "\n",
    "##### Seguimos..."
   ]
  },
  {
   "cell_type": "code",
   "execution_count": 30,
   "metadata": {},
   "outputs": [
    {
     "data": {
      "image/png": "[encoded data removed]",
      "text/plain": [
       "<Figure size 432x288 with 1 Axes>"
      ]
     },
     "metadata": {
      "needs_background": "light"
     },
     "output_type": "display_data"
    }
   ],
   "source": [
    "Y = waveform['event_75']\n",
    "Y *= -1 # CUIDADO: aparentemente, isso muda o df. Tenha certeza que irá desfazer isso depois\n",
    "\n",
    "# get the actual peaks\n",
    "peaks, _ = find_peaks(Y, height=50)\n",
    "\n",
    "# multiply back for plotting purposes\n",
    "Y *= -1\n",
    "\n",
    "plt.plot(waveform['event_75'])\n",
    "plt.plot(peaks, waveform['event_75'][peaks], \"x\")\n",
    "plt.plot(\n",
    "    limites_largura_pulsos['pulso_x'],\n",
    "    limites_largura_pulsos['pulso_y'],\n",
    "    \"x\", \n",
    "    color = 'green'\n",
    "        )\n",
    "plt.show()"
   ]
  },
  {
   "cell_type": "markdown",
   "metadata": {},
   "source": [
    "#### Problema\n",
    "\n",
    "Eu não estou conseguindo fazer uma filtragem adequada usando os comandos do query do Pandas. Talvez seja porque eu esteja tentando comparar dois dfs diferentes, e acaba que referenciar um no outro torna o elemento de comparação um float_64. Eu não sei exatamente por que, mas ele acusa como um erro de itemise ou como algum outro erro estranho, como segue\n",
    "\n",
    "waveform.query(\" event_75 <= @limites_largura_pulsos['pulso_y']['min_1'] \")['event_75']\n",
    "\n",
    "Seria possível gerar esse números fora da query e transformar em float e usar nela. Também é possível criar um novo df para cada waveform e avaliar os elementos todos de um mesmo df (o que ainda seria difícil, pois eu teria apenas uma coordenada).\n",
    "\n",
    "Contudo, podemos usar a nossa 'lista', a lista auxiliar que usamos para montar a 'limites_largura_pulsos' para fazer essa query e filtrar mais adequadamente. Contudo, isso acaba jogando nosso df de 'limites_largura_pulsos' para escanteio, tendo apenas a função de plotar o gráfico e gerar um efeito visual. \n",
    "\n",
    "Acho que vou usar o to_list nessa series do limites_largura_pulsos afinal...\n",
    "\n",
    "##### Seria interessante descartar essa variável no futuro?"
   ]
  },
  {
   "cell_type": "code",
   "execution_count": 86,
   "metadata": {},
   "outputs": [
    {
     "data": {
      "text/plain": [
       "[52.0, 48.0, 51.0, 47.0]"
      ]
     },
     "execution_count": 86,
     "metadata": {},
     "output_type": "execute_result"
    }
   ],
   "source": [
    "limites_largura_pulsos['pulso_y'].to_list()"
   ]
  },
  {
   "cell_type": "code",
   "execution_count": 96,
   "metadata": {},
   "outputs": [
    {
     "data": {
      "text/plain": [
       "Series([], Name: event_75, dtype: float64)"
      ]
     },
     "execution_count": 96,
     "metadata": {},
     "output_type": "execute_result"
    }
   ],
   "source": [
    "_ = limites_largura_pulsos['pulso_y'].to_list()\n",
    "\n",
    "waveform.query(\" event_75 >= @_[0] and event_75 <= @_[1]\")['event_75']"
   ]
  },
  {
   "cell_type": "code",
   "execution_count": 100,
   "metadata": {},
   "outputs": [
    {
     "data": {
      "text/plain": [
       "[91, 124, 1030, 1039]"
      ]
     },
     "execution_count": 100,
     "metadata": {},
     "output_type": "execute_result"
    }
   ],
   "source": [
    "lista"
   ]
  },
  {
   "cell_type": "code",
   "execution_count": 121,
   "metadata": {},
   "outputs": [
    {
     "data": {
      "text/html": [
       "<div>\n",
       "<style scoped>\n",
       "    .dataframe tbody tr th:only-of-type {\n",
       "        vertical-align: middle;\n",
       "    }\n",
       "\n",
       "    .dataframe tbody tr th {\n",
       "        vertical-align: top;\n",
       "    }\n",
       "\n",
       "    .dataframe thead th {\n",
       "        text-align: right;\n",
       "    }\n",
       "</style>\n",
       "<table border=\"1\" class=\"dataframe\">\n",
       "  <thead>\n",
       "    <tr style=\"text-align: right;\">\n",
       "      <th></th>\n",
       "      <th>time</th>\n",
       "      <th>pulso_1</th>\n",
       "      <th>pulso_2</th>\n",
       "    </tr>\n",
       "  </thead>\n",
       "  <tbody>\n",
       "    <tr>\n",
       "      <th>0</th>\n",
       "      <td>91</td>\n",
       "      <td>52.0</td>\n",
       "      <td>NaN</td>\n",
       "    </tr>\n",
       "    <tr>\n",
       "      <th>1</th>\n",
       "      <td>92</td>\n",
       "      <td>37.0</td>\n",
       "      <td>NaN</td>\n",
       "    </tr>\n",
       "    <tr>\n",
       "      <th>2</th>\n",
       "      <td>93</td>\n",
       "      <td>-97.0</td>\n",
       "      <td>NaN</td>\n",
       "    </tr>\n",
       "    <tr>\n",
       "      <th>3</th>\n",
       "      <td>94</td>\n",
       "      <td>-127.0</td>\n",
       "      <td>NaN</td>\n",
       "    </tr>\n",
       "    <tr>\n",
       "      <th>4</th>\n",
       "      <td>95</td>\n",
       "      <td>-123.0</td>\n",
       "      <td>NaN</td>\n",
       "    </tr>\n",
       "  </tbody>\n",
       "</table>\n",
       "</div>"
      ],
      "text/plain": [
       "   time  pulso_1  pulso_2\n",
       "0    91     52.0      NaN\n",
       "1    92     37.0      NaN\n",
       "2    93    -97.0      NaN\n",
       "3    94   -127.0      NaN\n",
       "4    95   -123.0      NaN"
      ]
     },
     "execution_count": 121,
     "metadata": {},
     "output_type": "execute_result"
    }
   ],
   "source": [
    "aux = []\n",
    "for i in range(0,3,2): # é um loop para atuar apenas duas vezes: 0,1 e 2,3\n",
    "    s = waveform.query(\" time >= @lista[@i] and time <= @lista[@i+1] \")['event_75']\n",
    "    aux.append(s)\n",
    "df = pd.concat(aux, axis = 1).reset_index() # coordenada x, primeiro pulso, segundo pulso\n",
    "df.columns = ['time', 'pulso_1', 'pulso_2']\n",
    "pulso = df\n",
    "pulso.head()"
   ]
  },
  {
   "cell_type": "markdown",
   "metadata": {},
   "source": [
    "#### Ideia não tão boa\n",
    "\n",
    "Na hora de passar tudo isso para um método/função, não me parece uma boa ideia querer guardar os Data Frames dos pulsos num único df. É claro que pode ficar mais organizado, mas talvez acabe gerando complicações, porque os data frames vão ter tamanhos diferentes. Porém, talvez os NaNs não dêem nenhum problema."
   ]
  },
  {
   "cell_type": "code",
   "execution_count": 132,
   "metadata": {},
   "outputs": [
    {
     "data": {
      "text/plain": [
       "[<matplotlib.lines.Line2D at 0x23cfb03ef10>]"
      ]
     },
     "execution_count": 132,
     "metadata": {},
     "output_type": "execute_result"
    },
    {
     "data": {
      "image/png": "[encoded data removed]",
      "text/plain": [
       "<Figure size 432x288 with 1 Axes>"
      ]
     },
     "metadata": {
      "needs_background": "light"
     },
     "output_type": "display_data"
    }
   ],
   "source": [
    "plt.plot(pulso['time'], pulso['pulso_1'])"
   ]
  },
  {
   "cell_type": "code",
   "execution_count": 133,
   "metadata": {},
   "outputs": [
    {
     "data": {
      "text/plain": [
       "[<matplotlib.lines.Line2D at 0x23cfb07ca90>]"
      ]
     },
     "execution_count": 133,
     "metadata": {},
     "output_type": "execute_result"
    },
    {
     "data": {
      "image/png": "[encoded data removed]",
      "text/plain": [
       "<Figure size 432x288 with 1 Axes>"
      ]
     },
     "metadata": {
      "needs_background": "light"
     },
     "output_type": "display_data"
    }
   ],
   "source": [
    "plt.plot(pulso['time'], pulso['pulso_2']) "
   ]
  },
  {
   "cell_type": "code",
   "execution_count": 134,
   "metadata": {},
   "outputs": [
    {
     "data": {
      "text/plain": [
       "[<matplotlib.lines.Line2D at 0x23cfb0afa60>]"
      ]
     },
     "execution_count": 134,
     "metadata": {},
     "output_type": "execute_result"
    },
    {
     "data": {
      "image/png": "[encoded data removed]",
      "text/plain": [
       "<Figure size 432x288 with 1 Axes>"
      ]
     },
     "metadata": {
      "needs_background": "light"
     },
     "output_type": "display_data"
    }
   ],
   "source": [
    "plt.plot(waveform['time'].iloc[1020:1050], \n",
    "         waveform['event_75'].iloc[1020:1050], \n",
    "         linewidth = 1\n",
    "        )"
   ]
  },
  {
   "cell_type": "code",
   "execution_count": null,
   "metadata": {},
   "outputs": [],
   "source": []
  },
  {
   "cell_type": "markdown",
   "metadata": {},
   "source": [
    "### Integração do pulso\n",
    "\n",
    "É importante verificar a priori a possibilidade de aplicar essa função para calcular a integral do pulso. Eu acredito que sim, mas tenho que ter certeza (tanto na parte teórica quanto na parte de implementação do código). \n",
    "\n",
    "A priori, a integral está como segue"
   ]
  },
  {
   "cell_type": "code",
   "execution_count": 137,
   "metadata": {},
   "outputs": [
    {
     "data": {
      "text/plain": [
       "4485.0"
      ]
     },
     "execution_count": 137,
     "metadata": {},
     "output_type": "execute_result"
    }
   ],
   "source": [
    "''' Integração usando o método de Simpson'''\n",
    "\n",
    "area = simps( \n",
    "    waveform['event_75'].iloc[50:150],\n",
    "    dx = 1\n",
    "            )\n",
    "area"
   ]
  },
  {
   "cell_type": "code",
   "execution_count": 141,
   "metadata": {},
   "outputs": [
    {
     "data": {
      "text/plain": [
       "0      52.0\n",
       "1      37.0\n",
       "2     -97.0\n",
       "3    -127.0\n",
       "4    -123.0\n",
       "5      -5.0\n",
       "6      28.0\n",
       "7      12.0\n",
       "8      14.0\n",
       "9      41.0\n",
       "10     49.0\n",
       "11     40.0\n",
       "12     38.0\n",
       "13     47.0\n",
       "14     58.0\n",
       "15     52.0\n",
       "16     42.0\n",
       "17     51.0\n",
       "18     58.0\n",
       "19     53.0\n",
       "20     49.0\n",
       "21     53.0\n",
       "22     55.0\n",
       "23     53.0\n",
       "24     49.0\n",
       "25     52.0\n",
       "26     54.0\n",
       "27     56.0\n",
       "28     55.0\n",
       "29     50.0\n",
       "30     52.0\n",
       "31     55.0\n",
       "32     49.0\n",
       "33     48.0\n",
       "Name: pulso_1, dtype: float64"
      ]
     },
     "execution_count": 141,
     "metadata": {},
     "output_type": "execute_result"
    }
   ],
   "source": [
    "pulso['pulso_1'].dropna() # usando o dropna, ele cria um novo df"
   ]
  },
  {
   "cell_type": "code",
   "execution_count": 142,
   "metadata": {},
   "outputs": [
    {
     "data": {
      "text/plain": [
       "998.8333333333333"
      ]
     },
     "execution_count": 142,
     "metadata": {},
     "output_type": "execute_result"
    }
   ],
   "source": [
    "simps(\n",
    "    pulso['pulso_1'].dropna(),\n",
    "    dx = 1\n",
    "     )"
   ]
  },
  {
   "cell_type": "code",
   "execution_count": 143,
   "metadata": {},
   "outputs": [
    {
     "data": {
      "text/plain": [
       "141.33333333333331"
      ]
     },
     "execution_count": 143,
     "metadata": {},
     "output_type": "execute_result"
    }
   ],
   "source": [
    "simps(\n",
    "    pulso['pulso_2'].dropna(),\n",
    "    dx = 1\n",
    "     )"
   ]
  },
  {
   "cell_type": "code",
   "execution_count": null,
   "metadata": {},
   "outputs": [],
   "source": []
  }
 ],
 "metadata": {
  "kernelspec": {
   "display_name": "Python 3",
   "language": "python",
   "name": "python3"
  },
  "language_info": {
   "codemirror_mode": {
    "name": "ipython",
    "version": 3
   },
   "file_extension": ".py",
   "mimetype": "text/x-python",
   "name": "python",
   "nbconvert_exporter": "python",
   "pygments_lexer": "ipython3",
   "version": "3.8.3"
  }
 },
 "nbformat": 4,
 "nbformat_minor": 4
}
