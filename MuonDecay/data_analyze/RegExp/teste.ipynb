{
 "metadata": {
  "language_info": {
   "codemirror_mode": {
    "name": "ipython",
    "version": 3
   },
   "file_extension": ".py",
   "mimetype": "text/x-python",
   "name": "python",
   "nbconvert_exporter": "python",
   "pygments_lexer": "ipython3",
   "version": "3.8.8-final"
  },
  "orig_nbformat": 2,
  "kernelspec": {
   "name": "python3",
   "display_name": "Python 3.8.8 64-bit (conda)",
   "metadata": {
    "interpreter": {
     "hash": "25f47d99557ba0924d1d76d7e20d512e15617d649528b4a55486bbe742599eab"
    }
   }
  }
 },
 "nbformat": 4,
 "nbformat_minor": 2,
 "cells": [
  {
   "cell_type": "code",
   "execution_count": 1,
   "metadata": {},
   "outputs": [],
   "source": [
    "import seaborn as sns\n",
    "import pandas as pd\n",
    "import numpy as np\n",
    "from scipy.signal import find_peaks"
   ]
  },
  {
   "cell_type": "code",
   "execution_count": 2,
   "metadata": {},
   "outputs": [],
   "source": [
    "df = pd.read_csv('../../documents/data/previous_data/5555_eventos-edit.csv', index_col=0)\n",
    "df = df.drop('time', axis=1)"
   ]
  },
  {
   "cell_type": "code",
   "execution_count": 3,
   "metadata": {},
   "outputs": [
    {
     "output_type": "execute_result",
     "data": {
      "text/plain": [
       "      event_0  event_1  event_2  event_3  event_4  event_5  event_6  event_7  \\\n",
       "0        56.0     56.0     56.0     53.0     55.0     55.0     54.0     54.0   \n",
       "1        55.0     55.0     55.0     53.0     55.0     55.0     54.0     54.0   \n",
       "2        53.0     53.0     53.0     51.0     53.0     53.0     55.0     55.0   \n",
       "3        53.0     53.0     53.0     52.0     53.0     53.0     54.0     54.0   \n",
       "4        54.0     54.0     54.0     53.0     55.0     55.0     55.0     55.0   \n",
       "...       ...      ...      ...      ...      ...      ...      ...      ...   \n",
       "2495     53.0     53.0     53.0     54.0     55.0     55.0     22.0     22.0   \n",
       "2496     55.0     55.0     55.0     54.0     56.0     56.0     14.0     14.0   \n",
       "2497     52.0     52.0     52.0     53.0     53.0     53.0     37.0     37.0   \n",
       "2498     52.0     52.0     52.0     53.0     54.0     54.0     51.0     51.0   \n",
       "2499     53.0     53.0     53.0     52.0     55.0     55.0     47.0     47.0   \n",
       "\n",
       "      event_8  event_9  ...  event_5545  event_5546  event_5547  event_5548  \\\n",
       "0        54.0     54.0  ...        54.0        54.0        53.0        53.0   \n",
       "1        54.0     54.0  ...        52.0        52.0        52.0        52.0   \n",
       "2        55.0     55.0  ...        53.0        53.0        53.0        53.0   \n",
       "3        54.0     54.0  ...        53.0        53.0        53.0        53.0   \n",
       "4        55.0     55.0  ...        51.0        51.0        53.0        53.0   \n",
       "...       ...      ...  ...         ...         ...         ...         ...   \n",
       "2495     22.0     22.0  ...        54.0        54.0        50.0        50.0   \n",
       "2496     14.0     14.0  ...        50.0        50.0        51.0        51.0   \n",
       "2497     37.0     37.0  ...        53.0        53.0        51.0        51.0   \n",
       "2498     51.0     51.0  ...        52.0        52.0        53.0        53.0   \n",
       "2499     47.0     47.0  ...        53.0        53.0        52.0        52.0   \n",
       "\n",
       "      event_5549  event_5550  event_5551  event_5552  event_5553  event_5554  \n",
       "0           51.0        51.0        51.0        51.0        51.0        51.0  \n",
       "1           52.0        51.0        51.0        51.0        51.0        51.0  \n",
       "2           50.0        55.0        55.0        55.0        55.0        55.0  \n",
       "3           50.0        55.0        55.0        55.0        55.0        55.0  \n",
       "4           52.0        54.0        54.0        54.0        54.0        54.0  \n",
       "...          ...         ...         ...         ...         ...         ...  \n",
       "2495        50.0        52.0        52.0        52.0        52.0        52.0  \n",
       "2496        53.0        51.0        51.0        51.0        51.0        51.0  \n",
       "2497        53.0        52.0        52.0        52.0        52.0        52.0  \n",
       "2498        52.0        52.0        52.0        52.0        52.0        52.0  \n",
       "2499        52.0        54.0        54.0        54.0        54.0        54.0  \n",
       "\n",
       "[2500 rows x 5555 columns]"
      ],
      "text/html": "<div>\n<style scoped>\n    .dataframe tbody tr th:only-of-type {\n        vertical-align: middle;\n    }\n\n    .dataframe tbody tr th {\n        vertical-align: top;\n    }\n\n    .dataframe thead th {\n        text-align: right;\n    }\n</style>\n<table border=\"1\" class=\"dataframe\">\n  <thead>\n    <tr style=\"text-align: right;\">\n      <th></th>\n      <th>event_0</th>\n      <th>event_1</th>\n      <th>event_2</th>\n      <th>event_3</th>\n      <th>event_4</th>\n      <th>event_5</th>\n      <th>event_6</th>\n      <th>event_7</th>\n      <th>event_8</th>\n      <th>event_9</th>\n      <th>...</th>\n      <th>event_5545</th>\n      <th>event_5546</th>\n      <th>event_5547</th>\n      <th>event_5548</th>\n      <th>event_5549</th>\n      <th>event_5550</th>\n      <th>event_5551</th>\n      <th>event_5552</th>\n      <th>event_5553</th>\n      <th>event_5554</th>\n    </tr>\n  </thead>\n  <tbody>\n    <tr>\n      <th>0</th>\n      <td>56.0</td>\n      <td>56.0</td>\n      <td>56.0</td>\n      <td>53.0</td>\n      <td>55.0</td>\n      <td>55.0</td>\n      <td>54.0</td>\n      <td>54.0</td>\n      <td>54.0</td>\n      <td>54.0</td>\n      <td>...</td>\n      <td>54.0</td>\n      <td>54.0</td>\n      <td>53.0</td>\n      <td>53.0</td>\n      <td>51.0</td>\n      <td>51.0</td>\n      <td>51.0</td>\n      <td>51.0</td>\n      <td>51.0</td>\n      <td>51.0</td>\n    </tr>\n    <tr>\n      <th>1</th>\n      <td>55.0</td>\n      <td>55.0</td>\n      <td>55.0</td>\n      <td>53.0</td>\n      <td>55.0</td>\n      <td>55.0</td>\n      <td>54.0</td>\n      <td>54.0</td>\n      <td>54.0</td>\n      <td>54.0</td>\n      <td>...</td>\n      <td>52.0</td>\n      <td>52.0</td>\n      <td>52.0</td>\n      <td>52.0</td>\n      <td>52.0</td>\n      <td>51.0</td>\n      <td>51.0</td>\n      <td>51.0</td>\n      <td>51.0</td>\n      <td>51.0</td>\n    </tr>\n    <tr>\n      <th>2</th>\n      <td>53.0</td>\n      <td>53.0</td>\n      <td>53.0</td>\n      <td>51.0</td>\n      <td>53.0</td>\n      <td>53.0</td>\n      <td>55.0</td>\n      <td>55.0</td>\n      <td>55.0</td>\n      <td>55.0</td>\n      <td>...</td>\n      <td>53.0</td>\n      <td>53.0</td>\n      <td>53.0</td>\n      <td>53.0</td>\n      <td>50.0</td>\n      <td>55.0</td>\n      <td>55.0</td>\n      <td>55.0</td>\n      <td>55.0</td>\n      <td>55.0</td>\n    </tr>\n    <tr>\n      <th>3</th>\n      <td>53.0</td>\n      <td>53.0</td>\n      <td>53.0</td>\n      <td>52.0</td>\n      <td>53.0</td>\n      <td>53.0</td>\n      <td>54.0</td>\n      <td>54.0</td>\n      <td>54.0</td>\n      <td>54.0</td>\n      <td>...</td>\n      <td>53.0</td>\n      <td>53.0</td>\n      <td>53.0</td>\n      <td>53.0</td>\n      <td>50.0</td>\n      <td>55.0</td>\n      <td>55.0</td>\n      <td>55.0</td>\n      <td>55.0</td>\n      <td>55.0</td>\n    </tr>\n    <tr>\n      <th>4</th>\n      <td>54.0</td>\n      <td>54.0</td>\n      <td>54.0</td>\n      <td>53.0</td>\n      <td>55.0</td>\n      <td>55.0</td>\n      <td>55.0</td>\n      <td>55.0</td>\n      <td>55.0</td>\n      <td>55.0</td>\n      <td>...</td>\n      <td>51.0</td>\n      <td>51.0</td>\n      <td>53.0</td>\n      <td>53.0</td>\n      <td>52.0</td>\n      <td>54.0</td>\n      <td>54.0</td>\n      <td>54.0</td>\n      <td>54.0</td>\n      <td>54.0</td>\n    </tr>\n    <tr>\n      <th>...</th>\n      <td>...</td>\n      <td>...</td>\n      <td>...</td>\n      <td>...</td>\n      <td>...</td>\n      <td>...</td>\n      <td>...</td>\n      <td>...</td>\n      <td>...</td>\n      <td>...</td>\n      <td>...</td>\n      <td>...</td>\n      <td>...</td>\n      <td>...</td>\n      <td>...</td>\n      <td>...</td>\n      <td>...</td>\n      <td>...</td>\n      <td>...</td>\n      <td>...</td>\n      <td>...</td>\n    </tr>\n    <tr>\n      <th>2495</th>\n      <td>53.0</td>\n      <td>53.0</td>\n      <td>53.0</td>\n      <td>54.0</td>\n      <td>55.0</td>\n      <td>55.0</td>\n      <td>22.0</td>\n      <td>22.0</td>\n      <td>22.0</td>\n      <td>22.0</td>\n      <td>...</td>\n      <td>54.0</td>\n      <td>54.0</td>\n      <td>50.0</td>\n      <td>50.0</td>\n      <td>50.0</td>\n      <td>52.0</td>\n      <td>52.0</td>\n      <td>52.0</td>\n      <td>52.0</td>\n      <td>52.0</td>\n    </tr>\n    <tr>\n      <th>2496</th>\n      <td>55.0</td>\n      <td>55.0</td>\n      <td>55.0</td>\n      <td>54.0</td>\n      <td>56.0</td>\n      <td>56.0</td>\n      <td>14.0</td>\n      <td>14.0</td>\n      <td>14.0</td>\n      <td>14.0</td>\n      <td>...</td>\n      <td>50.0</td>\n      <td>50.0</td>\n      <td>51.0</td>\n      <td>51.0</td>\n      <td>53.0</td>\n      <td>51.0</td>\n      <td>51.0</td>\n      <td>51.0</td>\n      <td>51.0</td>\n      <td>51.0</td>\n    </tr>\n    <tr>\n      <th>2497</th>\n      <td>52.0</td>\n      <td>52.0</td>\n      <td>52.0</td>\n      <td>53.0</td>\n      <td>53.0</td>\n      <td>53.0</td>\n      <td>37.0</td>\n      <td>37.0</td>\n      <td>37.0</td>\n      <td>37.0</td>\n      <td>...</td>\n      <td>53.0</td>\n      <td>53.0</td>\n      <td>51.0</td>\n      <td>51.0</td>\n      <td>53.0</td>\n      <td>52.0</td>\n      <td>52.0</td>\n      <td>52.0</td>\n      <td>52.0</td>\n      <td>52.0</td>\n    </tr>\n    <tr>\n      <th>2498</th>\n      <td>52.0</td>\n      <td>52.0</td>\n      <td>52.0</td>\n      <td>53.0</td>\n      <td>54.0</td>\n      <td>54.0</td>\n      <td>51.0</td>\n      <td>51.0</td>\n      <td>51.0</td>\n      <td>51.0</td>\n      <td>...</td>\n      <td>52.0</td>\n      <td>52.0</td>\n      <td>53.0</td>\n      <td>53.0</td>\n      <td>52.0</td>\n      <td>52.0</td>\n      <td>52.0</td>\n      <td>52.0</td>\n      <td>52.0</td>\n      <td>52.0</td>\n    </tr>\n    <tr>\n      <th>2499</th>\n      <td>53.0</td>\n      <td>53.0</td>\n      <td>53.0</td>\n      <td>52.0</td>\n      <td>55.0</td>\n      <td>55.0</td>\n      <td>47.0</td>\n      <td>47.0</td>\n      <td>47.0</td>\n      <td>47.0</td>\n      <td>...</td>\n      <td>53.0</td>\n      <td>53.0</td>\n      <td>52.0</td>\n      <td>52.0</td>\n      <td>52.0</td>\n      <td>54.0</td>\n      <td>54.0</td>\n      <td>54.0</td>\n      <td>54.0</td>\n      <td>54.0</td>\n    </tr>\n  </tbody>\n</table>\n<p>2500 rows × 5555 columns</p>\n</div>"
     },
     "metadata": {},
     "execution_count": 3
    }
   ],
   "source": [
    "df"
   ]
  },
  {
   "cell_type": "code",
   "execution_count": 4,
   "metadata": {},
   "outputs": [],
   "source": [
    "# sns.histplot(data=df.event_0)"
   ]
  },
  {
   "cell_type": "code",
   "execution_count": 5,
   "metadata": {},
   "outputs": [],
   "source": [
    "# data_entries, bins_edges = np.histogram(df.event_0 , bins=10)\n",
    "    \n",
    "# dt = bins_edges[1] - bins_edges[0]\n",
    "# centers = np.array([ bins_edges[i] + dt/2 for i in range(len(bins_edges)-1) ])"
   ]
  },
  {
   "cell_type": "code",
   "execution_count": 6,
   "metadata": {
    "tags": []
   },
   "outputs": [
    {
     "output_type": "stream",
     "name": "stdout",
     "text": [
      "Wall time: 6 ms\n"
     ]
    }
   ],
   "source": [
    "%%time\n",
    "from Exp_Fit import Find_Peaks_Waveforms"
   ]
  },
  {
   "cell_type": "code",
   "execution_count": 7,
   "metadata": {
    "tags": []
   },
   "outputs": [
    {
     "output_type": "stream",
     "name": "stdout",
     "text": [
      "Wall time: 5.79 s\n"
     ]
    },
    {
     "output_type": "execute_result",
     "data": {
      "text/plain": [
       "            peak_X0  peak_X1  peak_Y0  peak_Y1\n",
       "event_0        94.0   1111.0    127.0    127.0\n",
       "event_1        94.0   1111.0    127.0    127.0\n",
       "event_2        94.0   1111.0    127.0    127.0\n",
       "event_3        94.0    322.0    127.0    127.0\n",
       "event_4        94.0   1815.0    127.0     32.0\n",
       "...             ...      ...      ...      ...\n",
       "event_5550     93.0   1736.0      4.0    127.0\n",
       "event_5551     93.0   1736.0      4.0    127.0\n",
       "event_5552     93.0   1736.0      4.0    127.0\n",
       "event_5553     93.0   1736.0      4.0    127.0\n",
       "event_5554     93.0   1736.0      4.0    127.0\n",
       "\n",
       "[5555 rows x 4 columns]"
      ],
      "text/html": "<div>\n<style scoped>\n    .dataframe tbody tr th:only-of-type {\n        vertical-align: middle;\n    }\n\n    .dataframe tbody tr th {\n        vertical-align: top;\n    }\n\n    .dataframe thead th {\n        text-align: right;\n    }\n</style>\n<table border=\"1\" class=\"dataframe\">\n  <thead>\n    <tr style=\"text-align: right;\">\n      <th></th>\n      <th>peak_X0</th>\n      <th>peak_X1</th>\n      <th>peak_Y0</th>\n      <th>peak_Y1</th>\n    </tr>\n  </thead>\n  <tbody>\n    <tr>\n      <th>event_0</th>\n      <td>94.0</td>\n      <td>1111.0</td>\n      <td>127.0</td>\n      <td>127.0</td>\n    </tr>\n    <tr>\n      <th>event_1</th>\n      <td>94.0</td>\n      <td>1111.0</td>\n      <td>127.0</td>\n      <td>127.0</td>\n    </tr>\n    <tr>\n      <th>event_2</th>\n      <td>94.0</td>\n      <td>1111.0</td>\n      <td>127.0</td>\n      <td>127.0</td>\n    </tr>\n    <tr>\n      <th>event_3</th>\n      <td>94.0</td>\n      <td>322.0</td>\n      <td>127.0</td>\n      <td>127.0</td>\n    </tr>\n    <tr>\n      <th>event_4</th>\n      <td>94.0</td>\n      <td>1815.0</td>\n      <td>127.0</td>\n      <td>32.0</td>\n    </tr>\n    <tr>\n      <th>...</th>\n      <td>...</td>\n      <td>...</td>\n      <td>...</td>\n      <td>...</td>\n    </tr>\n    <tr>\n      <th>event_5550</th>\n      <td>93.0</td>\n      <td>1736.0</td>\n      <td>4.0</td>\n      <td>127.0</td>\n    </tr>\n    <tr>\n      <th>event_5551</th>\n      <td>93.0</td>\n      <td>1736.0</td>\n      <td>4.0</td>\n      <td>127.0</td>\n    </tr>\n    <tr>\n      <th>event_5552</th>\n      <td>93.0</td>\n      <td>1736.0</td>\n      <td>4.0</td>\n      <td>127.0</td>\n    </tr>\n    <tr>\n      <th>event_5553</th>\n      <td>93.0</td>\n      <td>1736.0</td>\n      <td>4.0</td>\n      <td>127.0</td>\n    </tr>\n    <tr>\n      <th>event_5554</th>\n      <td>93.0</td>\n      <td>1736.0</td>\n      <td>4.0</td>\n      <td>127.0</td>\n    </tr>\n  </tbody>\n</table>\n<p>5555 rows × 4 columns</p>\n</div>"
     },
     "metadata": {},
     "execution_count": 7
    }
   ],
   "source": [
    "%%time\n",
    "Find_Peaks_Waveforms(df)"
   ]
  },
  {
   "cell_type": "code",
   "execution_count": null,
   "metadata": {},
   "outputs": [],
   "source": []
  }
 ]
}