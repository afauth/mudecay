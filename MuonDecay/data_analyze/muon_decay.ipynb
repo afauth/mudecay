{
 "metadata": {
  "language_info": {
   "codemirror_mode": {
    "name": "ipython",
    "version": 3
   },
   "file_extension": ".py",
   "mimetype": "text/x-python",
   "name": "python",
   "nbconvert_exporter": "python",
   "pygments_lexer": "ipython3",
   "version": "3.8.8"
  },
  "orig_nbformat": 2,
  "kernelspec": {
   "name": "python3",
   "display_name": "Python 3.8.8 64-bit ('base': conda)"
  },
  "interpreter": {
   "hash": "25f47d99557ba0924d1d76d7e20d512e15617d649528b4a55486bbe742599eab"
  }
 },
 "nbformat": 4,
 "nbformat_minor": 2,
 "cells": [
  {
   "cell_type": "code",
   "execution_count": 1,
   "metadata": {},
   "outputs": [],
   "source": [
    "import pandas as pd"
   ]
  },
  {
   "cell_type": "code",
   "execution_count": 2,
   "metadata": {},
   "outputs": [
    {
     "output_type": "stream",
     "name": "stdout",
     "text": [
      "../documents/data/.previous_data/99_eventos-edit.csv\n"
     ]
    }
   ],
   "source": [
    "path = '../documents/data/.previous_data/99_eventos-edit.csv'\n",
    "print(path)"
   ]
  },
  {
   "cell_type": "code",
   "execution_count": 3,
   "metadata": {},
   "outputs": [],
   "source": [
    "# %%time\n",
    "# from Preliminaries.concat_csv_files import concat_csv\n",
    "# df = concat_csv(path=path)\n",
    "# waveform = df[1:]"
   ]
  },
  {
   "cell_type": "code",
   "execution_count": 4,
   "metadata": {},
   "outputs": [
    {
     "output_type": "execute_result",
     "data": {
      "text/plain": [
       "      event_0  event_1  event_2  event_3  event_4  event_5  event_6  event_7  \\\n",
       "0        56.0     56.0     56.0     53.0     55.0     55.0     54.0     54.0   \n",
       "1        55.0     55.0     55.0     53.0     55.0     55.0     54.0     54.0   \n",
       "2        53.0     53.0     53.0     51.0     53.0     53.0     55.0     55.0   \n",
       "3        53.0     53.0     53.0     52.0     53.0     53.0     54.0     54.0   \n",
       "4        54.0     54.0     54.0     53.0     55.0     55.0     55.0     55.0   \n",
       "...       ...      ...      ...      ...      ...      ...      ...      ...   \n",
       "2495     53.0     53.0     53.0     54.0     55.0     55.0     22.0     22.0   \n",
       "2496     55.0     55.0     55.0     54.0     56.0     56.0     14.0     14.0   \n",
       "2497     52.0     52.0     52.0     53.0     53.0     53.0     37.0     37.0   \n",
       "2498     52.0     52.0     52.0     53.0     54.0     54.0     51.0     51.0   \n",
       "2499     53.0     53.0     53.0     52.0     55.0     55.0     47.0     47.0   \n",
       "\n",
       "      event_8  event_9  ...  event_89  event_90  event_91  event_92  event_93  \\\n",
       "0        54.0     54.0  ...      54.0      52.0      52.0      53.0      54.0   \n",
       "1        54.0     54.0  ...      54.0      51.0      51.0      53.0      53.0   \n",
       "2        55.0     55.0  ...      52.0      53.0      53.0      54.0      52.0   \n",
       "3        54.0     54.0  ...      52.0      52.0      52.0      53.0      52.0   \n",
       "4        55.0     55.0  ...      52.0      53.0      53.0      54.0      55.0   \n",
       "...       ...      ...  ...       ...       ...       ...       ...       ...   \n",
       "2495     22.0     22.0  ...      55.0      54.0      54.0      52.0      53.0   \n",
       "2496     14.0     14.0  ...      54.0      53.0      53.0      53.0      54.0   \n",
       "2497     37.0     37.0  ...      54.0      53.0      53.0      51.0      51.0   \n",
       "2498     51.0     51.0  ...      53.0      54.0      54.0      53.0      53.0   \n",
       "2499     47.0     47.0  ...      53.0      52.0      52.0      54.0      53.0   \n",
       "\n",
       "      event_94  event_95  event_96  event_97  event_98  \n",
       "0         54.0      53.0      54.0      54.0      56.0  \n",
       "1         51.0      55.0      54.0      54.0      52.0  \n",
       "2         53.0      53.0      54.0      54.0      55.0  \n",
       "3         54.0      53.0      55.0      55.0      55.0  \n",
       "4         50.0      53.0      54.0      54.0      54.0  \n",
       "...        ...       ...       ...       ...       ...  \n",
       "2495      53.0      52.0      54.0      54.0      54.0  \n",
       "2496      53.0      54.0      54.0      54.0      52.0  \n",
       "2497      53.0      53.0      54.0      54.0      54.0  \n",
       "2498      52.0      54.0      53.0      53.0      55.0  \n",
       "2499      53.0      52.0      53.0      53.0      53.0  \n",
       "\n",
       "[2500 rows x 99 columns]"
      ],
      "text/html": "<div>\n<style scoped>\n    .dataframe tbody tr th:only-of-type {\n        vertical-align: middle;\n    }\n\n    .dataframe tbody tr th {\n        vertical-align: top;\n    }\n\n    .dataframe thead th {\n        text-align: right;\n    }\n</style>\n<table border=\"1\" class=\"dataframe\">\n  <thead>\n    <tr style=\"text-align: right;\">\n      <th></th>\n      <th>event_0</th>\n      <th>event_1</th>\n      <th>event_2</th>\n      <th>event_3</th>\n      <th>event_4</th>\n      <th>event_5</th>\n      <th>event_6</th>\n      <th>event_7</th>\n      <th>event_8</th>\n      <th>event_9</th>\n      <th>...</th>\n      <th>event_89</th>\n      <th>event_90</th>\n      <th>event_91</th>\n      <th>event_92</th>\n      <th>event_93</th>\n      <th>event_94</th>\n      <th>event_95</th>\n      <th>event_96</th>\n      <th>event_97</th>\n      <th>event_98</th>\n    </tr>\n  </thead>\n  <tbody>\n    <tr>\n      <th>0</th>\n      <td>56.0</td>\n      <td>56.0</td>\n      <td>56.0</td>\n      <td>53.0</td>\n      <td>55.0</td>\n      <td>55.0</td>\n      <td>54.0</td>\n      <td>54.0</td>\n      <td>54.0</td>\n      <td>54.0</td>\n      <td>...</td>\n      <td>54.0</td>\n      <td>52.0</td>\n      <td>52.0</td>\n      <td>53.0</td>\n      <td>54.0</td>\n      <td>54.0</td>\n      <td>53.0</td>\n      <td>54.0</td>\n      <td>54.0</td>\n      <td>56.0</td>\n    </tr>\n    <tr>\n      <th>1</th>\n      <td>55.0</td>\n      <td>55.0</td>\n      <td>55.0</td>\n      <td>53.0</td>\n      <td>55.0</td>\n      <td>55.0</td>\n      <td>54.0</td>\n      <td>54.0</td>\n      <td>54.0</td>\n      <td>54.0</td>\n      <td>...</td>\n      <td>54.0</td>\n      <td>51.0</td>\n      <td>51.0</td>\n      <td>53.0</td>\n      <td>53.0</td>\n      <td>51.0</td>\n      <td>55.0</td>\n      <td>54.0</td>\n      <td>54.0</td>\n      <td>52.0</td>\n    </tr>\n    <tr>\n      <th>2</th>\n      <td>53.0</td>\n      <td>53.0</td>\n      <td>53.0</td>\n      <td>51.0</td>\n      <td>53.0</td>\n      <td>53.0</td>\n      <td>55.0</td>\n      <td>55.0</td>\n      <td>55.0</td>\n      <td>55.0</td>\n      <td>...</td>\n      <td>52.0</td>\n      <td>53.0</td>\n      <td>53.0</td>\n      <td>54.0</td>\n      <td>52.0</td>\n      <td>53.0</td>\n      <td>53.0</td>\n      <td>54.0</td>\n      <td>54.0</td>\n      <td>55.0</td>\n    </tr>\n    <tr>\n      <th>3</th>\n      <td>53.0</td>\n      <td>53.0</td>\n      <td>53.0</td>\n      <td>52.0</td>\n      <td>53.0</td>\n      <td>53.0</td>\n      <td>54.0</td>\n      <td>54.0</td>\n      <td>54.0</td>\n      <td>54.0</td>\n      <td>...</td>\n      <td>52.0</td>\n      <td>52.0</td>\n      <td>52.0</td>\n      <td>53.0</td>\n      <td>52.0</td>\n      <td>54.0</td>\n      <td>53.0</td>\n      <td>55.0</td>\n      <td>55.0</td>\n      <td>55.0</td>\n    </tr>\n    <tr>\n      <th>4</th>\n      <td>54.0</td>\n      <td>54.0</td>\n      <td>54.0</td>\n      <td>53.0</td>\n      <td>55.0</td>\n      <td>55.0</td>\n      <td>55.0</td>\n      <td>55.0</td>\n      <td>55.0</td>\n      <td>55.0</td>\n      <td>...</td>\n      <td>52.0</td>\n      <td>53.0</td>\n      <td>53.0</td>\n      <td>54.0</td>\n      <td>55.0</td>\n      <td>50.0</td>\n      <td>53.0</td>\n      <td>54.0</td>\n      <td>54.0</td>\n      <td>54.0</td>\n    </tr>\n    <tr>\n      <th>...</th>\n      <td>...</td>\n      <td>...</td>\n      <td>...</td>\n      <td>...</td>\n      <td>...</td>\n      <td>...</td>\n      <td>...</td>\n      <td>...</td>\n      <td>...</td>\n      <td>...</td>\n      <td>...</td>\n      <td>...</td>\n      <td>...</td>\n      <td>...</td>\n      <td>...</td>\n      <td>...</td>\n      <td>...</td>\n      <td>...</td>\n      <td>...</td>\n      <td>...</td>\n      <td>...</td>\n    </tr>\n    <tr>\n      <th>2495</th>\n      <td>53.0</td>\n      <td>53.0</td>\n      <td>53.0</td>\n      <td>54.0</td>\n      <td>55.0</td>\n      <td>55.0</td>\n      <td>22.0</td>\n      <td>22.0</td>\n      <td>22.0</td>\n      <td>22.0</td>\n      <td>...</td>\n      <td>55.0</td>\n      <td>54.0</td>\n      <td>54.0</td>\n      <td>52.0</td>\n      <td>53.0</td>\n      <td>53.0</td>\n      <td>52.0</td>\n      <td>54.0</td>\n      <td>54.0</td>\n      <td>54.0</td>\n    </tr>\n    <tr>\n      <th>2496</th>\n      <td>55.0</td>\n      <td>55.0</td>\n      <td>55.0</td>\n      <td>54.0</td>\n      <td>56.0</td>\n      <td>56.0</td>\n      <td>14.0</td>\n      <td>14.0</td>\n      <td>14.0</td>\n      <td>14.0</td>\n      <td>...</td>\n      <td>54.0</td>\n      <td>53.0</td>\n      <td>53.0</td>\n      <td>53.0</td>\n      <td>54.0</td>\n      <td>53.0</td>\n      <td>54.0</td>\n      <td>54.0</td>\n      <td>54.0</td>\n      <td>52.0</td>\n    </tr>\n    <tr>\n      <th>2497</th>\n      <td>52.0</td>\n      <td>52.0</td>\n      <td>52.0</td>\n      <td>53.0</td>\n      <td>53.0</td>\n      <td>53.0</td>\n      <td>37.0</td>\n      <td>37.0</td>\n      <td>37.0</td>\n      <td>37.0</td>\n      <td>...</td>\n      <td>54.0</td>\n      <td>53.0</td>\n      <td>53.0</td>\n      <td>51.0</td>\n      <td>51.0</td>\n      <td>53.0</td>\n      <td>53.0</td>\n      <td>54.0</td>\n      <td>54.0</td>\n      <td>54.0</td>\n    </tr>\n    <tr>\n      <th>2498</th>\n      <td>52.0</td>\n      <td>52.0</td>\n      <td>52.0</td>\n      <td>53.0</td>\n      <td>54.0</td>\n      <td>54.0</td>\n      <td>51.0</td>\n      <td>51.0</td>\n      <td>51.0</td>\n      <td>51.0</td>\n      <td>...</td>\n      <td>53.0</td>\n      <td>54.0</td>\n      <td>54.0</td>\n      <td>53.0</td>\n      <td>53.0</td>\n      <td>52.0</td>\n      <td>54.0</td>\n      <td>53.0</td>\n      <td>53.0</td>\n      <td>55.0</td>\n    </tr>\n    <tr>\n      <th>2499</th>\n      <td>53.0</td>\n      <td>53.0</td>\n      <td>53.0</td>\n      <td>52.0</td>\n      <td>55.0</td>\n      <td>55.0</td>\n      <td>47.0</td>\n      <td>47.0</td>\n      <td>47.0</td>\n      <td>47.0</td>\n      <td>...</td>\n      <td>53.0</td>\n      <td>52.0</td>\n      <td>52.0</td>\n      <td>54.0</td>\n      <td>53.0</td>\n      <td>53.0</td>\n      <td>52.0</td>\n      <td>53.0</td>\n      <td>53.0</td>\n      <td>53.0</td>\n    </tr>\n  </tbody>\n</table>\n<p>2500 rows × 99 columns</p>\n</div>"
     },
     "metadata": {},
     "execution_count": 4
    }
   ],
   "source": [
    "df = pd.read_csv(path, index_col=0)\n",
    "df"
   ]
  },
  {
   "cell_type": "code",
   "execution_count": 5,
   "metadata": {},
   "outputs": [],
   "source": [
    "# df = pd.read_csv(file, index_col=0).T"
   ]
  },
  {
   "cell_type": "code",
   "execution_count": 6,
   "metadata": {},
   "outputs": [],
   "source": [
    "# waveform"
   ]
  },
  {
   "cell_type": "code",
   "execution_count": 7,
   "metadata": {},
   "outputs": [],
   "source": [
    "from Analyze.muon_decay import peaks_muon_decay, contours_muon_decay, Analysis_MuonDecay"
   ]
  },
  {
   "cell_type": "code",
   "execution_count": 8,
   "metadata": {},
   "outputs": [],
   "source": [
    "peaks, problems = peaks_muon_decay(df=-1*df, height=0)"
   ]
  },
  {
   "cell_type": "code",
   "execution_count": 9,
   "metadata": {},
   "outputs": [
    {
     "output_type": "execute_result",
     "data": {
      "text/plain": [
       "          peak_X0  peak_X1  peak_Y0  peak_Y1\n",
       "event_0      94.0   1111.0    127.0    127.0\n",
       "event_1      94.0   1111.0    127.0    127.0\n",
       "event_2      94.0   1111.0    127.0    127.0\n",
       "event_3      94.0    322.0    127.0    127.0\n",
       "event_4      94.0   1815.0    127.0     32.0\n",
       "...           ...      ...      ...      ...\n",
       "event_94     94.0    226.0    127.0     45.0\n",
       "event_95     94.0    781.0    127.0     27.0\n",
       "event_96     94.0   1347.0    127.0     84.0\n",
       "event_97     94.0   1347.0    127.0     84.0\n",
       "event_98     93.0   1208.0     56.0    127.0\n",
       "\n",
       "[99 rows x 4 columns]"
      ],
      "text/html": "<div>\n<style scoped>\n    .dataframe tbody tr th:only-of-type {\n        vertical-align: middle;\n    }\n\n    .dataframe tbody tr th {\n        vertical-align: top;\n    }\n\n    .dataframe thead th {\n        text-align: right;\n    }\n</style>\n<table border=\"1\" class=\"dataframe\">\n  <thead>\n    <tr style=\"text-align: right;\">\n      <th></th>\n      <th>peak_X0</th>\n      <th>peak_X1</th>\n      <th>peak_Y0</th>\n      <th>peak_Y1</th>\n    </tr>\n  </thead>\n  <tbody>\n    <tr>\n      <th>event_0</th>\n      <td>94.0</td>\n      <td>1111.0</td>\n      <td>127.0</td>\n      <td>127.0</td>\n    </tr>\n    <tr>\n      <th>event_1</th>\n      <td>94.0</td>\n      <td>1111.0</td>\n      <td>127.0</td>\n      <td>127.0</td>\n    </tr>\n    <tr>\n      <th>event_2</th>\n      <td>94.0</td>\n      <td>1111.0</td>\n      <td>127.0</td>\n      <td>127.0</td>\n    </tr>\n    <tr>\n      <th>event_3</th>\n      <td>94.0</td>\n      <td>322.0</td>\n      <td>127.0</td>\n      <td>127.0</td>\n    </tr>\n    <tr>\n      <th>event_4</th>\n      <td>94.0</td>\n      <td>1815.0</td>\n      <td>127.0</td>\n      <td>32.0</td>\n    </tr>\n    <tr>\n      <th>...</th>\n      <td>...</td>\n      <td>...</td>\n      <td>...</td>\n      <td>...</td>\n    </tr>\n    <tr>\n      <th>event_94</th>\n      <td>94.0</td>\n      <td>226.0</td>\n      <td>127.0</td>\n      <td>45.0</td>\n    </tr>\n    <tr>\n      <th>event_95</th>\n      <td>94.0</td>\n      <td>781.0</td>\n      <td>127.0</td>\n      <td>27.0</td>\n    </tr>\n    <tr>\n      <th>event_96</th>\n      <td>94.0</td>\n      <td>1347.0</td>\n      <td>127.0</td>\n      <td>84.0</td>\n    </tr>\n    <tr>\n      <th>event_97</th>\n      <td>94.0</td>\n      <td>1347.0</td>\n      <td>127.0</td>\n      <td>84.0</td>\n    </tr>\n    <tr>\n      <th>event_98</th>\n      <td>93.0</td>\n      <td>1208.0</td>\n      <td>56.0</td>\n      <td>127.0</td>\n    </tr>\n  </tbody>\n</table>\n<p>99 rows × 4 columns</p>\n</div>"
     },
     "metadata": {},
     "execution_count": 9
    }
   ],
   "source": [
    "peaks"
   ]
  },
  {
   "cell_type": "code",
   "execution_count": 10,
   "metadata": {},
   "outputs": [],
   "source": [
    "contours_0, contours_1, problems = contours_muon_decay(waveform=df, peak=peaks)"
   ]
  },
  {
   "cell_type": "code",
   "execution_count": 12,
   "metadata": {},
   "outputs": [
    {
     "output_type": "execute_result",
     "data": {
      "text/plain": [
       "                       problem\n",
       "event_6  contour out of bounds\n",
       "event_7  contour out of bounds\n",
       "event_8  contour out of bounds\n",
       "event_9  contour out of bounds"
      ],
      "text/html": "<div>\n<style scoped>\n    .dataframe tbody tr th:only-of-type {\n        vertical-align: middle;\n    }\n\n    .dataframe tbody tr th {\n        vertical-align: top;\n    }\n\n    .dataframe thead th {\n        text-align: right;\n    }\n</style>\n<table border=\"1\" class=\"dataframe\">\n  <thead>\n    <tr style=\"text-align: right;\">\n      <th></th>\n      <th>problem</th>\n    </tr>\n  </thead>\n  <tbody>\n    <tr>\n      <th>event_6</th>\n      <td>contour out of bounds</td>\n    </tr>\n    <tr>\n      <th>event_7</th>\n      <td>contour out of bounds</td>\n    </tr>\n    <tr>\n      <th>event_8</th>\n      <td>contour out of bounds</td>\n    </tr>\n    <tr>\n      <th>event_9</th>\n      <td>contour out of bounds</td>\n    </tr>\n  </tbody>\n</table>\n</div>"
     },
     "metadata": {},
     "execution_count": 12
    }
   ],
   "source": [
    "problems"
   ]
  },
  {
   "cell_type": "code",
   "execution_count": 13,
   "metadata": {},
   "outputs": [
    {
     "output_type": "execute_result",
     "data": {
      "text/plain": [
       "    event_0  event_1  event_2  event_3  event_4  event_5  event_10  event_11  \\\n",
       "0      53.0     53.0     53.0     53.0     51.0     51.0      55.0      54.0   \n",
       "1      54.0     54.0     54.0     53.0     51.0     51.0      54.0      53.0   \n",
       "2      51.0     51.0     51.0     55.0     55.0     55.0      53.0      53.0   \n",
       "3      52.0     52.0     52.0     52.0     52.0     52.0      53.0      52.0   \n",
       "4      55.0     55.0     55.0     52.0     53.0     53.0      53.0      51.0   \n",
       "5      53.0     53.0     53.0     54.0     51.0     51.0      54.0      54.0   \n",
       "6      54.0     54.0     54.0     55.0     55.0     55.0      55.0      52.0   \n",
       "7      52.0     52.0     52.0     53.0     53.0     53.0      51.0      53.0   \n",
       "8      22.0     22.0     22.0     20.0     43.0     43.0      49.0      51.0   \n",
       "9     -95.0    -95.0    -95.0   -105.0    -59.0    -59.0     -21.0      -7.0   \n",
       "10   -127.0   -127.0   -127.0   -127.0   -127.0   -127.0    -127.0    -127.0   \n",
       "11    -56.0    -56.0    -56.0    -54.0   -127.0   -127.0    -127.0    -127.0   \n",
       "12     18.0     18.0     18.0      7.0    -21.0    -21.0     -99.0    -109.0   \n",
       "13     39.0     39.0     39.0     27.0     25.0     25.0       8.0       7.0   \n",
       "14     29.0     29.0     29.0     21.0     21.0     21.0      21.0      25.0   \n",
       "15     30.0     30.0     30.0     29.0     18.0     18.0       6.0       7.0   \n",
       "16     49.0     49.0     49.0     47.0     40.0     40.0      20.0      18.0   \n",
       "17     51.0     51.0     51.0     46.0     53.0     53.0      42.0      45.0   \n",
       "18     46.0     46.0     46.0     43.0     50.0     50.0      44.0      49.0   \n",
       "19     43.0     43.0     43.0     44.0     44.0     44.0      42.0      40.0   \n",
       "20     51.0     51.0     51.0     47.0     47.0     47.0      39.0      39.0   \n",
       "21     55.0     55.0     55.0     52.0     55.0     55.0      50.0      46.0   \n",
       "22     50.0     50.0     50.0     47.0     52.0     52.0      54.0      53.0   \n",
       "23     47.0     47.0     47.0     53.0     50.0     50.0      48.0      49.0   \n",
       "24     55.0     55.0     55.0     54.0     51.0     51.0      49.0      47.0   \n",
       "\n",
       "    event_12  event_13  ...  event_89  event_90  event_91  event_92  event_93  \\\n",
       "0       54.0      54.0  ...      55.0      52.0      52.0      53.0      53.0   \n",
       "1       51.0      51.0  ...      53.0      54.0      54.0      55.0      53.0   \n",
       "2       54.0      54.0  ...      53.0      51.0      51.0      53.0      52.0   \n",
       "3       54.0      54.0  ...      55.0      52.0      52.0      53.0      55.0   \n",
       "4       52.0      52.0  ...      53.0      55.0      55.0      53.0      53.0   \n",
       "5       53.0      53.0  ...      54.0      54.0      54.0      54.0      52.0   \n",
       "6       53.0      53.0  ...      54.0      52.0      52.0      56.0      52.0   \n",
       "7       53.0      53.0  ...      53.0      54.0      54.0      54.0      52.0   \n",
       "8       45.0      45.0  ...      53.0      30.0      30.0      45.0      37.0   \n",
       "9      -20.0     -20.0  ...      11.0     -71.0     -71.0     -23.0    -104.0   \n",
       "10    -108.0    -108.0  ...     -48.0    -127.0    -127.0    -108.0    -127.0   \n",
       "11     -80.0     -80.0  ...     -27.0     -72.0     -72.0     -74.0    -127.0   \n",
       "12      -2.0      -2.0  ...      23.0      14.0      14.0      -1.0     -34.0   \n",
       "13      30.0      30.0  ...      40.0      43.0      43.0      37.0      27.0   \n",
       "14      29.0      29.0  ...      43.0      32.0      32.0      35.0      25.0   \n",
       "15      30.0      30.0  ...      41.0      30.0      30.0      27.0      15.0   \n",
       "16      43.0      43.0  ...      45.0      47.0      47.0      40.0      36.0   \n",
       "17      51.0      51.0  ...      54.0      53.0      53.0      51.0      45.0   \n",
       "18      47.0      47.0  ...      52.0      48.0      48.0      48.0      43.0   \n",
       "19      43.0      43.0  ...      48.0      48.0      48.0      46.0      42.0   \n",
       "20      48.0      48.0  ...      47.0      50.0      50.0      47.0      48.0   \n",
       "21      53.0      53.0  ...      50.0      52.0      52.0      52.0      55.0   \n",
       "22      51.0      51.0  ...      52.0      50.0      50.0      50.0      51.0   \n",
       "23      48.0      48.0  ...      50.0      46.0      46.0      48.0      46.0   \n",
       "24      51.0      51.0  ...      53.0      52.0      52.0      52.0      53.0   \n",
       "\n",
       "    event_94  event_95  event_96  event_97  event_98  \n",
       "0       53.0      54.0      54.0      54.0      53.0  \n",
       "1       53.0      54.0      52.0      52.0      54.0  \n",
       "2       52.0      55.0      52.0      52.0      54.0  \n",
       "3       53.0      56.0      55.0      55.0      53.0  \n",
       "4       53.0      54.0      54.0      54.0      52.0  \n",
       "5       53.0      53.0      51.0      51.0      56.0  \n",
       "6       50.0      53.0      56.0      56.0      56.0  \n",
       "7       52.0      54.0      55.0      55.0      53.0  \n",
       "8       51.0      49.0      51.0      51.0      49.0  \n",
       "9       12.0     -38.0     -16.0     -16.0       2.0  \n",
       "10    -127.0    -127.0    -127.0    -127.0     -56.0  \n",
       "11    -127.0    -127.0    -127.0    -127.0     -41.0  \n",
       "12     -99.0     -83.0     -39.0     -39.0      12.0  \n",
       "13      -2.0      19.0      29.0      29.0      39.0  \n",
       "14      27.0      20.0      28.0      28.0      38.0  \n",
       "15      16.0       7.0      15.0      15.0      35.0  \n",
       "16      26.0      22.0      33.0      33.0      45.0  \n",
       "17      45.0      48.0      52.0      52.0      53.0  \n",
       "18      46.0      50.0      50.0      50.0      50.0  \n",
       "19      42.0      43.0      39.0      39.0      47.0  \n",
       "20      45.0      38.0      38.0      38.0      51.0  \n",
       "21      52.0      49.0      50.0      50.0      54.0  \n",
       "22      57.0      55.0      53.0      53.0      55.0  \n",
       "23      48.0      47.0      47.0      47.0      50.0  \n",
       "24      49.0      51.0      50.0      50.0      53.0  \n",
       "\n",
       "[25 rows x 95 columns]"
      ],
      "text/html": "<div>\n<style scoped>\n    .dataframe tbody tr th:only-of-type {\n        vertical-align: middle;\n    }\n\n    .dataframe tbody tr th {\n        vertical-align: top;\n    }\n\n    .dataframe thead th {\n        text-align: right;\n    }\n</style>\n<table border=\"1\" class=\"dataframe\">\n  <thead>\n    <tr style=\"text-align: right;\">\n      <th></th>\n      <th>event_0</th>\n      <th>event_1</th>\n      <th>event_2</th>\n      <th>event_3</th>\n      <th>event_4</th>\n      <th>event_5</th>\n      <th>event_10</th>\n      <th>event_11</th>\n      <th>event_12</th>\n      <th>event_13</th>\n      <th>...</th>\n      <th>event_89</th>\n      <th>event_90</th>\n      <th>event_91</th>\n      <th>event_92</th>\n      <th>event_93</th>\n      <th>event_94</th>\n      <th>event_95</th>\n      <th>event_96</th>\n      <th>event_97</th>\n      <th>event_98</th>\n    </tr>\n  </thead>\n  <tbody>\n    <tr>\n      <th>0</th>\n      <td>53.0</td>\n      <td>53.0</td>\n      <td>53.0</td>\n      <td>53.0</td>\n      <td>51.0</td>\n      <td>51.0</td>\n      <td>55.0</td>\n      <td>54.0</td>\n      <td>54.0</td>\n      <td>54.0</td>\n      <td>...</td>\n      <td>55.0</td>\n      <td>52.0</td>\n      <td>52.0</td>\n      <td>53.0</td>\n      <td>53.0</td>\n      <td>53.0</td>\n      <td>54.0</td>\n      <td>54.0</td>\n      <td>54.0</td>\n      <td>53.0</td>\n    </tr>\n    <tr>\n      <th>1</th>\n      <td>54.0</td>\n      <td>54.0</td>\n      <td>54.0</td>\n      <td>53.0</td>\n      <td>51.0</td>\n      <td>51.0</td>\n      <td>54.0</td>\n      <td>53.0</td>\n      <td>51.0</td>\n      <td>51.0</td>\n      <td>...</td>\n      <td>53.0</td>\n      <td>54.0</td>\n      <td>54.0</td>\n      <td>55.0</td>\n      <td>53.0</td>\n      <td>53.0</td>\n      <td>54.0</td>\n      <td>52.0</td>\n      <td>52.0</td>\n      <td>54.0</td>\n    </tr>\n    <tr>\n      <th>2</th>\n      <td>51.0</td>\n      <td>51.0</td>\n      <td>51.0</td>\n      <td>55.0</td>\n      <td>55.0</td>\n      <td>55.0</td>\n      <td>53.0</td>\n      <td>53.0</td>\n      <td>54.0</td>\n      <td>54.0</td>\n      <td>...</td>\n      <td>53.0</td>\n      <td>51.0</td>\n      <td>51.0</td>\n      <td>53.0</td>\n      <td>52.0</td>\n      <td>52.0</td>\n      <td>55.0</td>\n      <td>52.0</td>\n      <td>52.0</td>\n      <td>54.0</td>\n    </tr>\n    <tr>\n      <th>3</th>\n      <td>52.0</td>\n      <td>52.0</td>\n      <td>52.0</td>\n      <td>52.0</td>\n      <td>52.0</td>\n      <td>52.0</td>\n      <td>53.0</td>\n      <td>52.0</td>\n      <td>54.0</td>\n      <td>54.0</td>\n      <td>...</td>\n      <td>55.0</td>\n      <td>52.0</td>\n      <td>52.0</td>\n      <td>53.0</td>\n      <td>55.0</td>\n      <td>53.0</td>\n      <td>56.0</td>\n      <td>55.0</td>\n      <td>55.0</td>\n      <td>53.0</td>\n    </tr>\n    <tr>\n      <th>4</th>\n      <td>55.0</td>\n      <td>55.0</td>\n      <td>55.0</td>\n      <td>52.0</td>\n      <td>53.0</td>\n      <td>53.0</td>\n      <td>53.0</td>\n      <td>51.0</td>\n      <td>52.0</td>\n      <td>52.0</td>\n      <td>...</td>\n      <td>53.0</td>\n      <td>55.0</td>\n      <td>55.0</td>\n      <td>53.0</td>\n      <td>53.0</td>\n      <td>53.0</td>\n      <td>54.0</td>\n      <td>54.0</td>\n      <td>54.0</td>\n      <td>52.0</td>\n    </tr>\n    <tr>\n      <th>5</th>\n      <td>53.0</td>\n      <td>53.0</td>\n      <td>53.0</td>\n      <td>54.0</td>\n      <td>51.0</td>\n      <td>51.0</td>\n      <td>54.0</td>\n      <td>54.0</td>\n      <td>53.0</td>\n      <td>53.0</td>\n      <td>...</td>\n      <td>54.0</td>\n      <td>54.0</td>\n      <td>54.0</td>\n      <td>54.0</td>\n      <td>52.0</td>\n      <td>53.0</td>\n      <td>53.0</td>\n      <td>51.0</td>\n      <td>51.0</td>\n      <td>56.0</td>\n    </tr>\n    <tr>\n      <th>6</th>\n      <td>54.0</td>\n      <td>54.0</td>\n      <td>54.0</td>\n      <td>55.0</td>\n      <td>55.0</td>\n      <td>55.0</td>\n      <td>55.0</td>\n      <td>52.0</td>\n      <td>53.0</td>\n      <td>53.0</td>\n      <td>...</td>\n      <td>54.0</td>\n      <td>52.0</td>\n      <td>52.0</td>\n      <td>56.0</td>\n      <td>52.0</td>\n      <td>50.0</td>\n      <td>53.0</td>\n      <td>56.0</td>\n      <td>56.0</td>\n      <td>56.0</td>\n    </tr>\n    <tr>\n      <th>7</th>\n      <td>52.0</td>\n      <td>52.0</td>\n      <td>52.0</td>\n      <td>53.0</td>\n      <td>53.0</td>\n      <td>53.0</td>\n      <td>51.0</td>\n      <td>53.0</td>\n      <td>53.0</td>\n      <td>53.0</td>\n      <td>...</td>\n      <td>53.0</td>\n      <td>54.0</td>\n      <td>54.0</td>\n      <td>54.0</td>\n      <td>52.0</td>\n      <td>52.0</td>\n      <td>54.0</td>\n      <td>55.0</td>\n      <td>55.0</td>\n      <td>53.0</td>\n    </tr>\n    <tr>\n      <th>8</th>\n      <td>22.0</td>\n      <td>22.0</td>\n      <td>22.0</td>\n      <td>20.0</td>\n      <td>43.0</td>\n      <td>43.0</td>\n      <td>49.0</td>\n      <td>51.0</td>\n      <td>45.0</td>\n      <td>45.0</td>\n      <td>...</td>\n      <td>53.0</td>\n      <td>30.0</td>\n      <td>30.0</td>\n      <td>45.0</td>\n      <td>37.0</td>\n      <td>51.0</td>\n      <td>49.0</td>\n      <td>51.0</td>\n      <td>51.0</td>\n      <td>49.0</td>\n    </tr>\n    <tr>\n      <th>9</th>\n      <td>-95.0</td>\n      <td>-95.0</td>\n      <td>-95.0</td>\n      <td>-105.0</td>\n      <td>-59.0</td>\n      <td>-59.0</td>\n      <td>-21.0</td>\n      <td>-7.0</td>\n      <td>-20.0</td>\n      <td>-20.0</td>\n      <td>...</td>\n      <td>11.0</td>\n      <td>-71.0</td>\n      <td>-71.0</td>\n      <td>-23.0</td>\n      <td>-104.0</td>\n      <td>12.0</td>\n      <td>-38.0</td>\n      <td>-16.0</td>\n      <td>-16.0</td>\n      <td>2.0</td>\n    </tr>\n    <tr>\n      <th>10</th>\n      <td>-127.0</td>\n      <td>-127.0</td>\n      <td>-127.0</td>\n      <td>-127.0</td>\n      <td>-127.0</td>\n      <td>-127.0</td>\n      <td>-127.0</td>\n      <td>-127.0</td>\n      <td>-108.0</td>\n      <td>-108.0</td>\n      <td>...</td>\n      <td>-48.0</td>\n      <td>-127.0</td>\n      <td>-127.0</td>\n      <td>-108.0</td>\n      <td>-127.0</td>\n      <td>-127.0</td>\n      <td>-127.0</td>\n      <td>-127.0</td>\n      <td>-127.0</td>\n      <td>-56.0</td>\n    </tr>\n    <tr>\n      <th>11</th>\n      <td>-56.0</td>\n      <td>-56.0</td>\n      <td>-56.0</td>\n      <td>-54.0</td>\n      <td>-127.0</td>\n      <td>-127.0</td>\n      <td>-127.0</td>\n      <td>-127.0</td>\n      <td>-80.0</td>\n      <td>-80.0</td>\n      <td>...</td>\n      <td>-27.0</td>\n      <td>-72.0</td>\n      <td>-72.0</td>\n      <td>-74.0</td>\n      <td>-127.0</td>\n      <td>-127.0</td>\n      <td>-127.0</td>\n      <td>-127.0</td>\n      <td>-127.0</td>\n      <td>-41.0</td>\n    </tr>\n    <tr>\n      <th>12</th>\n      <td>18.0</td>\n      <td>18.0</td>\n      <td>18.0</td>\n      <td>7.0</td>\n      <td>-21.0</td>\n      <td>-21.0</td>\n      <td>-99.0</td>\n      <td>-109.0</td>\n      <td>-2.0</td>\n      <td>-2.0</td>\n      <td>...</td>\n      <td>23.0</td>\n      <td>14.0</td>\n      <td>14.0</td>\n      <td>-1.0</td>\n      <td>-34.0</td>\n      <td>-99.0</td>\n      <td>-83.0</td>\n      <td>-39.0</td>\n      <td>-39.0</td>\n      <td>12.0</td>\n    </tr>\n    <tr>\n      <th>13</th>\n      <td>39.0</td>\n      <td>39.0</td>\n      <td>39.0</td>\n      <td>27.0</td>\n      <td>25.0</td>\n      <td>25.0</td>\n      <td>8.0</td>\n      <td>7.0</td>\n      <td>30.0</td>\n      <td>30.0</td>\n      <td>...</td>\n      <td>40.0</td>\n      <td>43.0</td>\n      <td>43.0</td>\n      <td>37.0</td>\n      <td>27.0</td>\n      <td>-2.0</td>\n      <td>19.0</td>\n      <td>29.0</td>\n      <td>29.0</td>\n      <td>39.0</td>\n    </tr>\n    <tr>\n      <th>14</th>\n      <td>29.0</td>\n      <td>29.0</td>\n      <td>29.0</td>\n      <td>21.0</td>\n      <td>21.0</td>\n      <td>21.0</td>\n      <td>21.0</td>\n      <td>25.0</td>\n      <td>29.0</td>\n      <td>29.0</td>\n      <td>...</td>\n      <td>43.0</td>\n      <td>32.0</td>\n      <td>32.0</td>\n      <td>35.0</td>\n      <td>25.0</td>\n      <td>27.0</td>\n      <td>20.0</td>\n      <td>28.0</td>\n      <td>28.0</td>\n      <td>38.0</td>\n    </tr>\n    <tr>\n      <th>15</th>\n      <td>30.0</td>\n      <td>30.0</td>\n      <td>30.0</td>\n      <td>29.0</td>\n      <td>18.0</td>\n      <td>18.0</td>\n      <td>6.0</td>\n      <td>7.0</td>\n      <td>30.0</td>\n      <td>30.0</td>\n      <td>...</td>\n      <td>41.0</td>\n      <td>30.0</td>\n      <td>30.0</td>\n      <td>27.0</td>\n      <td>15.0</td>\n      <td>16.0</td>\n      <td>7.0</td>\n      <td>15.0</td>\n      <td>15.0</td>\n      <td>35.0</td>\n    </tr>\n    <tr>\n      <th>16</th>\n      <td>49.0</td>\n      <td>49.0</td>\n      <td>49.0</td>\n      <td>47.0</td>\n      <td>40.0</td>\n      <td>40.0</td>\n      <td>20.0</td>\n      <td>18.0</td>\n      <td>43.0</td>\n      <td>43.0</td>\n      <td>...</td>\n      <td>45.0</td>\n      <td>47.0</td>\n      <td>47.0</td>\n      <td>40.0</td>\n      <td>36.0</td>\n      <td>26.0</td>\n      <td>22.0</td>\n      <td>33.0</td>\n      <td>33.0</td>\n      <td>45.0</td>\n    </tr>\n    <tr>\n      <th>17</th>\n      <td>51.0</td>\n      <td>51.0</td>\n      <td>51.0</td>\n      <td>46.0</td>\n      <td>53.0</td>\n      <td>53.0</td>\n      <td>42.0</td>\n      <td>45.0</td>\n      <td>51.0</td>\n      <td>51.0</td>\n      <td>...</td>\n      <td>54.0</td>\n      <td>53.0</td>\n      <td>53.0</td>\n      <td>51.0</td>\n      <td>45.0</td>\n      <td>45.0</td>\n      <td>48.0</td>\n      <td>52.0</td>\n      <td>52.0</td>\n      <td>53.0</td>\n    </tr>\n    <tr>\n      <th>18</th>\n      <td>46.0</td>\n      <td>46.0</td>\n      <td>46.0</td>\n      <td>43.0</td>\n      <td>50.0</td>\n      <td>50.0</td>\n      <td>44.0</td>\n      <td>49.0</td>\n      <td>47.0</td>\n      <td>47.0</td>\n      <td>...</td>\n      <td>52.0</td>\n      <td>48.0</td>\n      <td>48.0</td>\n      <td>48.0</td>\n      <td>43.0</td>\n      <td>46.0</td>\n      <td>50.0</td>\n      <td>50.0</td>\n      <td>50.0</td>\n      <td>50.0</td>\n    </tr>\n    <tr>\n      <th>19</th>\n      <td>43.0</td>\n      <td>43.0</td>\n      <td>43.0</td>\n      <td>44.0</td>\n      <td>44.0</td>\n      <td>44.0</td>\n      <td>42.0</td>\n      <td>40.0</td>\n      <td>43.0</td>\n      <td>43.0</td>\n      <td>...</td>\n      <td>48.0</td>\n      <td>48.0</td>\n      <td>48.0</td>\n      <td>46.0</td>\n      <td>42.0</td>\n      <td>42.0</td>\n      <td>43.0</td>\n      <td>39.0</td>\n      <td>39.0</td>\n      <td>47.0</td>\n    </tr>\n    <tr>\n      <th>20</th>\n      <td>51.0</td>\n      <td>51.0</td>\n      <td>51.0</td>\n      <td>47.0</td>\n      <td>47.0</td>\n      <td>47.0</td>\n      <td>39.0</td>\n      <td>39.0</td>\n      <td>48.0</td>\n      <td>48.0</td>\n      <td>...</td>\n      <td>47.0</td>\n      <td>50.0</td>\n      <td>50.0</td>\n      <td>47.0</td>\n      <td>48.0</td>\n      <td>45.0</td>\n      <td>38.0</td>\n      <td>38.0</td>\n      <td>38.0</td>\n      <td>51.0</td>\n    </tr>\n    <tr>\n      <th>21</th>\n      <td>55.0</td>\n      <td>55.0</td>\n      <td>55.0</td>\n      <td>52.0</td>\n      <td>55.0</td>\n      <td>55.0</td>\n      <td>50.0</td>\n      <td>46.0</td>\n      <td>53.0</td>\n      <td>53.0</td>\n      <td>...</td>\n      <td>50.0</td>\n      <td>52.0</td>\n      <td>52.0</td>\n      <td>52.0</td>\n      <td>55.0</td>\n      <td>52.0</td>\n      <td>49.0</td>\n      <td>50.0</td>\n      <td>50.0</td>\n      <td>54.0</td>\n    </tr>\n    <tr>\n      <th>22</th>\n      <td>50.0</td>\n      <td>50.0</td>\n      <td>50.0</td>\n      <td>47.0</td>\n      <td>52.0</td>\n      <td>52.0</td>\n      <td>54.0</td>\n      <td>53.0</td>\n      <td>51.0</td>\n      <td>51.0</td>\n      <td>...</td>\n      <td>52.0</td>\n      <td>50.0</td>\n      <td>50.0</td>\n      <td>50.0</td>\n      <td>51.0</td>\n      <td>57.0</td>\n      <td>55.0</td>\n      <td>53.0</td>\n      <td>53.0</td>\n      <td>55.0</td>\n    </tr>\n    <tr>\n      <th>23</th>\n      <td>47.0</td>\n      <td>47.0</td>\n      <td>47.0</td>\n      <td>53.0</td>\n      <td>50.0</td>\n      <td>50.0</td>\n      <td>48.0</td>\n      <td>49.0</td>\n      <td>48.0</td>\n      <td>48.0</td>\n      <td>...</td>\n      <td>50.0</td>\n      <td>46.0</td>\n      <td>46.0</td>\n      <td>48.0</td>\n      <td>46.0</td>\n      <td>48.0</td>\n      <td>47.0</td>\n      <td>47.0</td>\n      <td>47.0</td>\n      <td>50.0</td>\n    </tr>\n    <tr>\n      <th>24</th>\n      <td>55.0</td>\n      <td>55.0</td>\n      <td>55.0</td>\n      <td>54.0</td>\n      <td>51.0</td>\n      <td>51.0</td>\n      <td>49.0</td>\n      <td>47.0</td>\n      <td>51.0</td>\n      <td>51.0</td>\n      <td>...</td>\n      <td>53.0</td>\n      <td>52.0</td>\n      <td>52.0</td>\n      <td>52.0</td>\n      <td>53.0</td>\n      <td>49.0</td>\n      <td>51.0</td>\n      <td>50.0</td>\n      <td>50.0</td>\n      <td>53.0</td>\n    </tr>\n  </tbody>\n</table>\n<p>25 rows × 95 columns</p>\n</div>"
     },
     "metadata": {},
     "execution_count": 13
    }
   ],
   "source": [
    "contours_0"
   ]
  },
  {
   "cell_type": "code",
   "execution_count": 14,
   "metadata": {},
   "outputs": [
    {
     "output_type": "execute_result",
     "data": {
      "text/plain": [
       "    event_0  event_1  event_2  event_3  event_4  event_5  event_10  event_11  \\\n",
       "0      54.0     54.0     54.0     52.0     54.0     54.0      53.0      54.0   \n",
       "1      51.0     51.0     51.0     53.0     54.0     54.0      53.0      53.0   \n",
       "2      53.0     53.0     53.0     53.0     53.0     53.0      52.0      52.0   \n",
       "3      54.0     54.0     54.0     53.0     55.0     55.0      54.0      54.0   \n",
       "4      54.0     54.0     54.0     54.0     54.0     54.0      53.0      56.0   \n",
       "5      53.0     53.0     53.0     53.0     54.0     54.0      51.0      53.0   \n",
       "6      54.0     54.0     54.0     52.0     56.0     56.0      54.0      54.0   \n",
       "7      54.0     54.0     54.0     51.0     54.0     54.0      52.0      52.0   \n",
       "8      22.0     22.0     22.0     16.0     43.0     43.0      32.0      26.0   \n",
       "9     -98.0    -98.0    -98.0   -127.0     -3.0     -3.0    -116.0    -125.0   \n",
       "10   -127.0   -127.0   -127.0   -127.0    -32.0    -32.0    -127.0    -127.0   \n",
       "11    -37.0    -37.0    -37.0   -127.0     -2.0     -2.0    -127.0    -127.0   \n",
       "12     27.0     27.0     27.0     -1.0     42.0     42.0     -31.0      -5.0   \n",
       "13     31.0     31.0     31.0     33.0     54.0     54.0      20.0      28.0   \n",
       "14     21.0     21.0     21.0     14.0     47.0     47.0      16.0      11.0   \n",
       "15     34.0     34.0     34.0     13.0     42.0     42.0      13.0      12.0   \n",
       "16     52.0     52.0     52.0     43.0     51.0     51.0      37.0      41.0   \n",
       "17     55.0     55.0     55.0     51.0     53.0     53.0      51.0      55.0   \n",
       "18     47.0     47.0     47.0     42.0     51.0     51.0      39.0      39.0   \n",
       "19     44.0     44.0     44.0     41.0     49.0     49.0      37.0      35.0   \n",
       "20     54.0     54.0     54.0     47.0     50.0     50.0      43.0      49.0   \n",
       "21     57.0     57.0     57.0     54.0     53.0     53.0      56.0      56.0   \n",
       "22     48.0     48.0     48.0     47.0     52.0     52.0      51.0      50.0   \n",
       "23     48.0     48.0     48.0     45.0     50.0     50.0      45.0      42.0   \n",
       "24     56.0     56.0     56.0     55.0     53.0     53.0      54.0      52.0   \n",
       "\n",
       "    event_12  event_13  ...  event_89  event_90  event_91  event_92  event_93  \\\n",
       "0       51.0      51.0  ...      54.0      51.0      51.0      53.0      54.0   \n",
       "1       52.0      52.0  ...      53.0      53.0      53.0      54.0      53.0   \n",
       "2       54.0      54.0  ...      53.0      53.0      53.0      55.0      53.0   \n",
       "3       53.0      53.0  ...      51.0      52.0      52.0      55.0      53.0   \n",
       "4       54.0      54.0  ...      53.0      54.0      54.0      54.0      53.0   \n",
       "5       53.0      53.0  ...      53.0      54.0      54.0      54.0      53.0   \n",
       "6       53.0      53.0  ...      55.0      54.0      54.0      54.0      51.0   \n",
       "7       52.0      52.0  ...      53.0      53.0      53.0      54.0      54.0   \n",
       "8       39.0      39.0  ...      20.0      47.0      47.0      15.0      41.0   \n",
       "9      -23.0     -23.0  ...     -99.0     -18.0     -18.0     -90.0     -95.0   \n",
       "10     -57.0     -57.0  ...    -127.0     -76.0     -76.0    -111.0    -127.0   \n",
       "11     -12.0     -12.0  ...     -57.0     -23.0     -23.0     -38.0    -127.0   \n",
       "12      28.0      28.0  ...      13.0      29.0      29.0      18.0     -10.0   \n",
       "13      40.0      40.0  ...      26.0      47.0      47.0      35.0      41.0   \n",
       "14      36.0      36.0  ...      24.0      40.0      40.0      24.0      21.0   \n",
       "15      40.0      40.0  ...      29.0      36.0      36.0      32.0      13.0   \n",
       "16      53.0      53.0  ...      44.0      48.0      48.0      44.0      42.0   \n",
       "17      51.0      51.0  ...      49.0      52.0      52.0      48.0      56.0   \n",
       "18      47.0      47.0  ...      45.0      49.0      49.0      45.0      46.0   \n",
       "19      50.0      50.0  ...      46.0      45.0      45.0      44.0      42.0   \n",
       "20      51.0      51.0  ...      51.0      50.0      50.0      53.0      47.0   \n",
       "21      49.0      49.0  ...      50.0      56.0      56.0      54.0      56.0   \n",
       "22      50.0      50.0  ...      49.0      52.0      52.0      49.0      51.0   \n",
       "23      51.0      51.0  ...      49.0      49.0      49.0      50.0      44.0   \n",
       "24      54.0      54.0  ...      55.0      55.0      55.0      55.0      52.0   \n",
       "\n",
       "    event_94  event_95  event_96  event_97  event_98  \n",
       "0       51.0      52.0      52.0      52.0      53.0  \n",
       "1       52.0      55.0      54.0      54.0      52.0  \n",
       "2       53.0      52.0      52.0      52.0      52.0  \n",
       "3       53.0      52.0      55.0      55.0      53.0  \n",
       "4       52.0      53.0      52.0      52.0      55.0  \n",
       "5       53.0      53.0      52.0      52.0      54.0  \n",
       "6       52.0      51.0      53.0      53.0      54.0  \n",
       "7       53.0      51.0      54.0      54.0      55.0  \n",
       "8       38.0      44.0      44.0      44.0      51.0  \n",
       "9      -14.0      -7.0     -24.0     -24.0     -11.0  \n",
       "10     -45.0     -27.0     -84.0     -84.0    -127.0  \n",
       "11     -13.0       6.0     -50.0     -50.0    -127.0  \n",
       "12      26.0      38.0      11.0      11.0     -81.0  \n",
       "13      44.0      47.0      38.0      38.0      21.0  \n",
       "14      42.0      40.0      36.0      36.0      33.0  \n",
       "15      44.0      40.0      36.0      36.0      10.0  \n",
       "16      49.0      47.0      45.0      45.0      19.0  \n",
       "17      51.0      53.0      51.0      51.0      43.0  \n",
       "18      49.0      53.0      45.0      45.0      48.0  \n",
       "19      47.0      51.0      47.0      47.0      40.0  \n",
       "20      50.0      51.0      51.0      51.0      41.0  \n",
       "21      51.0      55.0      56.0      56.0      51.0  \n",
       "22      50.0      52.0      51.0      51.0      55.0  \n",
       "23      51.0      52.0      49.0      49.0      46.0  \n",
       "24      56.0      52.0      52.0      52.0      46.0  \n",
       "\n",
       "[25 rows x 95 columns]"
      ],
      "text/html": "<div>\n<style scoped>\n    .dataframe tbody tr th:only-of-type {\n        vertical-align: middle;\n    }\n\n    .dataframe tbody tr th {\n        vertical-align: top;\n    }\n\n    .dataframe thead th {\n        text-align: right;\n    }\n</style>\n<table border=\"1\" class=\"dataframe\">\n  <thead>\n    <tr style=\"text-align: right;\">\n      <th></th>\n      <th>event_0</th>\n      <th>event_1</th>\n      <th>event_2</th>\n      <th>event_3</th>\n      <th>event_4</th>\n      <th>event_5</th>\n      <th>event_10</th>\n      <th>event_11</th>\n      <th>event_12</th>\n      <th>event_13</th>\n      <th>...</th>\n      <th>event_89</th>\n      <th>event_90</th>\n      <th>event_91</th>\n      <th>event_92</th>\n      <th>event_93</th>\n      <th>event_94</th>\n      <th>event_95</th>\n      <th>event_96</th>\n      <th>event_97</th>\n      <th>event_98</th>\n    </tr>\n  </thead>\n  <tbody>\n    <tr>\n      <th>0</th>\n      <td>54.0</td>\n      <td>54.0</td>\n      <td>54.0</td>\n      <td>52.0</td>\n      <td>54.0</td>\n      <td>54.0</td>\n      <td>53.0</td>\n      <td>54.0</td>\n      <td>51.0</td>\n      <td>51.0</td>\n      <td>...</td>\n      <td>54.0</td>\n      <td>51.0</td>\n      <td>51.0</td>\n      <td>53.0</td>\n      <td>54.0</td>\n      <td>51.0</td>\n      <td>52.0</td>\n      <td>52.0</td>\n      <td>52.0</td>\n      <td>53.0</td>\n    </tr>\n    <tr>\n      <th>1</th>\n      <td>51.0</td>\n      <td>51.0</td>\n      <td>51.0</td>\n      <td>53.0</td>\n      <td>54.0</td>\n      <td>54.0</td>\n      <td>53.0</td>\n      <td>53.0</td>\n      <td>52.0</td>\n      <td>52.0</td>\n      <td>...</td>\n      <td>53.0</td>\n      <td>53.0</td>\n      <td>53.0</td>\n      <td>54.0</td>\n      <td>53.0</td>\n      <td>52.0</td>\n      <td>55.0</td>\n      <td>54.0</td>\n      <td>54.0</td>\n      <td>52.0</td>\n    </tr>\n    <tr>\n      <th>2</th>\n      <td>53.0</td>\n      <td>53.0</td>\n      <td>53.0</td>\n      <td>53.0</td>\n      <td>53.0</td>\n      <td>53.0</td>\n      <td>52.0</td>\n      <td>52.0</td>\n      <td>54.0</td>\n      <td>54.0</td>\n      <td>...</td>\n      <td>53.0</td>\n      <td>53.0</td>\n      <td>53.0</td>\n      <td>55.0</td>\n      <td>53.0</td>\n      <td>53.0</td>\n      <td>52.0</td>\n      <td>52.0</td>\n      <td>52.0</td>\n      <td>52.0</td>\n    </tr>\n    <tr>\n      <th>3</th>\n      <td>54.0</td>\n      <td>54.0</td>\n      <td>54.0</td>\n      <td>53.0</td>\n      <td>55.0</td>\n      <td>55.0</td>\n      <td>54.0</td>\n      <td>54.0</td>\n      <td>53.0</td>\n      <td>53.0</td>\n      <td>...</td>\n      <td>51.0</td>\n      <td>52.0</td>\n      <td>52.0</td>\n      <td>55.0</td>\n      <td>53.0</td>\n      <td>53.0</td>\n      <td>52.0</td>\n      <td>55.0</td>\n      <td>55.0</td>\n      <td>53.0</td>\n    </tr>\n    <tr>\n      <th>4</th>\n      <td>54.0</td>\n      <td>54.0</td>\n      <td>54.0</td>\n      <td>54.0</td>\n      <td>54.0</td>\n      <td>54.0</td>\n      <td>53.0</td>\n      <td>56.0</td>\n      <td>54.0</td>\n      <td>54.0</td>\n      <td>...</td>\n      <td>53.0</td>\n      <td>54.0</td>\n      <td>54.0</td>\n      <td>54.0</td>\n      <td>53.0</td>\n      <td>52.0</td>\n      <td>53.0</td>\n      <td>52.0</td>\n      <td>52.0</td>\n      <td>55.0</td>\n    </tr>\n    <tr>\n      <th>5</th>\n      <td>53.0</td>\n      <td>53.0</td>\n      <td>53.0</td>\n      <td>53.0</td>\n      <td>54.0</td>\n      <td>54.0</td>\n      <td>51.0</td>\n      <td>53.0</td>\n      <td>53.0</td>\n      <td>53.0</td>\n      <td>...</td>\n      <td>53.0</td>\n      <td>54.0</td>\n      <td>54.0</td>\n      <td>54.0</td>\n      <td>53.0</td>\n      <td>53.0</td>\n      <td>53.0</td>\n      <td>52.0</td>\n      <td>52.0</td>\n      <td>54.0</td>\n    </tr>\n    <tr>\n      <th>6</th>\n      <td>54.0</td>\n      <td>54.0</td>\n      <td>54.0</td>\n      <td>52.0</td>\n      <td>56.0</td>\n      <td>56.0</td>\n      <td>54.0</td>\n      <td>54.0</td>\n      <td>53.0</td>\n      <td>53.0</td>\n      <td>...</td>\n      <td>55.0</td>\n      <td>54.0</td>\n      <td>54.0</td>\n      <td>54.0</td>\n      <td>51.0</td>\n      <td>52.0</td>\n      <td>51.0</td>\n      <td>53.0</td>\n      <td>53.0</td>\n      <td>54.0</td>\n    </tr>\n    <tr>\n      <th>7</th>\n      <td>54.0</td>\n      <td>54.0</td>\n      <td>54.0</td>\n      <td>51.0</td>\n      <td>54.0</td>\n      <td>54.0</td>\n      <td>52.0</td>\n      <td>52.0</td>\n      <td>52.0</td>\n      <td>52.0</td>\n      <td>...</td>\n      <td>53.0</td>\n      <td>53.0</td>\n      <td>53.0</td>\n      <td>54.0</td>\n      <td>54.0</td>\n      <td>53.0</td>\n      <td>51.0</td>\n      <td>54.0</td>\n      <td>54.0</td>\n      <td>55.0</td>\n    </tr>\n    <tr>\n      <th>8</th>\n      <td>22.0</td>\n      <td>22.0</td>\n      <td>22.0</td>\n      <td>16.0</td>\n      <td>43.0</td>\n      <td>43.0</td>\n      <td>32.0</td>\n      <td>26.0</td>\n      <td>39.0</td>\n      <td>39.0</td>\n      <td>...</td>\n      <td>20.0</td>\n      <td>47.0</td>\n      <td>47.0</td>\n      <td>15.0</td>\n      <td>41.0</td>\n      <td>38.0</td>\n      <td>44.0</td>\n      <td>44.0</td>\n      <td>44.0</td>\n      <td>51.0</td>\n    </tr>\n    <tr>\n      <th>9</th>\n      <td>-98.0</td>\n      <td>-98.0</td>\n      <td>-98.0</td>\n      <td>-127.0</td>\n      <td>-3.0</td>\n      <td>-3.0</td>\n      <td>-116.0</td>\n      <td>-125.0</td>\n      <td>-23.0</td>\n      <td>-23.0</td>\n      <td>...</td>\n      <td>-99.0</td>\n      <td>-18.0</td>\n      <td>-18.0</td>\n      <td>-90.0</td>\n      <td>-95.0</td>\n      <td>-14.0</td>\n      <td>-7.0</td>\n      <td>-24.0</td>\n      <td>-24.0</td>\n      <td>-11.0</td>\n    </tr>\n    <tr>\n      <th>10</th>\n      <td>-127.0</td>\n      <td>-127.0</td>\n      <td>-127.0</td>\n      <td>-127.0</td>\n      <td>-32.0</td>\n      <td>-32.0</td>\n      <td>-127.0</td>\n      <td>-127.0</td>\n      <td>-57.0</td>\n      <td>-57.0</td>\n      <td>...</td>\n      <td>-127.0</td>\n      <td>-76.0</td>\n      <td>-76.0</td>\n      <td>-111.0</td>\n      <td>-127.0</td>\n      <td>-45.0</td>\n      <td>-27.0</td>\n      <td>-84.0</td>\n      <td>-84.0</td>\n      <td>-127.0</td>\n    </tr>\n    <tr>\n      <th>11</th>\n      <td>-37.0</td>\n      <td>-37.0</td>\n      <td>-37.0</td>\n      <td>-127.0</td>\n      <td>-2.0</td>\n      <td>-2.0</td>\n      <td>-127.0</td>\n      <td>-127.0</td>\n      <td>-12.0</td>\n      <td>-12.0</td>\n      <td>...</td>\n      <td>-57.0</td>\n      <td>-23.0</td>\n      <td>-23.0</td>\n      <td>-38.0</td>\n      <td>-127.0</td>\n      <td>-13.0</td>\n      <td>6.0</td>\n      <td>-50.0</td>\n      <td>-50.0</td>\n      <td>-127.0</td>\n    </tr>\n    <tr>\n      <th>12</th>\n      <td>27.0</td>\n      <td>27.0</td>\n      <td>27.0</td>\n      <td>-1.0</td>\n      <td>42.0</td>\n      <td>42.0</td>\n      <td>-31.0</td>\n      <td>-5.0</td>\n      <td>28.0</td>\n      <td>28.0</td>\n      <td>...</td>\n      <td>13.0</td>\n      <td>29.0</td>\n      <td>29.0</td>\n      <td>18.0</td>\n      <td>-10.0</td>\n      <td>26.0</td>\n      <td>38.0</td>\n      <td>11.0</td>\n      <td>11.0</td>\n      <td>-81.0</td>\n    </tr>\n    <tr>\n      <th>13</th>\n      <td>31.0</td>\n      <td>31.0</td>\n      <td>31.0</td>\n      <td>33.0</td>\n      <td>54.0</td>\n      <td>54.0</td>\n      <td>20.0</td>\n      <td>28.0</td>\n      <td>40.0</td>\n      <td>40.0</td>\n      <td>...</td>\n      <td>26.0</td>\n      <td>47.0</td>\n      <td>47.0</td>\n      <td>35.0</td>\n      <td>41.0</td>\n      <td>44.0</td>\n      <td>47.0</td>\n      <td>38.0</td>\n      <td>38.0</td>\n      <td>21.0</td>\n    </tr>\n    <tr>\n      <th>14</th>\n      <td>21.0</td>\n      <td>21.0</td>\n      <td>21.0</td>\n      <td>14.0</td>\n      <td>47.0</td>\n      <td>47.0</td>\n      <td>16.0</td>\n      <td>11.0</td>\n      <td>36.0</td>\n      <td>36.0</td>\n      <td>...</td>\n      <td>24.0</td>\n      <td>40.0</td>\n      <td>40.0</td>\n      <td>24.0</td>\n      <td>21.0</td>\n      <td>42.0</td>\n      <td>40.0</td>\n      <td>36.0</td>\n      <td>36.0</td>\n      <td>33.0</td>\n    </tr>\n    <tr>\n      <th>15</th>\n      <td>34.0</td>\n      <td>34.0</td>\n      <td>34.0</td>\n      <td>13.0</td>\n      <td>42.0</td>\n      <td>42.0</td>\n      <td>13.0</td>\n      <td>12.0</td>\n      <td>40.0</td>\n      <td>40.0</td>\n      <td>...</td>\n      <td>29.0</td>\n      <td>36.0</td>\n      <td>36.0</td>\n      <td>32.0</td>\n      <td>13.0</td>\n      <td>44.0</td>\n      <td>40.0</td>\n      <td>36.0</td>\n      <td>36.0</td>\n      <td>10.0</td>\n    </tr>\n    <tr>\n      <th>16</th>\n      <td>52.0</td>\n      <td>52.0</td>\n      <td>52.0</td>\n      <td>43.0</td>\n      <td>51.0</td>\n      <td>51.0</td>\n      <td>37.0</td>\n      <td>41.0</td>\n      <td>53.0</td>\n      <td>53.0</td>\n      <td>...</td>\n      <td>44.0</td>\n      <td>48.0</td>\n      <td>48.0</td>\n      <td>44.0</td>\n      <td>42.0</td>\n      <td>49.0</td>\n      <td>47.0</td>\n      <td>45.0</td>\n      <td>45.0</td>\n      <td>19.0</td>\n    </tr>\n    <tr>\n      <th>17</th>\n      <td>55.0</td>\n      <td>55.0</td>\n      <td>55.0</td>\n      <td>51.0</td>\n      <td>53.0</td>\n      <td>53.0</td>\n      <td>51.0</td>\n      <td>55.0</td>\n      <td>51.0</td>\n      <td>51.0</td>\n      <td>...</td>\n      <td>49.0</td>\n      <td>52.0</td>\n      <td>52.0</td>\n      <td>48.0</td>\n      <td>56.0</td>\n      <td>51.0</td>\n      <td>53.0</td>\n      <td>51.0</td>\n      <td>51.0</td>\n      <td>43.0</td>\n    </tr>\n    <tr>\n      <th>18</th>\n      <td>47.0</td>\n      <td>47.0</td>\n      <td>47.0</td>\n      <td>42.0</td>\n      <td>51.0</td>\n      <td>51.0</td>\n      <td>39.0</td>\n      <td>39.0</td>\n      <td>47.0</td>\n      <td>47.0</td>\n      <td>...</td>\n      <td>45.0</td>\n      <td>49.0</td>\n      <td>49.0</td>\n      <td>45.0</td>\n      <td>46.0</td>\n      <td>49.0</td>\n      <td>53.0</td>\n      <td>45.0</td>\n      <td>45.0</td>\n      <td>48.0</td>\n    </tr>\n    <tr>\n      <th>19</th>\n      <td>44.0</td>\n      <td>44.0</td>\n      <td>44.0</td>\n      <td>41.0</td>\n      <td>49.0</td>\n      <td>49.0</td>\n      <td>37.0</td>\n      <td>35.0</td>\n      <td>50.0</td>\n      <td>50.0</td>\n      <td>...</td>\n      <td>46.0</td>\n      <td>45.0</td>\n      <td>45.0</td>\n      <td>44.0</td>\n      <td>42.0</td>\n      <td>47.0</td>\n      <td>51.0</td>\n      <td>47.0</td>\n      <td>47.0</td>\n      <td>40.0</td>\n    </tr>\n    <tr>\n      <th>20</th>\n      <td>54.0</td>\n      <td>54.0</td>\n      <td>54.0</td>\n      <td>47.0</td>\n      <td>50.0</td>\n      <td>50.0</td>\n      <td>43.0</td>\n      <td>49.0</td>\n      <td>51.0</td>\n      <td>51.0</td>\n      <td>...</td>\n      <td>51.0</td>\n      <td>50.0</td>\n      <td>50.0</td>\n      <td>53.0</td>\n      <td>47.0</td>\n      <td>50.0</td>\n      <td>51.0</td>\n      <td>51.0</td>\n      <td>51.0</td>\n      <td>41.0</td>\n    </tr>\n    <tr>\n      <th>21</th>\n      <td>57.0</td>\n      <td>57.0</td>\n      <td>57.0</td>\n      <td>54.0</td>\n      <td>53.0</td>\n      <td>53.0</td>\n      <td>56.0</td>\n      <td>56.0</td>\n      <td>49.0</td>\n      <td>49.0</td>\n      <td>...</td>\n      <td>50.0</td>\n      <td>56.0</td>\n      <td>56.0</td>\n      <td>54.0</td>\n      <td>56.0</td>\n      <td>51.0</td>\n      <td>55.0</td>\n      <td>56.0</td>\n      <td>56.0</td>\n      <td>51.0</td>\n    </tr>\n    <tr>\n      <th>22</th>\n      <td>48.0</td>\n      <td>48.0</td>\n      <td>48.0</td>\n      <td>47.0</td>\n      <td>52.0</td>\n      <td>52.0</td>\n      <td>51.0</td>\n      <td>50.0</td>\n      <td>50.0</td>\n      <td>50.0</td>\n      <td>...</td>\n      <td>49.0</td>\n      <td>52.0</td>\n      <td>52.0</td>\n      <td>49.0</td>\n      <td>51.0</td>\n      <td>50.0</td>\n      <td>52.0</td>\n      <td>51.0</td>\n      <td>51.0</td>\n      <td>55.0</td>\n    </tr>\n    <tr>\n      <th>23</th>\n      <td>48.0</td>\n      <td>48.0</td>\n      <td>48.0</td>\n      <td>45.0</td>\n      <td>50.0</td>\n      <td>50.0</td>\n      <td>45.0</td>\n      <td>42.0</td>\n      <td>51.0</td>\n      <td>51.0</td>\n      <td>...</td>\n      <td>49.0</td>\n      <td>49.0</td>\n      <td>49.0</td>\n      <td>50.0</td>\n      <td>44.0</td>\n      <td>51.0</td>\n      <td>52.0</td>\n      <td>49.0</td>\n      <td>49.0</td>\n      <td>46.0</td>\n    </tr>\n    <tr>\n      <th>24</th>\n      <td>56.0</td>\n      <td>56.0</td>\n      <td>56.0</td>\n      <td>55.0</td>\n      <td>53.0</td>\n      <td>53.0</td>\n      <td>54.0</td>\n      <td>52.0</td>\n      <td>54.0</td>\n      <td>54.0</td>\n      <td>...</td>\n      <td>55.0</td>\n      <td>55.0</td>\n      <td>55.0</td>\n      <td>55.0</td>\n      <td>52.0</td>\n      <td>56.0</td>\n      <td>52.0</td>\n      <td>52.0</td>\n      <td>52.0</td>\n      <td>46.0</td>\n    </tr>\n  </tbody>\n</table>\n<p>25 rows × 95 columns</p>\n</div>"
     },
     "metadata": {},
     "execution_count": 14
    }
   ],
   "source": [
    "contours_1"
   ]
  },
  {
   "cell_type": "code",
   "execution_count": null,
   "metadata": {},
   "outputs": [],
   "source": []
  },
  {
   "source": [
    "## Plots"
   ],
   "cell_type": "markdown",
   "metadata": {}
  },
  {
   "cell_type": "code",
   "execution_count": null,
   "metadata": {},
   "outputs": [],
   "source": [
    "from data_analyze.Analyze.plots import plots_SingleMuon"
   ]
  },
  {
   "cell_type": "code",
   "execution_count": null,
   "metadata": {},
   "outputs": [],
   "source": [
    "%%time\n",
    "plots_SingleMuon(path=path, bins=50)"
   ]
  },
  {
   "cell_type": "code",
   "execution_count": null,
   "metadata": {},
   "outputs": [],
   "source": []
  }
 ]
}