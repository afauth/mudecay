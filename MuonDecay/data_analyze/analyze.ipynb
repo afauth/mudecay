{
 "metadata": {
  "language_info": {
   "codemirror_mode": {
    "name": "ipython",
    "version": 3
   },
   "file_extension": ".py",
   "mimetype": "text/x-python",
   "name": "python",
   "nbconvert_exporter": "python",
   "pygments_lexer": "ipython3",
   "version": "3.8.8-final"
  },
  "orig_nbformat": 2,
  "kernelspec": {
   "name": "python388jvsc74a57bd025f47d99557ba0924d1d76d7e20d512e15617d649528b4a55486bbe742599eab",
   "display_name": "Python 3.8.8 64-bit (conda)"
  }
 },
 "nbformat": 4,
 "nbformat_minor": 2,
 "cells": [
  {
   "cell_type": "code",
   "execution_count": 2,
   "metadata": {},
   "outputs": [],
   "source": [
    "import seaborn as sns\n",
    "import pandas as pd\n",
    "import numpy as np\n",
    "import matplotlib.pyplot as plt\n",
    "from scipy.signal import find_peaks"
   ]
  },
  {
   "cell_type": "code",
   "execution_count": 3,
   "metadata": {},
   "outputs": [],
   "source": [
    "# df = pd.read_csv('../documents/data/previous_data/5555_eventos-edit.csv', index_col=0)\n",
    "# df = df.drop('time', axis=1)\n",
    "\n",
    "# # A preliminar analysis show that the base line value is the following:\n",
    "# baseLine_value = 52.45771253239545\n",
    "# # it'll not be necessary in a future analysis, cause the conversion parameters will be retrieved from the scope on the acquisition moment.\n",
    "\n",
    "# waveforms = df - baseLine_value\n",
    "# waveforms"
   ]
  },
  {
   "cell_type": "code",
   "execution_count": 10,
   "metadata": {},
   "outputs": [
    {
     "output_type": "stream",
     "name": "stderr",
     "text": [
      "C:\\.Anaconda\\lib\\site-packages\\IPython\\core\\interactiveshell.py:3165: DtypeWarning: Columns (1,103,205,307,409,511,614,715,818,921,1023,1125,1229,1334,1436,1539,1640,1741,1842,1943) have mixed types.Specify dtype option on import or set low_memory=False.\n  has_raised = await self.run_ast_nodes(code_ast.body, cell_name,\n"
     ]
    },
    {
     "output_type": "execute_result",
     "data": {
      "text/plain": [
       "         event_0       event_1       event_2       event_3       event_4  \\\n",
       "0     time_epoch  1.617217e+09  1.617217e+09  1.617217e+09  1.617218e+09   \n",
       "1              0  5.100000e+01  5.000000e+01  5.500000e+01  5.500000e+01   \n",
       "2              1  5.100000e+01  5.100000e+01  5.300000e+01  5.400000e+01   \n",
       "3              2  5.300000e+01  5.400000e+01  5.200000e+01  5.300000e+01   \n",
       "4              3  5.000000e+01  5.300000e+01  5.300000e+01  5.300000e+01   \n",
       "...          ...           ...           ...           ...           ...   \n",
       "2496        2495  5.400000e+01  5.300000e+01  5.200000e+01  5.100000e+01   \n",
       "2497        2496  5.400000e+01  5.200000e+01  5.200000e+01  5.200000e+01   \n",
       "2498        2497  5.200000e+01  4.900000e+01  5.400000e+01  5.300000e+01   \n",
       "2499        2498  5.100000e+01  4.900000e+01  5.300000e+01  5.000000e+01   \n",
       "2500        2499  5.300000e+01  5.100000e+01  5.400000e+01  5.300000e+01   \n",
       "\n",
       "           event_5       event_6       event_7       event_8       event_9  \\\n",
       "0     1.617218e+09  1.617218e+09  1.617218e+09  1.617218e+09  1.617218e+09   \n",
       "1     5.300000e+01  5.200000e+01  5.300000e+01  5.300000e+01  5.000000e+01   \n",
       "2     5.300000e+01  5.300000e+01  5.300000e+01  5.300000e+01  5.200000e+01   \n",
       "3     5.400000e+01  5.300000e+01  5.400000e+01  5.200000e+01  5.400000e+01   \n",
       "4     5.100000e+01  5.200000e+01  5.200000e+01  5.200000e+01  5.200000e+01   \n",
       "...            ...           ...           ...           ...           ...   \n",
       "2496  5.200000e+01  5.300000e+01  5.400000e+01  5.100000e+01  5.200000e+01   \n",
       "2497  5.300000e+01  5.300000e+01  5.200000e+01  5.300000e+01  5.100000e+01   \n",
       "2498  5.300000e+01  5.100000e+01  5.300000e+01  5.300000e+01  5.100000e+01   \n",
       "2499  5.100000e+01  5.200000e+01  5.300000e+01  5.200000e+01  5.300000e+01   \n",
       "2500  5.200000e+01  5.500000e+01  5.300000e+01  5.100000e+01  5.300000e+01   \n",
       "\n",
       "      ...    event_2034    event_2035    event_2036    event_2037  \\\n",
       "0     ...  1.617469e+09  1.617470e+09  1.617470e+09  1.617470e+09   \n",
       "1     ...  5.200000e+01  5.000000e+01  5.500000e+01  5.100000e+01   \n",
       "2     ...  5.200000e+01  5.100000e+01  5.600000e+01  5.600000e+01   \n",
       "3     ...  5.200000e+01  5.100000e+01  4.800000e+01  5.300000e+01   \n",
       "4     ...  5.200000e+01  5.100000e+01  5.000000e+01  5.200000e+01   \n",
       "...   ...           ...           ...           ...           ...   \n",
       "2496  ...  5.200000e+01  5.300000e+01  5.200000e+01  5.400000e+01   \n",
       "2497  ...  5.300000e+01  5.300000e+01  5.300000e+01  5.200000e+01   \n",
       "2498  ...  5.200000e+01  5.400000e+01  5.100000e+01  5.300000e+01   \n",
       "2499  ...  5.400000e+01  5.300000e+01  5.300000e+01  5.200000e+01   \n",
       "2500  ...  5.100000e+01  5.200000e+01  5.200000e+01  5.300000e+01   \n",
       "\n",
       "        event_2038    event_2039    event_2040    event_2041    event_2042  \\\n",
       "0     1.617470e+09  1.617470e+09  1.617470e+09  1.617471e+09  1.617471e+09   \n",
       "1     5.300000e+01  5.500000e+01  5.000000e+01  5.300000e+01  5.200000e+01   \n",
       "2     5.300000e+01  5.200000e+01  5.400000e+01  5.100000e+01  5.200000e+01   \n",
       "3     5.500000e+01  5.100000e+01  5.200000e+01  5.200000e+01  5.200000e+01   \n",
       "4     5.500000e+01  5.100000e+01  4.900000e+01  5.300000e+01  5.400000e+01   \n",
       "...            ...           ...           ...           ...           ...   \n",
       "2496  5.400000e+01  5.200000e+01  5.400000e+01  5.100000e+01  5.200000e+01   \n",
       "2497  5.100000e+01  5.200000e+01  5.400000e+01  5.300000e+01  5.200000e+01   \n",
       "2498  5.200000e+01  5.200000e+01  5.500000e+01  5.100000e+01  5.400000e+01   \n",
       "2499  5.200000e+01  5.200000e+01  5.200000e+01  5.000000e+01  5.200000e+01   \n",
       "2500  5.300000e+01  5.200000e+01  5.200000e+01  5.200000e+01  5.300000e+01   \n",
       "\n",
       "        event_2043  \n",
       "0     1.617471e+09  \n",
       "1     5.300000e+01  \n",
       "2     5.200000e+01  \n",
       "3     5.400000e+01  \n",
       "4     5.000000e+01  \n",
       "...            ...  \n",
       "2496  5.400000e+01  \n",
       "2497  5.100000e+01  \n",
       "2498  5.100000e+01  \n",
       "2499  5.200000e+01  \n",
       "2500  5.600000e+01  \n",
       "\n",
       "[2501 rows x 2044 columns]"
      ],
      "text/html": "<div>\n<style scoped>\n    .dataframe tbody tr th:only-of-type {\n        vertical-align: middle;\n    }\n\n    .dataframe tbody tr th {\n        vertical-align: top;\n    }\n\n    .dataframe thead th {\n        text-align: right;\n    }\n</style>\n<table border=\"1\" class=\"dataframe\">\n  <thead>\n    <tr style=\"text-align: right;\">\n      <th></th>\n      <th>event_0</th>\n      <th>event_1</th>\n      <th>event_2</th>\n      <th>event_3</th>\n      <th>event_4</th>\n      <th>event_5</th>\n      <th>event_6</th>\n      <th>event_7</th>\n      <th>event_8</th>\n      <th>event_9</th>\n      <th>...</th>\n      <th>event_2034</th>\n      <th>event_2035</th>\n      <th>event_2036</th>\n      <th>event_2037</th>\n      <th>event_2038</th>\n      <th>event_2039</th>\n      <th>event_2040</th>\n      <th>event_2041</th>\n      <th>event_2042</th>\n      <th>event_2043</th>\n    </tr>\n  </thead>\n  <tbody>\n    <tr>\n      <th>0</th>\n      <td>time_epoch</td>\n      <td>1.617217e+09</td>\n      <td>1.617217e+09</td>\n      <td>1.617217e+09</td>\n      <td>1.617218e+09</td>\n      <td>1.617218e+09</td>\n      <td>1.617218e+09</td>\n      <td>1.617218e+09</td>\n      <td>1.617218e+09</td>\n      <td>1.617218e+09</td>\n      <td>...</td>\n      <td>1.617469e+09</td>\n      <td>1.617470e+09</td>\n      <td>1.617470e+09</td>\n      <td>1.617470e+09</td>\n      <td>1.617470e+09</td>\n      <td>1.617470e+09</td>\n      <td>1.617470e+09</td>\n      <td>1.617471e+09</td>\n      <td>1.617471e+09</td>\n      <td>1.617471e+09</td>\n    </tr>\n    <tr>\n      <th>1</th>\n      <td>0</td>\n      <td>5.100000e+01</td>\n      <td>5.000000e+01</td>\n      <td>5.500000e+01</td>\n      <td>5.500000e+01</td>\n      <td>5.300000e+01</td>\n      <td>5.200000e+01</td>\n      <td>5.300000e+01</td>\n      <td>5.300000e+01</td>\n      <td>5.000000e+01</td>\n      <td>...</td>\n      <td>5.200000e+01</td>\n      <td>5.000000e+01</td>\n      <td>5.500000e+01</td>\n      <td>5.100000e+01</td>\n      <td>5.300000e+01</td>\n      <td>5.500000e+01</td>\n      <td>5.000000e+01</td>\n      <td>5.300000e+01</td>\n      <td>5.200000e+01</td>\n      <td>5.300000e+01</td>\n    </tr>\n    <tr>\n      <th>2</th>\n      <td>1</td>\n      <td>5.100000e+01</td>\n      <td>5.100000e+01</td>\n      <td>5.300000e+01</td>\n      <td>5.400000e+01</td>\n      <td>5.300000e+01</td>\n      <td>5.300000e+01</td>\n      <td>5.300000e+01</td>\n      <td>5.300000e+01</td>\n      <td>5.200000e+01</td>\n      <td>...</td>\n      <td>5.200000e+01</td>\n      <td>5.100000e+01</td>\n      <td>5.600000e+01</td>\n      <td>5.600000e+01</td>\n      <td>5.300000e+01</td>\n      <td>5.200000e+01</td>\n      <td>5.400000e+01</td>\n      <td>5.100000e+01</td>\n      <td>5.200000e+01</td>\n      <td>5.200000e+01</td>\n    </tr>\n    <tr>\n      <th>3</th>\n      <td>2</td>\n      <td>5.300000e+01</td>\n      <td>5.400000e+01</td>\n      <td>5.200000e+01</td>\n      <td>5.300000e+01</td>\n      <td>5.400000e+01</td>\n      <td>5.300000e+01</td>\n      <td>5.400000e+01</td>\n      <td>5.200000e+01</td>\n      <td>5.400000e+01</td>\n      <td>...</td>\n      <td>5.200000e+01</td>\n      <td>5.100000e+01</td>\n      <td>4.800000e+01</td>\n      <td>5.300000e+01</td>\n      <td>5.500000e+01</td>\n      <td>5.100000e+01</td>\n      <td>5.200000e+01</td>\n      <td>5.200000e+01</td>\n      <td>5.200000e+01</td>\n      <td>5.400000e+01</td>\n    </tr>\n    <tr>\n      <th>4</th>\n      <td>3</td>\n      <td>5.000000e+01</td>\n      <td>5.300000e+01</td>\n      <td>5.300000e+01</td>\n      <td>5.300000e+01</td>\n      <td>5.100000e+01</td>\n      <td>5.200000e+01</td>\n      <td>5.200000e+01</td>\n      <td>5.200000e+01</td>\n      <td>5.200000e+01</td>\n      <td>...</td>\n      <td>5.200000e+01</td>\n      <td>5.100000e+01</td>\n      <td>5.000000e+01</td>\n      <td>5.200000e+01</td>\n      <td>5.500000e+01</td>\n      <td>5.100000e+01</td>\n      <td>4.900000e+01</td>\n      <td>5.300000e+01</td>\n      <td>5.400000e+01</td>\n      <td>5.000000e+01</td>\n    </tr>\n    <tr>\n      <th>...</th>\n      <td>...</td>\n      <td>...</td>\n      <td>...</td>\n      <td>...</td>\n      <td>...</td>\n      <td>...</td>\n      <td>...</td>\n      <td>...</td>\n      <td>...</td>\n      <td>...</td>\n      <td>...</td>\n      <td>...</td>\n      <td>...</td>\n      <td>...</td>\n      <td>...</td>\n      <td>...</td>\n      <td>...</td>\n      <td>...</td>\n      <td>...</td>\n      <td>...</td>\n      <td>...</td>\n    </tr>\n    <tr>\n      <th>2496</th>\n      <td>2495</td>\n      <td>5.400000e+01</td>\n      <td>5.300000e+01</td>\n      <td>5.200000e+01</td>\n      <td>5.100000e+01</td>\n      <td>5.200000e+01</td>\n      <td>5.300000e+01</td>\n      <td>5.400000e+01</td>\n      <td>5.100000e+01</td>\n      <td>5.200000e+01</td>\n      <td>...</td>\n      <td>5.200000e+01</td>\n      <td>5.300000e+01</td>\n      <td>5.200000e+01</td>\n      <td>5.400000e+01</td>\n      <td>5.400000e+01</td>\n      <td>5.200000e+01</td>\n      <td>5.400000e+01</td>\n      <td>5.100000e+01</td>\n      <td>5.200000e+01</td>\n      <td>5.400000e+01</td>\n    </tr>\n    <tr>\n      <th>2497</th>\n      <td>2496</td>\n      <td>5.400000e+01</td>\n      <td>5.200000e+01</td>\n      <td>5.200000e+01</td>\n      <td>5.200000e+01</td>\n      <td>5.300000e+01</td>\n      <td>5.300000e+01</td>\n      <td>5.200000e+01</td>\n      <td>5.300000e+01</td>\n      <td>5.100000e+01</td>\n      <td>...</td>\n      <td>5.300000e+01</td>\n      <td>5.300000e+01</td>\n      <td>5.300000e+01</td>\n      <td>5.200000e+01</td>\n      <td>5.100000e+01</td>\n      <td>5.200000e+01</td>\n      <td>5.400000e+01</td>\n      <td>5.300000e+01</td>\n      <td>5.200000e+01</td>\n      <td>5.100000e+01</td>\n    </tr>\n    <tr>\n      <th>2498</th>\n      <td>2497</td>\n      <td>5.200000e+01</td>\n      <td>4.900000e+01</td>\n      <td>5.400000e+01</td>\n      <td>5.300000e+01</td>\n      <td>5.300000e+01</td>\n      <td>5.100000e+01</td>\n      <td>5.300000e+01</td>\n      <td>5.300000e+01</td>\n      <td>5.100000e+01</td>\n      <td>...</td>\n      <td>5.200000e+01</td>\n      <td>5.400000e+01</td>\n      <td>5.100000e+01</td>\n      <td>5.300000e+01</td>\n      <td>5.200000e+01</td>\n      <td>5.200000e+01</td>\n      <td>5.500000e+01</td>\n      <td>5.100000e+01</td>\n      <td>5.400000e+01</td>\n      <td>5.100000e+01</td>\n    </tr>\n    <tr>\n      <th>2499</th>\n      <td>2498</td>\n      <td>5.100000e+01</td>\n      <td>4.900000e+01</td>\n      <td>5.300000e+01</td>\n      <td>5.000000e+01</td>\n      <td>5.100000e+01</td>\n      <td>5.200000e+01</td>\n      <td>5.300000e+01</td>\n      <td>5.200000e+01</td>\n      <td>5.300000e+01</td>\n      <td>...</td>\n      <td>5.400000e+01</td>\n      <td>5.300000e+01</td>\n      <td>5.300000e+01</td>\n      <td>5.200000e+01</td>\n      <td>5.200000e+01</td>\n      <td>5.200000e+01</td>\n      <td>5.200000e+01</td>\n      <td>5.000000e+01</td>\n      <td>5.200000e+01</td>\n      <td>5.200000e+01</td>\n    </tr>\n    <tr>\n      <th>2500</th>\n      <td>2499</td>\n      <td>5.300000e+01</td>\n      <td>5.100000e+01</td>\n      <td>5.400000e+01</td>\n      <td>5.300000e+01</td>\n      <td>5.200000e+01</td>\n      <td>5.500000e+01</td>\n      <td>5.300000e+01</td>\n      <td>5.100000e+01</td>\n      <td>5.300000e+01</td>\n      <td>...</td>\n      <td>5.100000e+01</td>\n      <td>5.200000e+01</td>\n      <td>5.200000e+01</td>\n      <td>5.300000e+01</td>\n      <td>5.300000e+01</td>\n      <td>5.200000e+01</td>\n      <td>5.200000e+01</td>\n      <td>5.200000e+01</td>\n      <td>5.300000e+01</td>\n      <td>5.600000e+01</td>\n    </tr>\n  </tbody>\n</table>\n<p>2501 rows × 2044 columns</p>\n</div>"
     },
     "metadata": {},
     "execution_count": 10
    }
   ],
   "source": [
    "df = pd.read_csv('../documents/data/1617216912.6844587/1617216912.6844587_2044-events_2-events.csv', index_col=0)\n",
    "\n",
    "df"
   ]
  },
  {
   "source": [],
   "cell_type": "markdown",
   "metadata": {}
  },
  {
   "cell_type": "code",
   "execution_count": null,
   "metadata": {},
   "outputs": [],
   "source": []
  },
  {
   "cell_type": "code",
   "execution_count": null,
   "metadata": {},
   "outputs": [],
   "source": [
    "from Analyze.results import Results_Analyze, plots_collection\n",
    "df_filt, results = Results_Analyze(waveforms=waveforms, height=baseLine_value)"
   ]
  },
  {
   "cell_type": "code",
   "execution_count": null,
   "metadata": {},
   "outputs": [],
   "source": [
    "df_filt.head()"
   ]
  },
  {
   "cell_type": "code",
   "execution_count": null,
   "metadata": {},
   "outputs": [],
   "source": [
    "results.head()"
   ]
  },
  {
   "cell_type": "code",
   "execution_count": null,
   "metadata": {},
   "outputs": [],
   "source": [
    "plots_collection(results=results)"
   ]
  },
  {
   "cell_type": "code",
   "execution_count": null,
   "metadata": {},
   "outputs": [],
   "source": [
    "results_filt_integral = results.query(\"integrals_0 < integrals_1\")\n",
    "plots_collection(results_filt_integral)"
   ]
  },
  {
   "cell_type": "code",
   "execution_count": null,
   "metadata": {},
   "outputs": [],
   "source": [
    "results_filt_peaks = results.query(\"peak_Y0 < 179 and peak_Y1 < 179\")\n",
    "plots_collection(results_filt_peaks)"
   ]
  },
  {
   "cell_type": "code",
   "execution_count": null,
   "metadata": {},
   "outputs": [],
   "source": []
  }
 ]
}