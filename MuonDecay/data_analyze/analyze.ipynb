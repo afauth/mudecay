{
 "metadata": {
  "language_info": {
   "codemirror_mode": {
    "name": "ipython",
    "version": 3
   },
   "file_extension": ".py",
   "mimetype": "text/x-python",
   "name": "python",
   "nbconvert_exporter": "python",
   "pygments_lexer": "ipython3",
   "version": "3.8.8-final"
  },
  "orig_nbformat": 2,
  "kernelspec": {
   "name": "python388jvsc74a57bd025f47d99557ba0924d1d76d7e20d512e15617d649528b4a55486bbe742599eab",
   "display_name": "Python 3.8.8 64-bit (conda)"
  }
 },
 "nbformat": 4,
 "nbformat_minor": 2,
 "cells": [
  {
   "cell_type": "code",
   "execution_count": null,
   "metadata": {},
   "outputs": [],
   "source": [
    "import seaborn as sns\n",
    "import pandas as pd\n",
    "import numpy as np\n",
    "import matplotlib.pyplot as plt\n",
    "from scipy.signal import find_peaks"
   ]
  },
  {
   "cell_type": "code",
   "execution_count": null,
   "metadata": {},
   "outputs": [],
   "source": [
    "# df = pd.read_csv('../documents/data/previous_data/5555_eventos-edit.csv', index_col=0)\n",
    "# df = df.drop('time', axis=1)\n",
    "\n",
    "# # A preliminar analysis show that the base line value is the following:\n",
    "# baseLine_value = 52.45771253239545\n",
    "# # it'll not be necessary in a future analysis, cause the conversion parameters will be retrieved from the scope on the acquisition moment.\n",
    "\n",
    "# waveforms = df - baseLine_value\n",
    "# waveforms"
   ]
  },
  {
   "cell_type": "code",
   "execution_count": null,
   "metadata": {},
   "outputs": [],
   "source": [
    "df = pd.read_csv('../documents/data/1617480254.9367738/5061_events.csv', index_col=0)"
   ]
  },
  {
   "cell_type": "code",
   "execution_count": null,
   "metadata": {},
   "outputs": [],
   "source": [
    "waveforms = df[1:]\n",
    "waveforms"
   ]
  },
  {
   "cell_type": "code",
   "execution_count": null,
   "metadata": {},
   "outputs": [],
   "source": [
    "# from FindPeaks.peaks import Find_Peaks_Waveforms\n",
    "# Find_Peaks_Waveforms(waveforms=waveforms, height=0)"
   ]
  },
  {
   "cell_type": "code",
   "execution_count": null,
   "metadata": {},
   "outputs": [],
   "source": [
    "def plot_figure(column, limits=''):\n",
    "    event = waveforms[column]\n",
    "    x = list(  map( int,event.index.to_list() )  )\n",
    "    y = event.to_list()\n",
    "    plt.plot( x,y )\n",
    "    if limits != '':\n",
    "        plt.xlim(limits[0], limits[1])\n",
    "    plt.title(f\"{column}\")\n",
    "    plt.show()"
   ]
  },
  {
   "cell_type": "code",
   "execution_count": null,
   "metadata": {
    "tags": []
   },
   "outputs": [],
   "source": [
    "problems = []\n",
    "good = []\n",
    "best = []\n",
    "another = []\n",
    "height = 0\n",
    "step = 10\n",
    "\n",
    "for i in range(waveforms.shape[1]):\n",
    "    events = waveforms[ waveforms.columns[i] ]\n",
    "    try:\n",
    "        pk, _ = find_peaks(-1*events, height=height)\n",
    "    except:\n",
    "        problems.append(events.name)\n",
    "    else:\n",
    "        if len(pk) == 2:\n",
    "            good.append(events.name)\n",
    "            if pk[1] - pk[0] >= step:\n",
    "                best.append(events.name)\n",
    "        if len(pk) != 2:\n",
    "            another.append(events.name)\n",
    "\n",
    "print(f\"\\nResults\\n\")\n",
    "print(f\"  problems: {len(problems)}/{waveforms.shape[1]} ({round( 100*len(problems)/waveforms.shape[1] , 2 )})%\")\n",
    "print(f\"  good: {len(good)}/{waveforms.shape[1]} ({round( 100*len(good)/waveforms.shape[1] , 2 )})%\")\n",
    "print(f\"  best: {len(best)}/{waveforms.shape[1]} ({round( 100*len(best)/waveforms.shape[1] , 2 )})%\")\n",
    "print(f\"  another: {len(another)}/{waveforms.shape[1]} ({round( 100*len(another)/waveforms.shape[1] , 2 )})%\")\n"
   ]
  },
  {
   "source": [
    "<h1><center>Resultados</center></h1>"
   ],
   "cell_type": "markdown",
   "metadata": {}
  },
  {
   "source": [
    "## Good"
   ],
   "cell_type": "markdown",
   "metadata": {}
  },
  {
   "cell_type": "code",
   "execution_count": null,
   "metadata": {},
   "outputs": [],
   "source": [
    "import random\n",
    "plot_figure(column=random.choice(good), limits=[0,2500])"
   ]
  },
  {
   "source": [
    "## Best"
   ],
   "cell_type": "markdown",
   "metadata": {}
  },
  {
   "cell_type": "code",
   "execution_count": null,
   "metadata": {},
   "outputs": [],
   "source": [
    "waveforms[best]"
   ]
  },
  {
   "cell_type": "code",
   "execution_count": null,
   "metadata": {},
   "outputs": [],
   "source": [
    "import random\n",
    "plot_figure(column=random.choice(best), limits=[0,2500])"
   ]
  },
  {
   "source": [
    "## Another"
   ],
   "cell_type": "markdown",
   "metadata": {}
  },
  {
   "cell_type": "code",
   "execution_count": null,
   "metadata": {},
   "outputs": [],
   "source": [
    "import random\n",
    "plot_figure(column=random.choice(another), limits=[80,300])"
   ]
  },
  {
   "source": [],
   "cell_type": "markdown",
   "metadata": {}
  },
  {
   "source": [],
   "cell_type": "markdown",
   "metadata": {}
  },
  {
   "source": [],
   "cell_type": "markdown",
   "metadata": {}
  },
  {
   "cell_type": "code",
   "execution_count": null,
   "metadata": {},
   "outputs": [],
   "source": [
    "from Analyze.results import Results_Analyze, plots_collection\n",
    "df_filt, results = Results_Analyze(waveforms=waveforms[best], height=0)"
   ]
  },
  {
   "cell_type": "code",
   "execution_count": null,
   "metadata": {},
   "outputs": [],
   "source": [
    "df_filt.head()"
   ]
  },
  {
   "cell_type": "code",
   "execution_count": null,
   "metadata": {},
   "outputs": [],
   "source": [
    "results.head()"
   ]
  },
  {
   "cell_type": "code",
   "execution_count": null,
   "metadata": {},
   "outputs": [],
   "source": [
    "plots_collection(results=results, title=f'Resultados SEM filtro --- {results.shape[0]} eventos')"
   ]
  },
  {
   "cell_type": "code",
   "execution_count": null,
   "metadata": {},
   "outputs": [],
   "source": [
    "results_filt_integral = results.query(\"integrals_0 < integrals_1\")\n",
    "plots_collection(results_filt_integral, title=f\"integrals_0 < integrals_1 --- {results_filt_integral.shape[0]} eventos\")"
   ]
  },
  {
   "cell_type": "code",
   "execution_count": null,
   "metadata": {},
   "outputs": [],
   "source": [
    "results_filt_peaks = results.query(\"peak_Y0 < 127 and peak_Y1 < 127\")\n",
    "plots_collection(results_filt_peaks, title=f\"peak_Y0 < 127 and peak_Y1 < 127 --- {results_filt_peaks.shape[0]} eventos\")"
   ]
  },
  {
   "cell_type": "code",
   "execution_count": null,
   "metadata": {},
   "outputs": [],
   "source": [
    "results_filt_peaks_and_integral = results.query(\"integrals_0 < integrals_1 and peak_Y0 < 127 and peak_Y1 < 127\")\n",
    "plots_collection(results=results_filt_peaks_and_integral, title='integrals_0 < integrals_1 && peak_Y0 < 127 and peak_Y1 < 127')"
   ]
  },
  {
   "cell_type": "code",
   "execution_count": null,
   "metadata": {},
   "outputs": [],
   "source": []
  },
  {
   "cell_type": "code",
   "execution_count": null,
   "metadata": {},
   "outputs": [],
   "source": []
  }
 ]
}