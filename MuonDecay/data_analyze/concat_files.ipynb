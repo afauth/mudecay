{
 "metadata": {
  "language_info": {
   "codemirror_mode": {
    "name": "ipython",
    "version": 3
   },
   "file_extension": ".py",
   "mimetype": "text/x-python",
   "name": "python",
   "nbconvert_exporter": "python",
   "pygments_lexer": "ipython3",
   "version": "3.8.8"
  },
  "orig_nbformat": 2,
  "kernelspec": {
   "name": "python388jvsc74a57bd025f47d99557ba0924d1d76d7e20d512e15617d649528b4a55486bbe742599eab",
   "display_name": "Python 3.8.8 64-bit ('base': conda)"
  }
 },
 "nbformat": 4,
 "nbformat_minor": 2,
 "cells": [
  {
   "cell_type": "code",
   "execution_count": null,
   "metadata": {},
   "outputs": [],
   "source": [
    "from data_analyze.Preliminaries.concat_csv_files import concat_csv"
   ]
  },
  {
   "cell_type": "code",
   "execution_count": null,
   "metadata": {},
   "outputs": [],
   "source": [
    "df = concat_csv(path='../documents/single_muon/1619297657.0683234/')"
   ]
  },
  {
   "cell_type": "code",
   "execution_count": null,
   "metadata": {},
   "outputs": [],
   "source": [
    "from data_analyze.Preliminaries.convert_volts import y_to_volts"
   ]
  },
  {
   "cell_type": "code",
   "execution_count": null,
   "metadata": {},
   "outputs": [],
   "source": [
    "converter = y_to_volts(path='../documents/single_muon/1619297657.0683234/')\n",
    "converter"
   ]
  },
  {
   "cell_type": "code",
   "execution_count": null,
   "metadata": {},
   "outputs": [],
   "source": [
    "waveforms = converter['y_zero'][0] + converter['y_mult'][0]*(df[1:] - converter['y_off'][0])\n",
    "waveforms *= 1_000 # mV\n",
    "waveforms"
   ]
  },
  {
   "cell_type": "code",
   "execution_count": null,
   "metadata": {},
   "outputs": [],
   "source": [
    "import matplotlib.pyplot as plt\n",
    "lista = [i for i in range(2500)]\n",
    "baseLine = waveforms['event_500'][150:].mean()\n",
    "plt.plot(lista[0:200], waveforms['event_500'].values[0:200])"
   ]
  },
  {
   "cell_type": "code",
   "execution_count": null,
   "metadata": {},
   "outputs": [],
   "source": [
    "from data_analyze.Spectrums.integral import simpson_integral_df, trapeziod_integral_df, integral_rectangle_df"
   ]
  },
  {
   "cell_type": "code",
   "execution_count": null,
   "metadata": {},
   "outputs": [],
   "source": [
    "import pandas as pd\n",
    "contour = pd.DataFrame(waveforms['event_500'][100:120])\n",
    "print(simpson_integral_df(waveforms=contour))\n"
   ]
  },
  {
   "cell_type": "code",
   "execution_count": 1,
   "metadata": {},
   "outputs": [],
   "source": [
    "from data_analyze.Preliminaries.read_output_file import y_to_volts, trigger_df"
   ]
  },
  {
   "cell_type": "code",
   "execution_count": 2,
   "metadata": {},
   "outputs": [],
   "source": [
    "path = '../documents/single_muon/'"
   ]
  },
  {
   "cell_type": "code",
   "execution_count": 3,
   "metadata": {},
   "outputs": [
    {
     "output_type": "execute_result",
     "data": {
      "text/plain": [
       "                                          path trigger\n",
       "0  ../documents/single_muon/1619201634.9231706   -40.0\n",
       "1  ../documents/single_muon/1619246158.7057853   -40.0\n",
       "2  ../documents/single_muon/1619297657.0683234   -10.0\n",
       "3  ../documents/single_muon/1619314826.6753685   -20.0\n",
       "4  ../documents/single_muon/1619481562.3015544   -20.0\n",
       "5  ../documents/single_muon/1619540293.2577727   -10.0\n",
       "6  ../documents/single_muon/1619641030.8896358   -40.0"
      ],
      "text/html": "<div>\n<style scoped>\n    .dataframe tbody tr th:only-of-type {\n        vertical-align: middle;\n    }\n\n    .dataframe tbody tr th {\n        vertical-align: top;\n    }\n\n    .dataframe thead th {\n        text-align: right;\n    }\n</style>\n<table border=\"1\" class=\"dataframe\">\n  <thead>\n    <tr style=\"text-align: right;\">\n      <th></th>\n      <th>path</th>\n      <th>trigger</th>\n    </tr>\n  </thead>\n  <tbody>\n    <tr>\n      <th>0</th>\n      <td>../documents/single_muon/1619201634.9231706</td>\n      <td>-40.0</td>\n    </tr>\n    <tr>\n      <th>1</th>\n      <td>../documents/single_muon/1619246158.7057853</td>\n      <td>-40.0</td>\n    </tr>\n    <tr>\n      <th>2</th>\n      <td>../documents/single_muon/1619297657.0683234</td>\n      <td>-10.0</td>\n    </tr>\n    <tr>\n      <th>3</th>\n      <td>../documents/single_muon/1619314826.6753685</td>\n      <td>-20.0</td>\n    </tr>\n    <tr>\n      <th>4</th>\n      <td>../documents/single_muon/1619481562.3015544</td>\n      <td>-20.0</td>\n    </tr>\n    <tr>\n      <th>5</th>\n      <td>../documents/single_muon/1619540293.2577727</td>\n      <td>-10.0</td>\n    </tr>\n    <tr>\n      <th>6</th>\n      <td>../documents/single_muon/1619641030.8896358</td>\n      <td>-40.0</td>\n    </tr>\n  </tbody>\n</table>\n</div>"
     },
     "metadata": {},
     "execution_count": 3
    }
   ],
   "source": [
    "trigger_df(folders=path, rootFolder=True)"
   ]
  },
  {
   "cell_type": "code",
   "execution_count": null,
   "metadata": {},
   "outputs": [],
   "source": []
  }
 ]
}