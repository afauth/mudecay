{
 "metadata": {
  "language_info": {
   "codemirror_mode": {
    "name": "ipython",
    "version": 3
   },
   "file_extension": ".py",
   "mimetype": "text/x-python",
   "name": "python",
   "nbconvert_exporter": "python",
   "pygments_lexer": "ipython3",
   "version": "3.8.8"
  },
  "orig_nbformat": 2,
  "kernelspec": {
   "name": "python388jvsc74a57bd025f47d99557ba0924d1d76d7e20d512e15617d649528b4a55486bbe742599eab",
   "display_name": "Python 3.8.8 64-bit ('base': conda)"
  }
 },
 "nbformat": 4,
 "nbformat_minor": 2,
 "cells": [
  {
   "cell_type": "code",
   "execution_count": 1,
   "metadata": {},
   "outputs": [],
   "source": [
    "import seaborn as sns\n",
    "import pandas as pd\n",
    "import numpy as np\n",
    "import matplotlib.pyplot as plt\n",
    "from scipy.signal import find_peaks"
   ]
  },
  {
   "cell_type": "code",
   "execution_count": 2,
   "metadata": {},
   "outputs": [],
   "source": [
    "import pandas\n",
    "import glob\n",
    "\n",
    "def concat_csv(folder):\n",
    "\n",
    "    csv_files = glob.glob(os.path.join(folder, \"*.csv\"))\n",
    "\n",
    "    waveforms = pd.DataFrame()\n",
    "\n",
    "    for i in range( len(csv_files) ):\n",
    "\n",
    "        file = csv_files[i]\n",
    "        df = pd.read_csv(file, index_col=0)\n",
    "        waveforms = pd.concat([waveforms, df], axis=1)\n",
    "        waveforms.columns = ['event_'+str(i) for i in range(waveforms.shape[1])]\n",
    "\n",
    "    return(waveforms)"
   ]
  },
  {
   "cell_type": "code",
   "execution_count": 3,
   "metadata": {},
   "outputs": [],
   "source": [
    "folder_1 = '../documents/data/1619201634.9231706/'\n",
    "folder_2 = '../documents/data/1619246158.7057853/'"
   ]
  },
  {
   "cell_type": "code",
   "execution_count": 4,
   "metadata": {},
   "outputs": [
    {
     "output_type": "stream",
     "name": "stderr",
     "text": [
      "C:\\.Anaconda\\lib\\site-packages\\IPython\\core\\interactiveshell.py:3357: DtypeWarning: Columns (0) have mixed types.Specify dtype option on import or set low_memory=False.\n  if (await self.run_code(code, result,  async_=asy)):\n"
     ]
    }
   ],
   "source": [
    "waveforms = concat_csv(folder=folder_1)\n",
    "waveforms.to_csv(f'{waveforms.shape[1]}_events.csv')\n",
    "\n",
    "waveforms = concat_csv(folder=folder_2)\n",
    "waveforms.to_csv(f'{waveforms.shape[1]}_events.csv')"
   ]
  },
  {
   "cell_type": "code",
   "execution_count": null,
   "metadata": {},
   "outputs": [],
   "source": [
    "waveforms = pd.concat( [concat_csv(folder_1),concat_csv(folder_2)], axis=1 )\n",
    "waveforms.columns = ['event_'+str(i) for i in range(waveforms.shape[1])]"
   ]
  },
  {
   "cell_type": "code",
   "execution_count": null,
   "metadata": {},
   "outputs": [],
   "source": [
    "waveforms.to_csv(f'{waveforms.shape[1]}_events.csv')"
   ]
  },
  {
   "cell_type": "code",
   "execution_count": null,
   "metadata": {},
   "outputs": [],
   "source": []
  }
 ]
}