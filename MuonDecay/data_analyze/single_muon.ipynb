{
 "metadata": {
  "language_info": {
   "codemirror_mode": {
    "name": "ipython",
    "version": 3
   },
   "file_extension": ".py",
   "mimetype": "text/x-python",
   "name": "python",
   "nbconvert_exporter": "python",
   "pygments_lexer": "ipython3",
   "version": "3.8.8"
  },
  "orig_nbformat": 2,
  "kernelspec": {
   "name": "python3",
   "display_name": "Python 3.8.8 64-bit ('base': conda)"
  },
  "interpreter": {
   "hash": "25f47d99557ba0924d1d76d7e20d512e15617d649528b4a55486bbe742599eab"
  }
 },
 "nbformat": 4,
 "nbformat_minor": 2,
 "cells": [
  {
   "cell_type": "code",
   "execution_count": 1,
   "metadata": {},
   "outputs": [],
   "source": [
    "import pandas as pd"
   ]
  },
  {
   "cell_type": "code",
   "execution_count": 2,
   "metadata": {},
   "outputs": [
    {
     "output_type": "stream",
     "name": "stdout",
     "text": [
      "../documents/data/single_muon/1625196435.5835786\n"
     ]
    }
   ],
   "source": [
    "path = '../documents/data/single_muon/1625196435.5835786'\n",
    "print(path)"
   ]
  },
  {
   "cell_type": "code",
   "execution_count": null,
   "metadata": {},
   "outputs": [],
   "source": [
    "%%time\n",
    "from Preliminaries.concat_csv_files import concat_csv\n",
    "df = concat_csv(path=path)\n",
    "waveform = df[1:]"
   ]
  },
  {
   "cell_type": "code",
   "execution_count": null,
   "metadata": {},
   "outputs": [],
   "source": [
    "# df = pd.read_csv(file, index_col=0).T"
   ]
  },
  {
   "cell_type": "code",
   "execution_count": null,
   "metadata": {},
   "outputs": [],
   "source": [
    "# waveform"
   ]
  },
  {
   "cell_type": "code",
   "execution_count": 3,
   "metadata": {},
   "outputs": [],
   "source": [
    "from Analyze.single_muon import Analysis_SingleMuon, contours_single_muon"
   ]
  },
  {
   "cell_type": "code",
   "execution_count": null,
   "metadata": {},
   "outputs": [],
   "source": [
    "peaks = pd.read_csv(f'{path}/results/peaks.csv', index_col=0)\n",
    "peaks"
   ]
  },
  {
   "cell_type": "code",
   "execution_count": null,
   "metadata": {},
   "outputs": [],
   "source": [
    "def contours_single_muon(waveform, peak, random_left=10, random_right=15):\n",
    "\n",
    "    df = waveform[ peak.index ] \n",
    "\n",
    "    contours = pd.DataFrame()\n",
    "    problems = pd.DataFrame()\n",
    "\n",
    "    for i in range(df.shape[1]):\n",
    "\n",
    "        event = df[ df.columns[i] ]\n",
    "        peak_X0 = int(peak['peak_X0'][i])\n",
    "\n",
    "        limits_0 = [ peak_X0-random_left, peak_X0+random_right ]\n",
    "        pulse = event.iloc[ limits_0[0]:limits_0[1] ].to_list()\n",
    "\n",
    "        if len(pulse) == (random_left + random_right):\n",
    "            contours[ event.name ] = pulse\n",
    "        else:\n",
    "            problems[event.name] = ['contour out of bounds']\n",
    " \n",
    "    problems = problems.T\n",
    "    if problems.shape[1] > 0:\n",
    "        problems.columns = ['problem']\n",
    "\n",
    "    return(contours, problems)"
   ]
  },
  {
   "cell_type": "code",
   "execution_count": null,
   "metadata": {},
   "outputs": [],
   "source": [
    "contours, problems = contours_single_muon(waveform, peaks)"
   ]
  },
  {
   "cell_type": "code",
   "execution_count": null,
   "metadata": {},
   "outputs": [],
   "source": [
    "problems"
   ]
  },
  {
   "cell_type": "code",
   "execution_count": 4,
   "metadata": {},
   "outputs": [
    {
     "output_type": "stream",
     "name": "stdout",
     "text": [
      "Wall time: 319 ms\n"
     ]
    }
   ],
   "source": [
    "%%time\n",
    "Analysis_SingleMuon(folder=path)"
   ]
  },
  {
   "source": [
    "## Plots"
   ],
   "cell_type": "markdown",
   "metadata": {}
  },
  {
   "cell_type": "code",
   "execution_count": null,
   "metadata": {},
   "outputs": [],
   "source": [
    "from data_analyze.Analyze.plots import plots_SingleMuon"
   ]
  },
  {
   "cell_type": "code",
   "execution_count": null,
   "metadata": {},
   "outputs": [],
   "source": [
    "%%time\n",
    "plots_SingleMuon(path=path, bins=50)"
   ]
  },
  {
   "cell_type": "code",
   "execution_count": null,
   "metadata": {},
   "outputs": [],
   "source": []
  }
 ]
}