{
 "metadata": {
  "language_info": {
   "codemirror_mode": {
    "name": "ipython",
    "version": 3
   },
   "file_extension": ".py",
   "mimetype": "text/x-python",
   "name": "python",
   "nbconvert_exporter": "python",
   "pygments_lexer": "ipython3",
   "version": "3.8.8"
  },
  "orig_nbformat": 4,
  "kernelspec": {
   "name": "python3",
   "display_name": "Python 3.8.8 64-bit ('base': conda)"
  },
  "interpreter": {
   "hash": "25f47d99557ba0924d1d76d7e20d512e15617d649528b4a55486bbe742599eab"
  }
 },
 "nbformat": 4,
 "nbformat_minor": 2,
 "cells": [
  {
   "cell_type": "code",
   "execution_count": 1,
   "metadata": {},
   "outputs": [],
   "source": [
    "import pandas as pd\n",
    "import numpy as np\n",
    "import seaborn as sns\n",
    "import matplotlib.pyplot as plt"
   ]
  },
  {
   "cell_type": "code",
   "execution_count": 2,
   "metadata": {},
   "outputs": [],
   "source": [
    "from data_analyze.Spectrums.convert_integral import convert_charge, convert_energy"
   ]
  },
  {
   "cell_type": "code",
   "execution_count": 3,
   "metadata": {},
   "outputs": [],
   "source": [
    "path = 'documents/data/single_muon/1625353737.1067114/results'"
   ]
  },
  {
   "cell_type": "code",
   "execution_count": 18,
   "metadata": {},
   "outputs": [],
   "source": [
    "def find_charge_single_muon(path='../documents/data/single_muon/1625353737.1067114/results', file='integral.csv', number_of_bins=100):\n",
    "\n",
    "    integrals = pd.read_csv(f'{path}/{file}', index_col=0)\n",
    "    charge    = convert_charge(integral=-1*integrals)\n",
    "\n",
    "    values = charge[charge.columns[0]]\n",
    "    bins   = np.linspace( values.min(), values.max(), number_of_bins+1 )\n",
    "\n",
    "    histogram = pd.cut( values, bins ).value_counts()\n",
    "\n",
    "    interval  = histogram.index[0]\n",
    "    max_value = (interval.left + interval.right) / 2\n",
    "\n",
    "    histogram = histogram.sort_index()\n",
    "\n",
    "    return( histogram , max_value )\n"
   ]
  },
  {
   "cell_type": "code",
   "execution_count": 19,
   "metadata": {},
   "outputs": [],
   "source": [
    "histogram , max_value = find_charge_single_muon()"
   ]
  },
  {
   "cell_type": "code",
   "execution_count": 20,
   "metadata": {},
   "outputs": [
    {
     "output_type": "execute_result",
     "data": {
      "text/plain": [
       "(4.736, 5.356]        5\n",
       "(5.356, 5.975]       19\n",
       "(5.975, 6.594]       92\n",
       "(6.594, 7.213]      219\n",
       "(7.213, 7.832]      357\n",
       "                   ... \n",
       "(63.56, 64.18]        1\n",
       "(64.18, 64.799]       1\n",
       "(64.799, 65.418]      0\n",
       "(65.418, 66.037]      0\n",
       "(66.037, 66.656]      2\n",
       "Name: 0, Length: 100, dtype: int64"
      ]
     },
     "metadata": {},
     "execution_count": 20
    }
   ],
   "source": [
    "histogram"
   ]
  },
  {
   "cell_type": "code",
   "execution_count": 21,
   "metadata": {},
   "outputs": [
    {
     "output_type": "execute_result",
     "data": {
      "text/plain": [
       "15.5725"
      ]
     },
     "metadata": {},
     "execution_count": 21
    }
   ],
   "source": [
    "max_value"
   ]
  },
  {
   "cell_type": "code",
   "execution_count": null,
   "metadata": {},
   "outputs": [],
   "source": []
  }
 ]
}