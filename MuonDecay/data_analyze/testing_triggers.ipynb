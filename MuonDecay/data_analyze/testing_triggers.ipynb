{
 "metadata": {
  "language_info": {
   "codemirror_mode": {
    "name": "ipython",
    "version": 3
   },
   "file_extension": ".py",
   "mimetype": "text/x-python",
   "name": "python",
   "nbconvert_exporter": "python",
   "pygments_lexer": "ipython3",
   "version": "3.8.8"
  },
  "orig_nbformat": 2,
  "kernelspec": {
   "name": "python388jvsc74a57bd025f47d99557ba0924d1d76d7e20d512e15617d649528b4a55486bbe742599eab",
   "display_name": "Python 3.8.8 64-bit ('base': conda)"
  }
 },
 "nbformat": 4,
 "nbformat_minor": 2,
 "cells": [
  {
   "cell_type": "code",
   "execution_count": 1,
   "metadata": {},
   "outputs": [],
   "source": [
    "import seaborn as sns\n",
    "import pandas as pd\n",
    "import numpy as np\n",
    "import matplotlib.pyplot as plt\n",
    "from scipy.signal import find_peaks"
   ]
  },
  {
   "cell_type": "code",
   "execution_count": 2,
   "metadata": {},
   "outputs": [],
   "source": [
    "from Analyze.results import Results_Analyze, plots_collection\n",
    "from Preliminaries.concat_csv_files import concat_csv\n",
    "from Spectrums.integral import simpson_integral_df"
   ]
  },
  {
   "source": [
    "## Reading all files based on trigger"
   ],
   "cell_type": "markdown",
   "metadata": {}
  },
  {
   "cell_type": "code",
   "execution_count": 3,
   "metadata": {},
   "outputs": [],
   "source": [
    "path = '../documents/single_muon/'"
   ]
  },
  {
   "cell_type": "code",
   "execution_count": 4,
   "metadata": {},
   "outputs": [],
   "source": [
    "from Preliminaries.read_output_file import trigger_df\n",
    "files = trigger_df(folders=path, rootFolder=True)"
   ]
  },
  {
   "cell_type": "code",
   "execution_count": 5,
   "metadata": {},
   "outputs": [],
   "source": [
    "# df_10 = df.query('trigger == -10').reset_index(drop=True)\n",
    "# df_20 = df.query('trigger == -20').reset_index(drop=True)\n",
    "# df_40 = df.query('trigger == -40').reset_index(drop=True)"
   ]
  },
  {
   "cell_type": "code",
   "execution_count": 6,
   "metadata": {},
   "outputs": [],
   "source": [
    "# files_10 = files.query('trigger == -10')\n",
    "# files_20 = files.query('trigger == -20')\n",
    "# files_40 = files.query('trigger == -40')"
   ]
  },
  {
   "cell_type": "code",
   "execution_count": 7,
   "metadata": {},
   "outputs": [
    {
     "output_type": "execute_result",
     "data": {
      "text/plain": [
       "                                          path  trigger\n",
       "0  ../documents/single_muon/1619201634.9231706    -40.0\n",
       "1  ../documents/single_muon/1619246158.7057853    -40.0\n",
       "2  ../documents/single_muon/1619297657.0683234    -10.0\n",
       "3  ../documents/single_muon/1619314826.6753685    -20.0\n",
       "4  ../documents/single_muon/1619481562.3015544    -20.0\n",
       "5  ../documents/single_muon/1619540293.2577727    -10.0\n",
       "6  ../documents/single_muon/1619641030.8896358    -40.0"
      ],
      "text/html": "<div>\n<style scoped>\n    .dataframe tbody tr th:only-of-type {\n        vertical-align: middle;\n    }\n\n    .dataframe tbody tr th {\n        vertical-align: top;\n    }\n\n    .dataframe thead th {\n        text-align: right;\n    }\n</style>\n<table border=\"1\" class=\"dataframe\">\n  <thead>\n    <tr style=\"text-align: right;\">\n      <th></th>\n      <th>path</th>\n      <th>trigger</th>\n    </tr>\n  </thead>\n  <tbody>\n    <tr>\n      <th>0</th>\n      <td>../documents/single_muon/1619201634.9231706</td>\n      <td>-40.0</td>\n    </tr>\n    <tr>\n      <th>1</th>\n      <td>../documents/single_muon/1619246158.7057853</td>\n      <td>-40.0</td>\n    </tr>\n    <tr>\n      <th>2</th>\n      <td>../documents/single_muon/1619297657.0683234</td>\n      <td>-10.0</td>\n    </tr>\n    <tr>\n      <th>3</th>\n      <td>../documents/single_muon/1619314826.6753685</td>\n      <td>-20.0</td>\n    </tr>\n    <tr>\n      <th>4</th>\n      <td>../documents/single_muon/1619481562.3015544</td>\n      <td>-20.0</td>\n    </tr>\n    <tr>\n      <th>5</th>\n      <td>../documents/single_muon/1619540293.2577727</td>\n      <td>-10.0</td>\n    </tr>\n    <tr>\n      <th>6</th>\n      <td>../documents/single_muon/1619641030.8896358</td>\n      <td>-40.0</td>\n    </tr>\n  </tbody>\n</table>\n</div>"
     },
     "metadata": {},
     "execution_count": 7
    }
   ],
   "source": [
    "files"
   ]
  },
  {
   "cell_type": "code",
   "execution_count": 8,
   "metadata": {},
   "outputs": [
    {
     "output_type": "stream",
     "name": "stderr",
     "text": [
      "C:\\.Anaconda\\lib\\site-packages\\IPython\\core\\interactiveshell.py:3357: DtypeWarning: Columns (0) have mixed types.Specify dtype option on import or set low_memory=False.\n  if (await self.run_code(code, result,  async_=asy)):\n"
     ]
    }
   ],
   "source": [
    "dfs = []\n",
    "for i in range(files.shape[0]):\n",
    "    df = concat_csv(path=files['path'][i])\n",
    "    dfs.append(df)"
   ]
  },
  {
   "cell_type": "code",
   "execution_count": 9,
   "metadata": {},
   "outputs": [],
   "source": [
    "waveforms = []\n",
    "for i in range(files.shape[0]):\n",
    "    waveform = dfs[i][1:]\n",
    "    waveforms.append(waveform)"
   ]
  },
  {
   "cell_type": "code",
   "execution_count": 10,
   "metadata": {},
   "outputs": [],
   "source": [
    "from Preliminaries.read_output_file import retrieve_y_to_volts, convert_y_to_volts"
   ]
  },
  {
   "cell_type": "code",
   "execution_count": 11,
   "metadata": {},
   "outputs": [
    {
     "output_type": "execute_result",
     "data": {
      "text/plain": [
       "        y_zero  y_mult  y_off\n",
       "values     0.0  0.0004   50.0"
      ],
      "text/html": "<div>\n<style scoped>\n    .dataframe tbody tr th:only-of-type {\n        vertical-align: middle;\n    }\n\n    .dataframe tbody tr th {\n        vertical-align: top;\n    }\n\n    .dataframe thead th {\n        text-align: right;\n    }\n</style>\n<table border=\"1\" class=\"dataframe\">\n  <thead>\n    <tr style=\"text-align: right;\">\n      <th></th>\n      <th>y_zero</th>\n      <th>y_mult</th>\n      <th>y_off</th>\n    </tr>\n  </thead>\n  <tbody>\n    <tr>\n      <th>values</th>\n      <td>0.0</td>\n      <td>0.0004</td>\n      <td>50.0</td>\n    </tr>\n  </tbody>\n</table>\n</div>"
     },
     "metadata": {},
     "execution_count": 11
    }
   ],
   "source": [
    "converter = retrieve_y_to_volts(path=files['path'][0])\n",
    "converter"
   ]
  },
  {
   "cell_type": "code",
   "execution_count": 12,
   "metadata": {},
   "outputs": [],
   "source": [
    "for i in range(len(waveforms)):\n",
    "    waveforms[i] = convert_y_to_volts(waveform=waveforms[i], converter_df=converter)"
   ]
  },
  {
   "cell_type": "code",
   "execution_count": 13,
   "metadata": {},
   "outputs": [
    {
     "output_type": "execute_result",
     "data": {
      "text/plain": [
       "      event_0  event_1  event_2  event_3  event_4  event_5  event_6  event_7  \\\n",
       "0         0.8      0.8      0.8      1.2      1.2      1.6     -1.6      0.8   \n",
       "1         1.6      2.0      0.8      1.6      1.6      1.2      0.0      0.8   \n",
       "2         1.6      0.8      1.2      0.8      1.2      1.6      2.4      1.2   \n",
       "3         1.2      0.8      0.8      0.8      1.2      1.6      1.2      0.4   \n",
       "4         0.4      1.2      0.4      1.2      1.6      0.8     -0.4      1.6   \n",
       "...       ...      ...      ...      ...      ...      ...      ...      ...   \n",
       "2495      1.2      0.4      1.2      1.2      0.4      0.8      1.2      1.6   \n",
       "2496      0.8      0.0      1.6      1.2      1.6      1.6      1.2      0.0   \n",
       "2497      1.2      0.4      0.4      0.4      0.8      0.4      0.8      1.2   \n",
       "2498      1.2      1.2      1.2      1.2      1.6      1.6      0.8      0.8   \n",
       "2499      1.6      0.8      1.2      1.2      0.8      2.0      1.6      1.2   \n",
       "\n",
       "      event_8  event_9  ...  event_20688  event_20689  event_20690  \\\n",
       "0         0.8      0.4  ...          0.0         -0.8          1.2   \n",
       "1         0.4      0.8  ...          0.4          2.4          1.2   \n",
       "2         1.2      1.6  ...          0.4          1.2          0.8   \n",
       "3         0.8      1.2  ...          0.4          1.2          0.4   \n",
       "4         0.8      1.6  ...          0.8          1.2          0.8   \n",
       "...       ...      ...  ...          ...          ...          ...   \n",
       "2495      0.4      0.4  ...          0.8          1.6          0.8   \n",
       "2496      1.2      1.6  ...          0.4         -0.8          0.4   \n",
       "2497      1.6      1.2  ...          0.8          1.2          0.8   \n",
       "2498      1.2      0.8  ...          0.4          2.4          0.8   \n",
       "2499      0.8      1.2  ...          1.2         -0.4          0.4   \n",
       "\n",
       "      event_20691  event_20692  event_20693  event_20694  event_20695  \\\n",
       "0             0.0          0.0          0.8          0.8          0.8   \n",
       "1             1.2          0.0          1.2          0.8          1.6   \n",
       "2             1.6          1.6          0.0          0.8          1.2   \n",
       "3             1.6          1.2          1.2          0.8          0.8   \n",
       "4             1.2          0.4          1.2          0.8          0.8   \n",
       "...           ...          ...          ...          ...          ...   \n",
       "2495          1.2          0.8          1.2          1.2          0.8   \n",
       "2496          0.4          0.8          1.6          0.4          0.8   \n",
       "2497          1.6          1.6          0.4          1.2          1.2   \n",
       "2498          0.8          1.2          0.4          0.8          0.4   \n",
       "2499          0.8          0.4          1.2          1.6          1.2   \n",
       "\n",
       "      event_20696  event_20697  \n",
       "0             2.0          1.6  \n",
       "1            -0.4          1.2  \n",
       "2             1.6          1.2  \n",
       "3             1.2          0.8  \n",
       "4             0.4          0.8  \n",
       "...           ...          ...  \n",
       "2495          0.8          0.8  \n",
       "2496          1.2          0.8  \n",
       "2497          1.6          1.6  \n",
       "2498          1.2          1.6  \n",
       "2499          0.4          1.2  \n",
       "\n",
       "[2500 rows x 20698 columns]"
      ],
      "text/html": "<div>\n<style scoped>\n    .dataframe tbody tr th:only-of-type {\n        vertical-align: middle;\n    }\n\n    .dataframe tbody tr th {\n        vertical-align: top;\n    }\n\n    .dataframe thead th {\n        text-align: right;\n    }\n</style>\n<table border=\"1\" class=\"dataframe\">\n  <thead>\n    <tr style=\"text-align: right;\">\n      <th></th>\n      <th>event_0</th>\n      <th>event_1</th>\n      <th>event_2</th>\n      <th>event_3</th>\n      <th>event_4</th>\n      <th>event_5</th>\n      <th>event_6</th>\n      <th>event_7</th>\n      <th>event_8</th>\n      <th>event_9</th>\n      <th>...</th>\n      <th>event_20688</th>\n      <th>event_20689</th>\n      <th>event_20690</th>\n      <th>event_20691</th>\n      <th>event_20692</th>\n      <th>event_20693</th>\n      <th>event_20694</th>\n      <th>event_20695</th>\n      <th>event_20696</th>\n      <th>event_20697</th>\n    </tr>\n  </thead>\n  <tbody>\n    <tr>\n      <th>0</th>\n      <td>0.8</td>\n      <td>0.8</td>\n      <td>0.8</td>\n      <td>1.2</td>\n      <td>1.2</td>\n      <td>1.6</td>\n      <td>-1.6</td>\n      <td>0.8</td>\n      <td>0.8</td>\n      <td>0.4</td>\n      <td>...</td>\n      <td>0.0</td>\n      <td>-0.8</td>\n      <td>1.2</td>\n      <td>0.0</td>\n      <td>0.0</td>\n      <td>0.8</td>\n      <td>0.8</td>\n      <td>0.8</td>\n      <td>2.0</td>\n      <td>1.6</td>\n    </tr>\n    <tr>\n      <th>1</th>\n      <td>1.6</td>\n      <td>2.0</td>\n      <td>0.8</td>\n      <td>1.6</td>\n      <td>1.6</td>\n      <td>1.2</td>\n      <td>0.0</td>\n      <td>0.8</td>\n      <td>0.4</td>\n      <td>0.8</td>\n      <td>...</td>\n      <td>0.4</td>\n      <td>2.4</td>\n      <td>1.2</td>\n      <td>1.2</td>\n      <td>0.0</td>\n      <td>1.2</td>\n      <td>0.8</td>\n      <td>1.6</td>\n      <td>-0.4</td>\n      <td>1.2</td>\n    </tr>\n    <tr>\n      <th>2</th>\n      <td>1.6</td>\n      <td>0.8</td>\n      <td>1.2</td>\n      <td>0.8</td>\n      <td>1.2</td>\n      <td>1.6</td>\n      <td>2.4</td>\n      <td>1.2</td>\n      <td>1.2</td>\n      <td>1.6</td>\n      <td>...</td>\n      <td>0.4</td>\n      <td>1.2</td>\n      <td>0.8</td>\n      <td>1.6</td>\n      <td>1.6</td>\n      <td>0.0</td>\n      <td>0.8</td>\n      <td>1.2</td>\n      <td>1.6</td>\n      <td>1.2</td>\n    </tr>\n    <tr>\n      <th>3</th>\n      <td>1.2</td>\n      <td>0.8</td>\n      <td>0.8</td>\n      <td>0.8</td>\n      <td>1.2</td>\n      <td>1.6</td>\n      <td>1.2</td>\n      <td>0.4</td>\n      <td>0.8</td>\n      <td>1.2</td>\n      <td>...</td>\n      <td>0.4</td>\n      <td>1.2</td>\n      <td>0.4</td>\n      <td>1.6</td>\n      <td>1.2</td>\n      <td>1.2</td>\n      <td>0.8</td>\n      <td>0.8</td>\n      <td>1.2</td>\n      <td>0.8</td>\n    </tr>\n    <tr>\n      <th>4</th>\n      <td>0.4</td>\n      <td>1.2</td>\n      <td>0.4</td>\n      <td>1.2</td>\n      <td>1.6</td>\n      <td>0.8</td>\n      <td>-0.4</td>\n      <td>1.6</td>\n      <td>0.8</td>\n      <td>1.6</td>\n      <td>...</td>\n      <td>0.8</td>\n      <td>1.2</td>\n      <td>0.8</td>\n      <td>1.2</td>\n      <td>0.4</td>\n      <td>1.2</td>\n      <td>0.8</td>\n      <td>0.8</td>\n      <td>0.4</td>\n      <td>0.8</td>\n    </tr>\n    <tr>\n      <th>...</th>\n      <td>...</td>\n      <td>...</td>\n      <td>...</td>\n      <td>...</td>\n      <td>...</td>\n      <td>...</td>\n      <td>...</td>\n      <td>...</td>\n      <td>...</td>\n      <td>...</td>\n      <td>...</td>\n      <td>...</td>\n      <td>...</td>\n      <td>...</td>\n      <td>...</td>\n      <td>...</td>\n      <td>...</td>\n      <td>...</td>\n      <td>...</td>\n      <td>...</td>\n      <td>...</td>\n    </tr>\n    <tr>\n      <th>2495</th>\n      <td>1.2</td>\n      <td>0.4</td>\n      <td>1.2</td>\n      <td>1.2</td>\n      <td>0.4</td>\n      <td>0.8</td>\n      <td>1.2</td>\n      <td>1.6</td>\n      <td>0.4</td>\n      <td>0.4</td>\n      <td>...</td>\n      <td>0.8</td>\n      <td>1.6</td>\n      <td>0.8</td>\n      <td>1.2</td>\n      <td>0.8</td>\n      <td>1.2</td>\n      <td>1.2</td>\n      <td>0.8</td>\n      <td>0.8</td>\n      <td>0.8</td>\n    </tr>\n    <tr>\n      <th>2496</th>\n      <td>0.8</td>\n      <td>0.0</td>\n      <td>1.6</td>\n      <td>1.2</td>\n      <td>1.6</td>\n      <td>1.6</td>\n      <td>1.2</td>\n      <td>0.0</td>\n      <td>1.2</td>\n      <td>1.6</td>\n      <td>...</td>\n      <td>0.4</td>\n      <td>-0.8</td>\n      <td>0.4</td>\n      <td>0.4</td>\n      <td>0.8</td>\n      <td>1.6</td>\n      <td>0.4</td>\n      <td>0.8</td>\n      <td>1.2</td>\n      <td>0.8</td>\n    </tr>\n    <tr>\n      <th>2497</th>\n      <td>1.2</td>\n      <td>0.4</td>\n      <td>0.4</td>\n      <td>0.4</td>\n      <td>0.8</td>\n      <td>0.4</td>\n      <td>0.8</td>\n      <td>1.2</td>\n      <td>1.6</td>\n      <td>1.2</td>\n      <td>...</td>\n      <td>0.8</td>\n      <td>1.2</td>\n      <td>0.8</td>\n      <td>1.6</td>\n      <td>1.6</td>\n      <td>0.4</td>\n      <td>1.2</td>\n      <td>1.2</td>\n      <td>1.6</td>\n      <td>1.6</td>\n    </tr>\n    <tr>\n      <th>2498</th>\n      <td>1.2</td>\n      <td>1.2</td>\n      <td>1.2</td>\n      <td>1.2</td>\n      <td>1.6</td>\n      <td>1.6</td>\n      <td>0.8</td>\n      <td>0.8</td>\n      <td>1.2</td>\n      <td>0.8</td>\n      <td>...</td>\n      <td>0.4</td>\n      <td>2.4</td>\n      <td>0.8</td>\n      <td>0.8</td>\n      <td>1.2</td>\n      <td>0.4</td>\n      <td>0.8</td>\n      <td>0.4</td>\n      <td>1.2</td>\n      <td>1.6</td>\n    </tr>\n    <tr>\n      <th>2499</th>\n      <td>1.6</td>\n      <td>0.8</td>\n      <td>1.2</td>\n      <td>1.2</td>\n      <td>0.8</td>\n      <td>2.0</td>\n      <td>1.6</td>\n      <td>1.2</td>\n      <td>0.8</td>\n      <td>1.2</td>\n      <td>...</td>\n      <td>1.2</td>\n      <td>-0.4</td>\n      <td>0.4</td>\n      <td>0.8</td>\n      <td>0.4</td>\n      <td>1.2</td>\n      <td>1.6</td>\n      <td>1.2</td>\n      <td>0.4</td>\n      <td>1.2</td>\n    </tr>\n  </tbody>\n</table>\n<p>2500 rows × 20698 columns</p>\n</div>"
     },
     "metadata": {},
     "execution_count": 13
    }
   ],
   "source": [
    "waveforms[4]"
   ]
  },
  {
   "source": [
    "## Concatenating all files based on trigger"
   ],
   "cell_type": "markdown",
   "metadata": {}
  },
  {
   "cell_type": "code",
   "execution_count": 14,
   "metadata": {},
   "outputs": [],
   "source": [
    "# %%time\n",
    "# df_10 = pd.concat( \n",
    "#     [concat_csv(path=files_10['path'].iloc[i]) for i in range(files_10.shape[0])]\n",
    "#     , axis=1 )\n",
    "# df_10.columns = ['event_' + str(i) for i in range(df_10.shape[1])]\n",
    "\n",
    "# df_20 = pd.concat( \n",
    "#     [concat_csv(path=files_20['path'].iloc[i]) for i in range(files_20.shape[0])]\n",
    "#     , axis=1 )\n",
    "# df_20.columns = ['event_' + str(i) for i in range(df_20.shape[1])]\n",
    "\n",
    "# df_40 = pd.concat( \n",
    "#     [concat_csv(path=files_40['path'].iloc[i]) for i in range(files_40.shape[0])]\n",
    "#     , axis=1 )\n",
    "# df_40.columns = ['event_' + str(i) for i in range(df_40.shape[1])]"
   ]
  },
  {
   "source": [
    "## Converting values to mV\n",
    "\n",
    "the conversion values are the same, so no worries"
   ],
   "cell_type": "markdown",
   "metadata": {}
  },
  {
   "cell_type": "code",
   "execution_count": 16,
   "metadata": {},
   "outputs": [],
   "source": [
    "# waveforms_10 = df_10[1:]\n",
    "# waveforms_20 = df_20[1:]\n",
    "# waveforms_40 = df_40[1:]"
   ]
  },
  {
   "cell_type": "code",
   "execution_count": 17,
   "metadata": {},
   "outputs": [],
   "source": [
    "# converter = y_to_volts(path=files_10['path'].iloc[0])\n",
    "# converter"
   ]
  },
  {
   "cell_type": "code",
   "execution_count": 18,
   "metadata": {},
   "outputs": [],
   "source": [
    "# waveforms_10 = converter['y_zero'][0] + converter['y_mult'][0]*(waveforms_10 - converter['y_off'][0])\n",
    "# waveforms_10 *= 1_000 # mV\n",
    "\n",
    "# waveforms_20 = converter['y_zero'][0] + converter['y_mult'][0]*(waveforms_20 - converter['y_off'][0])\n",
    "# waveforms_20 *= 1_000 # mV\n",
    "\n",
    "# waveforms_40 = converter['y_zero'][0] + converter['y_mult'][0]*(waveforms_40 - converter['y_off'][0])\n",
    "# waveforms_40 *= 1_000 # mV"
   ]
  },
  {
   "cell_type": "code",
   "execution_count": 19,
   "metadata": {},
   "outputs": [],
   "source": [
    "# baseLine = waveforms_40.iloc[150:].mean().mean()\n",
    "baseLine = 0.9687394555270057 #mV\n",
    "# height = 1000*( converter['y_zero'][0] + converter['y_mult'][0]*(0 - converter['y_off'][0]) )\n",
    "height = -20 #mV\n",
    "#\n",
    "saturacao = -70.8 #mV"
   ]
  },
  {
   "cell_type": "code",
   "execution_count": 20,
   "metadata": {},
   "outputs": [],
   "source": [
    "# baseLine = 52.41176078011208\n",
    "# saturacao = -179.41176078011208\n",
    "\n",
    "# df_10 -= baseLine\n",
    "# df_20 -= baseLine\n",
    "# df_40 -= baseLine"
   ]
  },
  {
   "cell_type": "code",
   "execution_count": 21,
   "metadata": {},
   "outputs": [],
   "source": [
    "# lista = [i for i in range(2500)]\n",
    "# plt.plot(lista, waveforms_40['event_20000'])"
   ]
  },
  {
   "cell_type": "code",
   "execution_count": 22,
   "metadata": {},
   "outputs": [],
   "source": [
    "# peaks, _ = find_peaks(-1*waveforms_40['event_6587'], height=20)\n",
    "# peaks"
   ]
  },
  {
   "source": [
    "## Retrieving data results"
   ],
   "cell_type": "markdown",
   "metadata": {}
  },
  {
   "source": [
    "Note:\n",
    "\n",
    "In order to calculate the integrals, the base line must be the most possible close to zero. It may looks like we are changing the value of the integral, but, in reality, we are only changing the values in order to calculate the variation, which, in reality, is given by subtracting a constant.\n",
    "\n",
    "In essence: just subtract the baseLine constant in order to put the values around zero."
   ],
   "cell_type": "markdown",
   "metadata": {}
  },
  {
   "cell_type": "code",
   "execution_count": 23,
   "metadata": {},
   "outputs": [],
   "source": [
    "def peaks_single_muon(df, height, first_peak_loc=False):\n",
    "\n",
    "    if first_peak_loc != False:\n",
    "        if type(first_peak_loc) != int:\n",
    "            raise ValueError('first_peak_loc must be False or int, only')\n",
    "\n",
    "\n",
    "    Peaks = pd.DataFrame()\n",
    "    problems = pd.DataFrame()\n",
    "\n",
    "    for i in range(df.shape[1]):\n",
    "\n",
    "        event = df[df.columns[i]]\n",
    "        x_peaks, _ = find_peaks(-1*event, height=height)\n",
    "\n",
    "        if len(x_peaks) != 1:\n",
    "            # raise ValueError(f'the numbers of peaks must be 1 and it found {len(x_peaks)} on {event.name}')\n",
    "            problems[event.name] = ['peaks quantity']\n",
    "            continue\n",
    "\n",
    "        if first_peak_loc != False: #trigger makes us expect the pulse in [80:120]\n",
    "            if (x_peaks[0] < first_peak_loc - 15) or (x_peaks[0] > first_peak_loc + 15):\n",
    "                # raise ValueError(f'the first peak of {event.name} is not around the point {first_peak_loc}, but in the instant {x_peaks[0]}')\n",
    "                problems[event.name] = ['1st peak outrange']\n",
    "                continue\n",
    "\n",
    "        y_peaks = event.iloc[x_peaks].tolist()\n",
    "\n",
    "        peaks = np.append(x_peaks, y_peaks)\n",
    "\n",
    "        Peaks[df.columns[i]] = peaks\n",
    "\n",
    "    Peaks = Peaks.T\n",
    "    Peaks.columns = ['peak_X0', 'peak_Y0']\n",
    "\n",
    "    problems = problems.T\n",
    "    if problems.shape[1] > 0:\n",
    "        problems.columns = ['problem']\n",
    "\n",
    "    return(Peaks, problems)\n",
    "\n",
    "\n",
    "\n",
    "def contours_single_muon(waveform, peak, random_left=10, random_right=15):\n",
    "\n",
    "    pulses_0 = pd.DataFrame()\n",
    "    \n",
    "    for i in range(waveform.shape[1]):\n",
    "        try:\n",
    "            event = waveform[waveform.columns[i]]\n",
    "\n",
    "            peak_X0 = int(peak['peak_X0'][i])\n",
    "\n",
    "            limits_0 = [ peak_X0-random_left, peak_X0+random_right ]\n",
    "\n",
    "            pulse_0 = event.iloc[ limits_0[0]:limits_0[1] ].to_list()\n",
    "\n",
    "            pulses_0[ event.name ] = pulse_0\n",
    "        except:\n",
    "            raise ValueError(f'problem on {event.name}')\n",
    "\n",
    "    return(pulses_0)\n",
    "\n",
    "\n",
    "\n",
    "def single_muon_analysis(waveforms, height, baseLine=0):\n",
    "\n",
    "    peaks     = peaks_single_muon(df=waveforms, height=height)\n",
    "\n",
    "    integrals = simpson_integral_df(contours_single_muon(waveform=waveforms-baseLine, peak=peaks))\n",
    "\n",
    "    return(peaks, integrals)"
   ]
  },
  {
   "cell_type": "code",
   "execution_count": 24,
   "metadata": {},
   "outputs": [],
   "source": [
    "def convert_charge(integral):\n",
    "    \n",
    "    R = 50 #ohm\n",
    "    binTime = 4E-3 #micro-sec\n",
    "    VoltCh  = 100 / 255 #100mV/(256-1)bits\n",
    "\n",
    "    charge = 1_000*integral*binTime*VoltCh/R #pC\n",
    "\n",
    "    return(charge)"
   ]
  },
  {
   "source": [
    "## Hands on"
   ],
   "cell_type": "markdown",
   "metadata": {}
  },
  {
   "source": [
    "trigger = -10 mV"
   ],
   "cell_type": "markdown",
   "metadata": {}
  },
  {
   "cell_type": "code",
   "execution_count": null,
   "metadata": {},
   "outputs": [],
   "source": [
    "# %%time\n",
    "# peaks_10, problems_10 = peaks_single_muon(df=waveforms_10, height=-1*height, first_peak_loc=100)"
   ]
  },
  {
   "cell_type": "code",
   "execution_count": null,
   "metadata": {},
   "outputs": [],
   "source": [
    "# plt.plot(lista, waveforms_10[problems_10.index])"
   ]
  },
  {
   "cell_type": "code",
   "execution_count": null,
   "metadata": {
    "tags": []
   },
   "outputs": [],
   "source": [
    "# %%time\n",
    "# contours_10 = contours_single_muon(waveform=waveforms_10[peaks_10.index], peak=peaks_10, random_left=10, random_right=15)"
   ]
  },
  {
   "cell_type": "code",
   "execution_count": null,
   "metadata": {},
   "outputs": [],
   "source": [
    "# integral_10 = simpson_integral_df(contours_10-baseLine)"
   ]
  },
  {
   "source": [
    "trigger = -20 mV"
   ],
   "cell_type": "markdown",
   "metadata": {}
  },
  {
   "cell_type": "code",
   "execution_count": null,
   "metadata": {},
   "outputs": [],
   "source": [
    "# %%time\n",
    "# peaks_20, problems_20 = peaks_single_muon(df=waveforms_20, height=-1*height, first_peak_loc=100)"
   ]
  },
  {
   "cell_type": "code",
   "execution_count": null,
   "metadata": {},
   "outputs": [],
   "source": [
    "# problems_20"
   ]
  },
  {
   "cell_type": "code",
   "execution_count": null,
   "metadata": {},
   "outputs": [],
   "source": [
    "#plt.plot(lista, waveforms_20[problems_20.index])"
   ]
  },
  {
   "cell_type": "code",
   "execution_count": null,
   "metadata": {},
   "outputs": [],
   "source": [
    "# %%time\n",
    "# contours_20 = contours_single_muon(waveform=waveforms_20[peaks_20.index], peak=peaks_20, random_left=10, random_right=15)"
   ]
  },
  {
   "cell_type": "code",
   "execution_count": null,
   "metadata": {},
   "outputs": [],
   "source": [
    "# integral_20 = simpson_integral_df(contours_20-baseLine)"
   ]
  },
  {
   "source": [
    "trigger = -40 mV"
   ],
   "cell_type": "markdown",
   "metadata": {}
  },
  {
   "cell_type": "code",
   "execution_count": null,
   "metadata": {},
   "outputs": [],
   "source": [
    "# %%time\n",
    "# peaks_40, problems_40 = peaks_single_muon(df=waveforms_40, height=-1*height, first_peak_loc=100)"
   ]
  },
  {
   "cell_type": "code",
   "execution_count": null,
   "metadata": {},
   "outputs": [],
   "source": [
    "# problems_40"
   ]
  },
  {
   "cell_type": "code",
   "execution_count": null,
   "metadata": {},
   "outputs": [],
   "source": [
    "# %%time\n",
    "# contours_40 = contours_single_muon(waveform=waveforms_40[peaks_40.index], peak=peaks_40, random_left=10, random_right=15)"
   ]
  },
  {
   "cell_type": "code",
   "execution_count": null,
   "metadata": {},
   "outputs": [],
   "source": [
    "# integral_40 = simpson_integral_df(contours_40-baseLine)"
   ]
  },
  {
   "source": [],
   "cell_type": "markdown",
   "metadata": {}
  },
  {
   "source": [],
   "cell_type": "markdown",
   "metadata": {}
  },
  {
   "source": [],
   "cell_type": "markdown",
   "metadata": {}
  },
  {
   "cell_type": "code",
   "execution_count": null,
   "metadata": {},
   "outputs": [],
   "source": [
    "# peaks_0, problems_0 = peaks_single_muon(df=waveforms[0], height=-1*height, first_peak_loc=100)"
   ]
  },
  {
   "cell_type": "code",
   "execution_count": 25,
   "metadata": {},
   "outputs": [
    {
     "output_type": "stream",
     "name": "stdout",
     "text": [
      "Wall time: 2min 42s\n"
     ]
    }
   ],
   "source": [
    "%%time\n",
    "peaks = []\n",
    "problems = []\n",
    "for i in range(files.shape[0]):\n",
    "    pk, pb = peaks_single_muon(df=waveforms[i], height=-1*height, first_peak_loc=100)\n",
    "    peaks.append(pk)\n",
    "    problems.append(pb)"
   ]
  },
  {
   "cell_type": "code",
   "execution_count": 30,
   "metadata": {},
   "outputs": [],
   "source": [
    "# for i in range(files.shape[0]):\n",
    "#     print(peaks[i].shape[0])"
   ]
  },
  {
   "cell_type": "code",
   "execution_count": 39,
   "metadata": {},
   "outputs": [
    {
     "output_type": "stream",
     "name": "stdout",
     "text": [
      "../documents/single_muon/1619201634.9231706\n../documents/single_muon/1619246158.7057853\n../documents/single_muon/1619297657.0683234\n../documents/single_muon/1619314826.6753685\n../documents/single_muon/1619481562.3015544\n../documents/single_muon/1619540293.2577727\n../documents/single_muon/1619641030.8896358\n"
     ]
    }
   ],
   "source": [
    "for i in range(files.shape[0]):\n",
    "    path = files['path'][i]\n",
    "    print(path)\n",
    "    os.mkdir(f\"{path}/results\")\n",
    "    peaks[i].to_csv( f\"{path}/results/peaks.csv\" )\n",
    "    problems[i].to_csv( f\"{path}/results/problems.csv\" )"
   ]
  },
  {
   "cell_type": "code",
   "execution_count": 41,
   "metadata": {},
   "outputs": [
    {
     "output_type": "stream",
     "name": "stdout",
     "text": [
      "Wall time: 5.37 s\n"
     ]
    }
   ],
   "source": [
    "%%time\n",
    "contours_0 = contours_single_muon(waveform=waveforms[0][peaks[0].index], peak=peaks[0], random_left=10, random_right=15)"
   ]
  },
  {
   "cell_type": "code",
   "execution_count": 43,
   "metadata": {},
   "outputs": [
    {
     "output_type": "execute_result",
     "data": {
      "text/plain": [
       "                     0\n",
       "event_0    -196.449747\n",
       "event_1    -357.516414\n",
       "event_2    -184.049747\n",
       "event_3    -266.716414\n",
       "event_4    -312.449747\n",
       "...                ...\n",
       "event_5896 -305.783080\n",
       "event_5897 -175.516414\n",
       "event_5898 -196.449747\n",
       "event_5899 -193.249747\n",
       "event_5900 -223.783080\n",
       "\n",
       "[5901 rows x 1 columns]"
      ],
      "text/html": "<div>\n<style scoped>\n    .dataframe tbody tr th:only-of-type {\n        vertical-align: middle;\n    }\n\n    .dataframe tbody tr th {\n        vertical-align: top;\n    }\n\n    .dataframe thead th {\n        text-align: right;\n    }\n</style>\n<table border=\"1\" class=\"dataframe\">\n  <thead>\n    <tr style=\"text-align: right;\">\n      <th></th>\n      <th>0</th>\n    </tr>\n  </thead>\n  <tbody>\n    <tr>\n      <th>event_0</th>\n      <td>-196.449747</td>\n    </tr>\n    <tr>\n      <th>event_1</th>\n      <td>-357.516414</td>\n    </tr>\n    <tr>\n      <th>event_2</th>\n      <td>-184.049747</td>\n    </tr>\n    <tr>\n      <th>event_3</th>\n      <td>-266.716414</td>\n    </tr>\n    <tr>\n      <th>event_4</th>\n      <td>-312.449747</td>\n    </tr>\n    <tr>\n      <th>...</th>\n      <td>...</td>\n    </tr>\n    <tr>\n      <th>event_5896</th>\n      <td>-305.783080</td>\n    </tr>\n    <tr>\n      <th>event_5897</th>\n      <td>-175.516414</td>\n    </tr>\n    <tr>\n      <th>event_5898</th>\n      <td>-196.449747</td>\n    </tr>\n    <tr>\n      <th>event_5899</th>\n      <td>-193.249747</td>\n    </tr>\n    <tr>\n      <th>event_5900</th>\n      <td>-223.783080</td>\n    </tr>\n  </tbody>\n</table>\n<p>5901 rows × 1 columns</p>\n</div>"
     },
     "metadata": {},
     "execution_count": 43
    }
   ],
   "source": [
    "simpson_integral_df(contours_0 - baseLine)"
   ]
  },
  {
   "cell_type": "code",
   "execution_count": 49,
   "metadata": {},
   "outputs": [
    {
     "output_type": "stream",
     "name": "stdout",
     "text": [
      "Wall time: 2min 22s\n"
     ]
    }
   ],
   "source": [
    "%%time\n",
    "contours = []\n",
    "integrals = []\n",
    "for i in range(files.shape[0]):\n",
    "\n",
    "    ct = contours_single_muon(waveform=waveforms[i][peaks[i].index], peak=peaks[i], random_left=10, random_right=15)\n",
    "    contours.append(ct)\n",
    "\n",
    "    it = simpson_integral_df(ct-baseLine)\n",
    "    integrals.append(it)"
   ]
  },
  {
   "cell_type": "code",
   "execution_count": 51,
   "metadata": {},
   "outputs": [
    {
     "output_type": "stream",
     "name": "stdout",
     "text": [
      "../documents/single_muon/1619201634.9231706\n",
      "../documents/single_muon/1619246158.7057853\n",
      "../documents/single_muon/1619297657.0683234\n",
      "../documents/single_muon/1619314826.6753685\n",
      "../documents/single_muon/1619481562.3015544\n",
      "../documents/single_muon/1619540293.2577727\n",
      "../documents/single_muon/1619641030.8896358\n"
     ]
    }
   ],
   "source": [
    "for i in range(files.shape[0]):\n",
    "    path = files['path'][i]\n",
    "    print(path)\n",
    "    #os.mkdir(f\"{path}/results\")\n",
    "    contours[i].to_csv( f\"{path}/results/contours.csv\" )\n",
    "    integrals[i].to_csv( f\"{path}/results/integrals.csv\" )"
   ]
  },
  {
   "source": [],
   "cell_type": "markdown",
   "metadata": {}
  },
  {
   "cell_type": "code",
   "execution_count": null,
   "metadata": {},
   "outputs": [],
   "source": [
    "# peaks_10, integral_10 = single_muon_analysis(waveforms=waveforms_10, height=height, baseLine=baseLine)\n",
    "# peaks_20, integral_20 = single_muon_analysis(waveforms=waveforms_20, height=height, baseLine=baseLine)\n",
    "# peaks_40, integral_40 = single_muon_analysis(waveforms=waveforms_40, height=height, baseLine=baseLine)"
   ]
  },
  {
   "source": [],
   "cell_type": "markdown",
   "metadata": {}
  },
  {
   "source": [],
   "cell_type": "markdown",
   "metadata": {}
  },
  {
   "cell_type": "code",
   "execution_count": null,
   "metadata": {},
   "outputs": [],
   "source": [
    "# integral_10 = convert_charge(integral=integral_10)\n",
    "# integral_20 = convert_charge(integral=integral_20)\n",
    "# integral_40 = convert_charge(integral=integral_40)"
   ]
  },
  {
   "cell_type": "code",
   "execution_count": null,
   "metadata": {},
   "outputs": [],
   "source": [
    "# Main plot\n",
    "fig, axes = plt.subplots(ncols=3, nrows=2, figsize=(20,14))\n",
    "fig.suptitle('title', fontsize=18)\n",
    "\n",
    "# Fig 1\n",
    "sns.histplot( peaks_10['peak_Y0'], ax=axes[0,0], color='orange' )\n",
    "axes[0,0].set_title(f'Espectro de picos; Trigger = -10mV; {peaks_10.shape[0]} events')\n",
    "axes[0,0].set_xlabel('peak (mV)')\n",
    "\n",
    "# Fig 2\n",
    "sns.histplot( peaks_20['peak_Y0'], ax=axes[0,1], color='yellow' )\n",
    "axes[0,1].set_title(f'Espectro de picos; Trigger = -20mV; {peaks_20.shape[0]} events')\n",
    "axes[0,1].set_xlabel('peak (mV)')\n",
    "\n",
    "# Fig 3\n",
    "sns.histplot( peaks_40['peak_Y0'], ax=axes[0,2], color='gray' )\n",
    "axes[0,2].set_title(f'Espectro de picos; Trigger = -40mV; {peaks_40.shape[0]} events')\n",
    "axes[0,2].set_xlabel('peak (mV)')\n",
    "\n",
    "# Fig 4\n",
    "sns.histplot( integral_10[integral_10.columns[0]], ax=axes[1,0], color='orange' )\n",
    "axes[1,0].set_title(f'Espectro de carga; Trigger = -10mV; {integral_10.shape[0]} events')\n",
    "axes[1,0].set_xlabel('charge (pC)')\n",
    "\n",
    "# Fig 5\n",
    "sns.histplot( integral_20[integral_20.columns[0]], ax=axes[1,1], color='yellow' )\n",
    "axes[1,1].set_title(f'Espectro de carga; Trigger = -20mV; {integral_20.shape[0]} events')\n",
    "axes[1,1].set_xlabel('charge (pC)')\n",
    "\n",
    "# Fig 6\n",
    "sns.histplot( integral_40[integral_40.columns[0]], ax=axes[1,2], color='gray' )\n",
    "axes[1,2].set_title(f'Espectro de carga; Trigger = -40mV; {integral_40.shape[0]} events')\n",
    "axes[1,2].set_xlabel('charge (pC)')\n",
    "\n",
    "plt.show()"
   ]
  },
  {
   "cell_type": "code",
   "execution_count": null,
   "metadata": {},
   "outputs": [],
   "source": [
    "x = np.arange(2500)\n",
    "event = 'event_4395'\n",
    "#plt.plot(x, df_10[event])"
   ]
  },
  {
   "cell_type": "code",
   "execution_count": null,
   "metadata": {},
   "outputs": [],
   "source": [
    "peaks_10_filt = peaks_10.query('peak_Y0 > @saturacao')\n",
    "peaks_20_filt = peaks_20.query('peak_Y0 > @saturacao')\n",
    "peaks_40_filt = peaks_40.query('peak_Y0 > @saturacao')\n",
    "\n",
    "integral_10_filt = integral_10.loc[ peaks_10_filt.index.to_list() ]\n",
    "integral_20_filt = integral_20.loc[ peaks_20_filt.index.to_list() ]\n",
    "integral_40_filt = integral_40.loc[ peaks_40_filt.index.to_list() ]"
   ]
  },
  {
   "cell_type": "code",
   "execution_count": null,
   "metadata": {},
   "outputs": [],
   "source": [
    "# Main plot\n",
    "fig, axes = plt.subplots(ncols=3, nrows=2, figsize=(20,14))\n",
    "fig.suptitle('Filtragem: sem saturação', fontsize=18)\n",
    "\n",
    "# Fig 1\n",
    "sns.histplot( -1*peaks_10_filt['peak_Y0'], ax=axes[0,0], color='orange', bins=50 )\n",
    "axes[0,0].set_title(f'Espectro de picos; Trigger = -10mV; {peaks_10_filt.shape[0]} events')\n",
    "axes[0,0].set_xlabel('peak (mV)')\n",
    "\n",
    "# Fig 2\n",
    "sns.histplot( -1*peaks_20_filt['peak_Y0'], ax=axes[0,1], color='yellow', bins=50 )\n",
    "axes[0,1].set_title(f'Espectro de picos; Trigger = -20mV; {peaks_20_filt.shape[0]} events')\n",
    "axes[0,1].set_xlabel('peak (mV)')\n",
    "\n",
    "# Fig 3\n",
    "sns.histplot( -1*peaks_40_filt['peak_Y0'], ax=axes[0,2], color='gray', bins=50 )\n",
    "axes[0,2].set_title(f'Espectro de picos; Trigger = -40mV; {peaks_40_filt.shape[0]} events')\n",
    "axes[0,2].set_xlabel('peak (mV)')\n",
    "\n",
    "# Fig 4\n",
    "sns.histplot( -1*integral_10_filt[integral_10.columns[0]], ax=axes[1,0], color='orange', bins=100 )\n",
    "axes[1,0].set_title(f'Espectro de carga; Trigger = -10mV; {integral_10_filt.shape[0]} events')\n",
    "axes[1,0].set_xlabel('charge (pC)')\n",
    "\n",
    "# Fig 5\n",
    "sns.histplot( -1*integral_20_filt[integral_20.columns[0]], ax=axes[1,1], color='yellow', bins=100 )\n",
    "axes[1,1].set_title(f'Espectro de carga; Trigger = -20mV; {integral_20_filt.shape[0]} events')\n",
    "axes[1,1].set_xlabel('charge (pC)')\n",
    "\n",
    "# Fig 6\n",
    "sns.histplot( -1*integral_40_filt[integral_40.columns[0]], ax=axes[1,2], color='gray', bins=120 )\n",
    "axes[1,2].set_title(f'Espectro de carga; Trigger = -40mV; {integral_40_filt.shape[0]} events')\n",
    "axes[1,2].set_xlabel('charge (pC)')\n",
    "\n",
    "plt.show()"
   ]
  },
  {
   "cell_type": "code",
   "execution_count": null,
   "metadata": {},
   "outputs": [],
   "source": [
    "# Main plot\n",
    "# fig, axes = plt.subplots(ncols=2, nrows=1, figsize=(20,14))\n",
    "# fig.suptitle('title', fontsize=18)\n",
    "\n",
    "# Fig 6\n",
    "sns.histplot( -1*integral_40[integral_40.columns[0]], bins=120, color='orange' )\n",
    "\n",
    "# Fig 6\n",
    "sns.histplot( -1*integral_40_filt[integral_40.columns[0]], bins=120, color='yellow' )\n",
    "\n"
   ]
  },
  {
   "cell_type": "code",
   "execution_count": null,
   "metadata": {},
   "outputs": [],
   "source": []
  }
 ]
}