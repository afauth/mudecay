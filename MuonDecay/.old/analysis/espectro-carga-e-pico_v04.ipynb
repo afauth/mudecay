{
 "cells": [
  {
   "cell_type": "markdown",
   "metadata": {},
   "source": [
    "## Imports"
   ]
  },
  {
   "cell_type": "code",
   "execution_count": 1,
   "metadata": {},
   "outputs": [
    {
     "output_type": "stream",
     "name": "stdout",
     "text": [
      "Módulo principal e bibliotecas importados\n"
     ]
    }
   ],
   "source": [
    "%run main_module_file.ipynb"
   ]
  },
  {
   "source": [],
   "cell_type": "markdown",
   "metadata": {}
  },
  {
   "cell_type": "markdown",
   "metadata": {},
   "source": [
    "## Lendo arquivo das waveforms\n",
    "#### O arquivo original já foi parcialmente modificado em relação a linhas e colunas"
   ]
  },
  {
   "cell_type": "code",
   "execution_count": 2,
   "metadata": {},
   "outputs": [
    {
     "output_type": "error",
     "ename": "FileNotFoundError",
     "evalue": "[Errno 2] No such file or directory: 'data/5555_eventos-edit.csv'",
     "traceback": [
      "\u001b[1;31m---------------------------------------------------------------------------\u001b[0m",
      "\u001b[1;31mFileNotFoundError\u001b[0m                         Traceback (most recent call last)",
      "\u001b[1;32m<timed exec>\u001b[0m in \u001b[0;36m<module>\u001b[1;34m\u001b[0m\n",
      "\u001b[1;32mC:\\.Anaconda\\lib\\site-packages\\pandas\\io\\parsers.py\u001b[0m in \u001b[0;36mread_csv\u001b[1;34m(filepath_or_buffer, sep, delimiter, header, names, index_col, usecols, squeeze, prefix, mangle_dupe_cols, dtype, engine, converters, true_values, false_values, skipinitialspace, skiprows, skipfooter, nrows, na_values, keep_default_na, na_filter, verbose, skip_blank_lines, parse_dates, infer_datetime_format, keep_date_col, date_parser, dayfirst, cache_dates, iterator, chunksize, compression, thousands, decimal, lineterminator, quotechar, quoting, doublequote, escapechar, comment, encoding, dialect, error_bad_lines, warn_bad_lines, delim_whitespace, low_memory, memory_map, float_precision, storage_options)\u001b[0m\n\u001b[0;32m    608\u001b[0m     \u001b[0mkwds\u001b[0m\u001b[1;33m.\u001b[0m\u001b[0mupdate\u001b[0m\u001b[1;33m(\u001b[0m\u001b[0mkwds_defaults\u001b[0m\u001b[1;33m)\u001b[0m\u001b[1;33m\u001b[0m\u001b[1;33m\u001b[0m\u001b[0m\n\u001b[0;32m    609\u001b[0m \u001b[1;33m\u001b[0m\u001b[0m\n\u001b[1;32m--> 610\u001b[1;33m     \u001b[1;32mreturn\u001b[0m \u001b[0m_read\u001b[0m\u001b[1;33m(\u001b[0m\u001b[0mfilepath_or_buffer\u001b[0m\u001b[1;33m,\u001b[0m \u001b[0mkwds\u001b[0m\u001b[1;33m)\u001b[0m\u001b[1;33m\u001b[0m\u001b[1;33m\u001b[0m\u001b[0m\n\u001b[0m\u001b[0;32m    611\u001b[0m \u001b[1;33m\u001b[0m\u001b[0m\n\u001b[0;32m    612\u001b[0m \u001b[1;33m\u001b[0m\u001b[0m\n",
      "\u001b[1;32mC:\\.Anaconda\\lib\\site-packages\\pandas\\io\\parsers.py\u001b[0m in \u001b[0;36m_read\u001b[1;34m(filepath_or_buffer, kwds)\u001b[0m\n\u001b[0;32m    460\u001b[0m \u001b[1;33m\u001b[0m\u001b[0m\n\u001b[0;32m    461\u001b[0m     \u001b[1;31m# Create the parser.\u001b[0m\u001b[1;33m\u001b[0m\u001b[1;33m\u001b[0m\u001b[1;33m\u001b[0m\u001b[0m\n\u001b[1;32m--> 462\u001b[1;33m     \u001b[0mparser\u001b[0m \u001b[1;33m=\u001b[0m \u001b[0mTextFileReader\u001b[0m\u001b[1;33m(\u001b[0m\u001b[0mfilepath_or_buffer\u001b[0m\u001b[1;33m,\u001b[0m \u001b[1;33m**\u001b[0m\u001b[0mkwds\u001b[0m\u001b[1;33m)\u001b[0m\u001b[1;33m\u001b[0m\u001b[1;33m\u001b[0m\u001b[0m\n\u001b[0m\u001b[0;32m    463\u001b[0m \u001b[1;33m\u001b[0m\u001b[0m\n\u001b[0;32m    464\u001b[0m     \u001b[1;32mif\u001b[0m \u001b[0mchunksize\u001b[0m \u001b[1;32mor\u001b[0m \u001b[0miterator\u001b[0m\u001b[1;33m:\u001b[0m\u001b[1;33m\u001b[0m\u001b[1;33m\u001b[0m\u001b[0m\n",
      "\u001b[1;32mC:\\.Anaconda\\lib\\site-packages\\pandas\\io\\parsers.py\u001b[0m in \u001b[0;36m__init__\u001b[1;34m(self, f, engine, **kwds)\u001b[0m\n\u001b[0;32m    817\u001b[0m             \u001b[0mself\u001b[0m\u001b[1;33m.\u001b[0m\u001b[0moptions\u001b[0m\u001b[1;33m[\u001b[0m\u001b[1;34m\"has_index_names\"\u001b[0m\u001b[1;33m]\u001b[0m \u001b[1;33m=\u001b[0m \u001b[0mkwds\u001b[0m\u001b[1;33m[\u001b[0m\u001b[1;34m\"has_index_names\"\u001b[0m\u001b[1;33m]\u001b[0m\u001b[1;33m\u001b[0m\u001b[1;33m\u001b[0m\u001b[0m\n\u001b[0;32m    818\u001b[0m \u001b[1;33m\u001b[0m\u001b[0m\n\u001b[1;32m--> 819\u001b[1;33m         \u001b[0mself\u001b[0m\u001b[1;33m.\u001b[0m\u001b[0m_engine\u001b[0m \u001b[1;33m=\u001b[0m \u001b[0mself\u001b[0m\u001b[1;33m.\u001b[0m\u001b[0m_make_engine\u001b[0m\u001b[1;33m(\u001b[0m\u001b[0mself\u001b[0m\u001b[1;33m.\u001b[0m\u001b[0mengine\u001b[0m\u001b[1;33m)\u001b[0m\u001b[1;33m\u001b[0m\u001b[1;33m\u001b[0m\u001b[0m\n\u001b[0m\u001b[0;32m    820\u001b[0m \u001b[1;33m\u001b[0m\u001b[0m\n\u001b[0;32m    821\u001b[0m     \u001b[1;32mdef\u001b[0m \u001b[0mclose\u001b[0m\u001b[1;33m(\u001b[0m\u001b[0mself\u001b[0m\u001b[1;33m)\u001b[0m\u001b[1;33m:\u001b[0m\u001b[1;33m\u001b[0m\u001b[1;33m\u001b[0m\u001b[0m\n",
      "\u001b[1;32mC:\\.Anaconda\\lib\\site-packages\\pandas\\io\\parsers.py\u001b[0m in \u001b[0;36m_make_engine\u001b[1;34m(self, engine)\u001b[0m\n\u001b[0;32m   1048\u001b[0m             )\n\u001b[0;32m   1049\u001b[0m         \u001b[1;31m# error: Too many arguments for \"ParserBase\"\u001b[0m\u001b[1;33m\u001b[0m\u001b[1;33m\u001b[0m\u001b[1;33m\u001b[0m\u001b[0m\n\u001b[1;32m-> 1050\u001b[1;33m         \u001b[1;32mreturn\u001b[0m \u001b[0mmapping\u001b[0m\u001b[1;33m[\u001b[0m\u001b[0mengine\u001b[0m\u001b[1;33m]\u001b[0m\u001b[1;33m(\u001b[0m\u001b[0mself\u001b[0m\u001b[1;33m.\u001b[0m\u001b[0mf\u001b[0m\u001b[1;33m,\u001b[0m \u001b[1;33m**\u001b[0m\u001b[0mself\u001b[0m\u001b[1;33m.\u001b[0m\u001b[0moptions\u001b[0m\u001b[1;33m)\u001b[0m  \u001b[1;31m# type: ignore[call-arg]\u001b[0m\u001b[1;33m\u001b[0m\u001b[1;33m\u001b[0m\u001b[0m\n\u001b[0m\u001b[0;32m   1051\u001b[0m \u001b[1;33m\u001b[0m\u001b[0m\n\u001b[0;32m   1052\u001b[0m     \u001b[1;32mdef\u001b[0m \u001b[0m_failover_to_python\u001b[0m\u001b[1;33m(\u001b[0m\u001b[0mself\u001b[0m\u001b[1;33m)\u001b[0m\u001b[1;33m:\u001b[0m\u001b[1;33m\u001b[0m\u001b[1;33m\u001b[0m\u001b[0m\n",
      "\u001b[1;32mC:\\.Anaconda\\lib\\site-packages\\pandas\\io\\parsers.py\u001b[0m in \u001b[0;36m__init__\u001b[1;34m(self, src, **kwds)\u001b[0m\n\u001b[0;32m   1865\u001b[0m \u001b[1;33m\u001b[0m\u001b[0m\n\u001b[0;32m   1866\u001b[0m         \u001b[1;31m# open handles\u001b[0m\u001b[1;33m\u001b[0m\u001b[1;33m\u001b[0m\u001b[1;33m\u001b[0m\u001b[0m\n\u001b[1;32m-> 1867\u001b[1;33m         \u001b[0mself\u001b[0m\u001b[1;33m.\u001b[0m\u001b[0m_open_handles\u001b[0m\u001b[1;33m(\u001b[0m\u001b[0msrc\u001b[0m\u001b[1;33m,\u001b[0m \u001b[0mkwds\u001b[0m\u001b[1;33m)\u001b[0m\u001b[1;33m\u001b[0m\u001b[1;33m\u001b[0m\u001b[0m\n\u001b[0m\u001b[0;32m   1868\u001b[0m         \u001b[1;32massert\u001b[0m \u001b[0mself\u001b[0m\u001b[1;33m.\u001b[0m\u001b[0mhandles\u001b[0m \u001b[1;32mis\u001b[0m \u001b[1;32mnot\u001b[0m \u001b[1;32mNone\u001b[0m\u001b[1;33m\u001b[0m\u001b[1;33m\u001b[0m\u001b[0m\n\u001b[0;32m   1869\u001b[0m         \u001b[1;32mfor\u001b[0m \u001b[0mkey\u001b[0m \u001b[1;32min\u001b[0m \u001b[1;33m(\u001b[0m\u001b[1;34m\"storage_options\"\u001b[0m\u001b[1;33m,\u001b[0m \u001b[1;34m\"encoding\"\u001b[0m\u001b[1;33m,\u001b[0m \u001b[1;34m\"memory_map\"\u001b[0m\u001b[1;33m,\u001b[0m \u001b[1;34m\"compression\"\u001b[0m\u001b[1;33m)\u001b[0m\u001b[1;33m:\u001b[0m\u001b[1;33m\u001b[0m\u001b[1;33m\u001b[0m\u001b[0m\n",
      "\u001b[1;32mC:\\.Anaconda\\lib\\site-packages\\pandas\\io\\parsers.py\u001b[0m in \u001b[0;36m_open_handles\u001b[1;34m(self, src, kwds)\u001b[0m\n\u001b[0;32m   1360\u001b[0m         \u001b[0mLet\u001b[0m \u001b[0mthe\u001b[0m \u001b[0mreaders\u001b[0m \u001b[0mopen\u001b[0m \u001b[0mIOHanldes\u001b[0m \u001b[0mafter\u001b[0m \u001b[0mthey\u001b[0m \u001b[0mare\u001b[0m \u001b[0mdone\u001b[0m \u001b[1;32mwith\u001b[0m \u001b[0mtheir\u001b[0m \u001b[0mpotential\u001b[0m \u001b[0mraises\u001b[0m\u001b[1;33m.\u001b[0m\u001b[1;33m\u001b[0m\u001b[1;33m\u001b[0m\u001b[0m\n\u001b[0;32m   1361\u001b[0m         \"\"\"\n\u001b[1;32m-> 1362\u001b[1;33m         self.handles = get_handle(\n\u001b[0m\u001b[0;32m   1363\u001b[0m             \u001b[0msrc\u001b[0m\u001b[1;33m,\u001b[0m\u001b[1;33m\u001b[0m\u001b[1;33m\u001b[0m\u001b[0m\n\u001b[0;32m   1364\u001b[0m             \u001b[1;34m\"r\"\u001b[0m\u001b[1;33m,\u001b[0m\u001b[1;33m\u001b[0m\u001b[1;33m\u001b[0m\u001b[0m\n",
      "\u001b[1;32mC:\\.Anaconda\\lib\\site-packages\\pandas\\io\\common.py\u001b[0m in \u001b[0;36mget_handle\u001b[1;34m(path_or_buf, mode, encoding, compression, memory_map, is_text, errors, storage_options)\u001b[0m\n\u001b[0;32m    640\u001b[0m                 \u001b[0merrors\u001b[0m \u001b[1;33m=\u001b[0m \u001b[1;34m\"replace\"\u001b[0m\u001b[1;33m\u001b[0m\u001b[1;33m\u001b[0m\u001b[0m\n\u001b[0;32m    641\u001b[0m             \u001b[1;31m# Encoding\u001b[0m\u001b[1;33m\u001b[0m\u001b[1;33m\u001b[0m\u001b[1;33m\u001b[0m\u001b[0m\n\u001b[1;32m--> 642\u001b[1;33m             handle = open(\n\u001b[0m\u001b[0;32m    643\u001b[0m                 \u001b[0mhandle\u001b[0m\u001b[1;33m,\u001b[0m\u001b[1;33m\u001b[0m\u001b[1;33m\u001b[0m\u001b[0m\n\u001b[0;32m    644\u001b[0m                 \u001b[0mioargs\u001b[0m\u001b[1;33m.\u001b[0m\u001b[0mmode\u001b[0m\u001b[1;33m,\u001b[0m\u001b[1;33m\u001b[0m\u001b[1;33m\u001b[0m\u001b[0m\n",
      "\u001b[1;31mFileNotFoundError\u001b[0m: [Errno 2] No such file or directory: 'data/5555_eventos-edit.csv'"
     ]
    }
   ],
   "source": [
    "%%time\n",
    "'''Lendo arquivo das waveforms'''\n",
    "\n",
    "waveform = pd.read_csv('data/5555_eventos-edit.csv',     index_col = 0) # importa como waveform vs sample"
   ]
  },
  {
   "source": [],
   "cell_type": "markdown",
   "metadata": {}
  },
  {
   "cell_type": "markdown",
   "metadata": {},
   "source": [
    "## 3. ANÁLISE DE DADOS"
   ]
  },
  {
   "cell_type": "markdown",
   "metadata": {},
   "source": [
    "## 3.1. Copia o data frame e seleciona a janela de busca\n",
    "\n",
    "Cria uma cópia das waveforms para poder transladar o base line sem modificar os dados originais;\n",
    "\n",
    "Define a janela onde procuraremos pelos valores do contorno do pulso"
   ]
  },
  {
   "cell_type": "code",
   "execution_count": null,
   "metadata": {},
   "outputs": [],
   "source": [
    "df = waveform.copy(deep = True)\n",
    "df = df.iloc[ : , :df.shape[1] - 1 ]\n",
    "\n",
    "VA_1 = 20 # VA_1 e VA_2 são variáveis arbitrárias para definir o majorante da largura dos pulsos\n",
    "VA_2 = 70\n",
    "\n",
    "convert_to_microsec = 1/250"
   ]
  },
  {
   "cell_type": "code",
   "execution_count": null,
   "metadata": {},
   "outputs": [],
   "source": [
    "peaks, _ = find_peaks(-df.event_75, height=40)\n",
    "peaks"
   ]
  },
  {
   "cell_type": "code",
   "execution_count": null,
   "metadata": {},
   "outputs": [],
   "source": [
    "plt.plot(-df.event_75)"
   ]
  },
  {
   "cell_type": "markdown",
   "metadata": {},
   "source": [
    "## 3.2. Translação da base-line\n",
    "\n",
    "É interessante transladar os pontos e fixar a base line no 0. Podemos fazer isso somando ~= -50 em cada um dos valores de toda a coleção de waveforms. Isso servirá para evitar problemas de 'height' no peak_finder()\n",
    "\n",
    "Análise estatística do base-line:\n",
    "No caso, tomaremos todos os dados antes do primeiro pulso de cada waveform e consideraremos o base-line como o mesmo para todos os waveforms\n",
    "\n",
    "        Método:\n",
    "\n",
    "Para encontrar a base line, selecionaremos a parte mais à esquerda, antes do pulso. Esse pedaço é definido como fora de um valor arbitrário em torno do primeiro pico da waveform, que acaba não sofrendo com a questão da base line. Definimos desse jeito porque a função para calcular o contorno do pulso, além de demorar para ser computada, sofre com as questões do peak_finder acabar encontrando apenas um elemento\n"
   ]
  },
  {
   "cell_type": "code",
   "execution_count": null,
   "metadata": {
    "tags": []
   },
   "outputs": [],
   "source": [
    "%%time\n",
    "\n",
    "height = 50 # esse parâmetro aqui é somente para efeito de encontrar os elementos da  base line a priori\n",
    "\n",
    "baseLines = baseLine(df=df, height=height, VA_1=VA_1)\n",
    "\n",
    "plt.plot(-df['event_100'])"
   ]
  },
  {
   "cell_type": "markdown",
   "metadata": {},
   "source": [
    "        Relocação do base-line:\n",
    "Colocando o valor médio do base line como o parâmetro height do peak-finder, surpreendentemente temos um resultado que não incorre em erros na hora de achar os dois picos de cada waveform. No caso, ele acaba por achar dois picos (não mais nem menos) de maneira mais fácil e exata"
   ]
  },
  {
   "cell_type": "code",
   "execution_count": null,
   "metadata": {},
   "outputs": [],
   "source": [
    "'''\n",
    "Alterando os valores e recolocando na base line ~= 0\n",
    "'''\n",
    "\n",
    "df.iloc[ :  , : df.shape[1] ] -= baseLines.mean() \n",
    "# soma ~= -50 em todo o df, exceto pela última coluna 'time'\n",
    "#df.head(2)\n",
    "\n",
    "height = baseLines.mean()\n",
    "\n",
    "plt.plot(-df['event_100'])"
   ]
  },
  {
   "cell_type": "code",
   "execution_count": null,
   "metadata": {},
   "outputs": [],
   "source": [
    "plt.plot(-df['event_1234'].iloc[80:150])"
   ]
  },
  {
   "cell_type": "code",
   "execution_count": null,
   "metadata": {},
   "outputs": [],
   "source": [
    "# %%time\n",
    "# '''\n",
    "# Filtrando os dados de acordo com o valor do tempo de vida do muon\n",
    "# '''\n",
    "# df_filt_delta_t = filtra_delta_t(df=df, convert_to_microsec=convert_to_microsec, time_in_ADCch=5, height=height)"
   ]
  },
  {
   "cell_type": "code",
   "execution_count": null,
   "metadata": {},
   "outputs": [],
   "source": [
    "# from scipy.fft import fft\n",
    "# y = fft(df['event_77'].iloc[70:110].to_numpy())\n",
    "# plt.plot( range(len(y)) , y )\n",
    "# plt.plot(df['event_77'].iloc[70:110].to_numpy())"
   ]
  },
  {
   "cell_type": "code",
   "execution_count": null,
   "metadata": {},
   "outputs": [],
   "source": []
  },
  {
   "source": [
    "## Curve fit exponencial da diferença de tempo"
   ],
   "cell_type": "markdown",
   "metadata": {}
  },
  {
   "source": [
    "coeff, fig, center_of_bins, values_histogram = curve_fit_exponencial(df=df, height=height, convert_to_microsec=convert_to_microsec, custom_number_of_bins=100, plot_graph=1, plt_points=1, plt_bars=0)\n",
    "print(coeff)"
   ],
   "cell_type": "code",
   "metadata": {},
   "execution_count": null,
   "outputs": []
  },
  {
   "cell_type": "code",
   "execution_count": null,
   "metadata": {},
   "outputs": [],
   "source": [
    "# %%time\n",
    "# aux1 = []\n",
    "# aux2 = []\n",
    "# for i in range(5,1010,250):\n",
    "#     table = curve_fit_exponencial(df=df , height=height, convert_to_microsec=convert_to_microsec, plt_points=1, plt_bars=1, custom_number_of_bins=i, plot_graph=0 )\n",
    "#     aux1.append(i) , aux2.append(table['valor']['A'])\n",
    "\n",
    "# aux_df = pd.DataFrame([aux1,aux2]).T\n",
    "# aux_df.columns = ['number_bins' , 'A']\n",
    "# print(aux_df)\n",
    "\n",
    "# #aux_df.to_csv('data/A_number-of-bins.csv')\n",
    "\n",
    "# plt.scatter( aux_df['number_bins'] , aux_df['A'] , color='dimgrey' )\n",
    "# plt.xlabel('Número de bins')\n",
    "# plt.ylabel('Valor da constante A')\n",
    "# plt.show()\n",
    "\n",
    "# def curve_fit_aux(t,a):\n",
    "#     return(a*1/t)\n",
    "# opt_coeff, cov = curve_fit(curve_fit_aux, xdata=aux_df['number_bins'], ydata=aux_df['A'])\n",
    "# print(f'y = {opt_coeff[0]}/x')\n",
    "# print(cov)\n",
    "\n",
    "# x = np.linspace(4,1000, 10000)\n",
    "# plt.plot( \n",
    "#     x, curve_fit_aux(x,opt_coeff[0]), color = 'orange' \n",
    "#         )\n",
    "# plt.scatter( aux_df['number_bins'] , aux_df['A'] , color='dimgrey' )\n",
    "# plt.xlabel('Número de bins')\n",
    "# plt.ylabel('Valor da constante A')\n",
    "# plt.show()"
   ]
  },
  {
   "cell_type": "code",
   "execution_count": null,
   "metadata": {},
   "outputs": [],
   "source": [
    "def f_esperada_no_bin(center_of_bins, N_0=5555, gamma=1/2.1969811): #micro_seconds\n",
    "    # number_of_bins = len(center_of_bins)\n",
    "    delta_t = center_of_bins[1] - center_of_bins[0]\n",
    "    a_value = center_of_bins - delta_t/2\n",
    "    b_value = center_of_bins + delta_t/2\n",
    "    return(     N_0 * ( np.e**(-gamma*a_value) - np.e**(-gamma*b_value) )     )\n",
    "\n",
    "f_esperada  = f_esperada_no_bin(center_of_bins)\n",
    "f_observada = values_histogram"
   ]
  },
  {
   "cell_type": "code",
   "execution_count": null,
   "metadata": {},
   "outputs": [],
   "source": [
    "chi_2, p_valor = chisquare(f_obs=f_observada, f_exp=f_esperada) #rejeitar se p_valor <= alpha = 0.05\n",
    "chi_2"
   ]
  },
  {
   "cell_type": "code",
   "execution_count": null,
   "metadata": {},
   "outputs": [],
   "source": [
    "plt.scatter(  range(len(f_esperada))  , f_esperada   )\n",
    "plt.scatter(  range(len(f_observada)) , f_observada  )"
   ]
  },
  {
   "cell_type": "code",
   "execution_count": null,
   "metadata": {},
   "outputs": [],
   "source": [
    "number_of_bins_values = []\n",
    "chi_2_values          = []\n",
    "p_valor_values        = []\n",
    "A_values              = []\n",
    "for i in range(4,200,10):\n",
    "    table, center_of_bins, values_histogram = curve_fit_exponencial(df=df , height=height, convert_to_microsec=convert_to_microsec, custom_number_of_bins=i, plot_graph=0 )\n",
    "    f_esperada  = f_esperada_no_bin(center_of_bins=center_of_bins)\n",
    "    f_observada = values_histogram\n",
    "    chi_2, p_valor = chisquare(f_obs=f_observada, f_exp=f_esperada) #rejeitar se p_valor <= alpha = 0.05\n",
    "    number_of_bins_values.append(i)\n",
    "    chi_2_values.append(chi_2)\n",
    "    p_valor_values.append(p_valor)\n",
    "    A_values.append(table['valor']['A'])"
   ]
  },
  {
   "cell_type": "code",
   "execution_count": null,
   "metadata": {},
   "outputs": [],
   "source": [
    "[ (p_valor_values[i]<=0.05) for i in range(len(p_valor_values)) ]"
   ]
  },
  {
   "cell_type": "code",
   "execution_count": null,
   "metadata": {},
   "outputs": [],
   "source": [
    "p_valor_values"
   ]
  },
  {
   "cell_type": "code",
   "execution_count": null,
   "metadata": {},
   "outputs": [],
   "source": [
    "x = [99.8 , 299.7 , 599.9 , 799.7 , 1300.0 , 1600.0 , 1899.8] #V\n",
    "y = [0.042 , 0.133 , 0.272 , 0.423 , 0.859 , 1.122 , 1.385] #mA\n",
    "\n",
    "z = [299.7 , 599.9 , 799.7 , 1300, 1400]\n",
    "k = [0.133 , 0.272 , 0.423 , 0.858, 0.946]\n",
    "\n",
    "def fit(x,a,b):\n",
    "    return(a*x + b)\n",
    "opt_coeff, opt_cov = curve_fit(f=fit, xdata=x, ydata=y)\n",
    "plt.scatter(x,y)\n",
    "X = np.linspace(0,2000,10000)\n",
    "plt.plot( X , fit(X, opt_coeff[0], opt_coeff[1]) )"
   ]
  },
  {
   "source": [],
   "cell_type": "markdown",
   "metadata": {}
  },
  {
   "source": [
    "## 4.1. Loop para construção e check do peak_finder\n",
    "Esse loop cria e checa se existem erros na obtenção dos picos através da função peak-finder, quando peaks != 2"
   ],
   "cell_type": "markdown",
   "metadata": {}
  },
  {
   "cell_type": "code",
   "execution_count": null,
   "metadata": {},
   "outputs": [],
   "source": [
    "%%time\n",
    "peaks_xy_0   ,   peaks_xy_1    =    peaks_divididos_01(df=df, height = baseLines.mean())\n",
    "peaks_xy_0.index = peaks_xy_0.index // 2\n",
    "peaks_xy_1.index = peaks_xy_1.index // 2"
   ]
  },
  {
   "cell_type": "code",
   "execution_count": null,
   "metadata": {},
   "outputs": [],
   "source": [
    "peaks_xy_0.y.value_counts().sort_index()"
   ]
  },
  {
   "cell_type": "code",
   "execution_count": null,
   "metadata": {},
   "outputs": [],
   "source": [
    "peaks_xy_1.y.value_counts().sort_index()"
   ]
  },
  {
   "cell_type": "code",
   "execution_count": null,
   "metadata": {},
   "outputs": [],
   "source": [
    "height"
   ]
  },
  {
   "source": [],
   "cell_type": "markdown",
   "metadata": {}
  },
  {
   "cell_type": "markdown",
   "metadata": {},
   "source": [
    "# 5. Plot espectro de amplitude"
   ]
  },
  {
   "cell_type": "markdown",
   "metadata": {},
   "source": [
    "## 5.1. Plot do espectro de amplitude do primeiro pulso "
   ]
  },
  {
   "cell_type": "code",
   "execution_count": null,
   "metadata": {},
   "outputs": [],
   "source": [
    "# sns.histplot( -1*peaks_xy_0['y'].round() )\n",
    "# plt.title('Espectro de amplitude do muon')\n",
    "# plt.xlabel('Máximo do pulso')\n",
    "# plt.savefig(\"images/espectro_amplitude-pulso_0.png\", dpi = 150)"
   ]
  },
  {
   "cell_type": "code",
   "execution_count": null,
   "metadata": {},
   "outputs": [],
   "source": [
    "#sns_plot = sns.histplot( -1*peaks_xy_0.query('y > y.min()')['y'] )\n",
    "#plt.title('Espectro de amplitude do muon [sem saturação]')\n",
    "#plt.savefig(\"images/espectro_amplitude_0_ZOOM.png\", dpi = 150)"
   ]
  },
  {
   "cell_type": "markdown",
   "metadata": {},
   "source": [
    "## 5.3. Plot do espectro de amplitude do segundo pulso "
   ]
  },
  {
   "cell_type": "code",
   "execution_count": null,
   "metadata": {},
   "outputs": [],
   "source": [
    "# sns.histplot( -1*peaks_xy_1['y'].round() )\n",
    "# plt.title('Espectro de amplitude do eletron')\n",
    "# plt.savefig(\"images/espectro_amplitude_1.png\", dpi = 150)"
   ]
  },
  {
   "cell_type": "code",
   "execution_count": null,
   "metadata": {},
   "outputs": [],
   "source": [
    "#sns.histplot( -1*peaks_xy_1.query('y > y.min()')['y'] )\n",
    "#plt.title('Espectro de amplitude do eletron [sem saturação]')\n",
    "#plt.savefig(\"images/espectro_amplitude_1_ZOOM.png\", dpi = 150)"
   ]
  },
  {
   "source": [],
   "cell_type": "markdown",
   "metadata": {}
  },
  {
   "cell_type": "markdown",
   "metadata": {},
   "source": [
    "# 6. Plot dos espectro de carga"
   ]
  },
  {
   "cell_type": "markdown",
   "metadata": {},
   "source": [
    "## 6.2. Integração do pulso \n",
    "\n",
    "Integramos o pulso para obter a carga gerada com ele. Utilizamos a integração pelo método de Simpson."
   ]
  },
  {
   "cell_type": "code",
   "execution_count": null,
   "metadata": {
    "tags": []
   },
   "outputs": [],
   "source": [
    "%%time\n",
    "_ = contorno_limite_arbitrario_picos(\n",
    "    df=df, peaks_01=(peaks_xy_0,peaks_xy_1), VA_1=VA_1, VA_2=VA_2, height=height\n",
    "                                    )"
   ]
  },
  {
   "cell_type": "code",
   "execution_count": null,
   "metadata": {},
   "outputs": [],
   "source": [
    "#plt.plot(df.event_6.iloc[2200:2500])\n",
    "#plt.title('exemplo de problema com os picos')"
   ]
  },
  {
   "cell_type": "code",
   "execution_count": null,
   "metadata": {},
   "outputs": [],
   "source": [
    "%%time\n",
    "integrais_0 = integral_simples_dataframe(_[0], dx=1)\n",
    "integrais_1 = integral_simples_dataframe(_[1], dx=1)"
   ]
  },
  {
   "cell_type": "code",
   "execution_count": null,
   "metadata": {},
   "outputs": [],
   "source": [
    "# sns.histplot(-1*integrais_0)\n",
    "# plt.title(\"Espectro de carga - pulso do muon (0)\")\n",
    "# plt.xlabel('Carga (unidades)')\n",
    "# plt.savefig(\"images/espectro_carga-pulso_0.png\", dpi = 150)"
   ]
  },
  {
   "cell_type": "code",
   "execution_count": null,
   "metadata": {},
   "outputs": [],
   "source": [
    "# sns.histplot(-1*integrais_1)\n",
    "# plt.title(\"Espectro de carga - pulso do eletron (1)\")\n",
    "# plt.xlabel('Carga (unidades)')\n",
    "# plt.savefig(\"images/espectro_carga-pulso_1.png\", dpi = 150)"
   ]
  },
  {
   "cell_type": "code",
   "execution_count": null,
   "metadata": {},
   "outputs": [],
   "source": [
    "fig = plt.figure(dpi=200, figsize=(10,8))\n",
    "fig.suptitle('Espectros de amplitude e carga', fontsize=15)\n",
    "\n",
    "ax1 = plt.subplot(221)\n",
    "sns.histplot( -1*peaks_xy_0['y'], color='black' )\n",
    "plt.xlabel('Pico do pulso (unidades)')\n",
    "plt.ylabel(r'Contagem / tensão ($unidades^{-1}$)')\n",
    "plt.title(r\"Espectro de amplitude - $\\mu$\")\n",
    "\n",
    "ax2 = plt.subplot(222, sharex=ax1, sharey=ax1)\n",
    "sns.histplot( -1*peaks_xy_1['y'] , color='gray')\n",
    "plt.xlabel('Pico do pulso (unidades)')\n",
    "plt.ylabel(r'Contagem / tensão ($unidades^{-1}$)')\n",
    "plt.title(r\"Espectro de amplitude - $e^{-}$\")\n",
    "\n",
    "ax3 = plt.subplot(223)\n",
    "sns.histplot(-1*integrais_0, color='black')\n",
    "plt.xlabel('Carga elétrica (unidades)')\n",
    "plt.ylabel(r'Contagem / carga elétrica ($unidades^{-1}$)')\n",
    "plt.title(r\"Espectro de carga - $\\mu$\")\n",
    "\n",
    "ax4 = plt.subplot(224, sharex=ax3, sharey=ax3)\n",
    "sns.histplot(-1*integrais_1, color='gray')\n",
    "plt.xlabel('Carga elétrica (unidades)')\n",
    "plt.ylabel(r'Contagem / carga elétrica ($unidades^{-1}$)')\n",
    "plt.title(r\"Espectro de carga - $e^{-}$\")\n",
    "\n",
    "fig.tight_layout()\n",
    "\n",
    "plt.savefig('images/espectros_orig.png')"
   ]
  },
  {
   "source": [],
   "cell_type": "markdown",
   "metadata": {}
  },
  {
   "source": [
    "## Filtrando as saturações"
   ],
   "cell_type": "markdown",
   "metadata": {}
  },
  {
   "cell_type": "code",
   "execution_count": null,
   "metadata": {},
   "outputs": [],
   "source": [
    "# plt.plot(df.event_4, color = 'green', label = 'event_4')\n",
    "# plt.plot(df.event_6, color = 'black', label = 'event_6')\n",
    "# plt.legend()\n",
    "# plt.title('Saturações em apenas um pico')"
   ]
  },
  {
   "cell_type": "code",
   "execution_count": null,
   "metadata": {},
   "outputs": [],
   "source": [
    "#%%time\n",
    "#df_filt_sat_tot = filtra_saturacao_total( df=df , height=height , VA_1=VA_1 , VA_2=VA_2 )"
   ]
  },
  {
   "cell_type": "code",
   "execution_count": null,
   "metadata": {},
   "outputs": [],
   "source": [
    "%%time\n",
    "df_filt_parcial = filtra_saturacao_parcial(df=df, height=height, VA_1=VA_1, VA_2=VA_2)\n",
    "peaks_xy_0_filt   ,   peaks_xy_1_filt    =    df_filt_parcial\n",
    "peaks_xy_0_filt.index = peaks_xy_0_filt.index // 2\n",
    "peaks_xy_1_filt.index = peaks_xy_1_filt.index // 2"
   ]
  },
  {
   "cell_type": "code",
   "execution_count": null,
   "metadata": {},
   "outputs": [],
   "source": [
    "%%time\n",
    "_ = contorno_limite_arbitrario_picos(df=df, peaks_01=df_filt_parcial, VA_1=VA_1, VA_2=VA_2, height=height)"
   ]
  },
  {
   "cell_type": "code",
   "execution_count": null,
   "metadata": {},
   "outputs": [],
   "source": [
    "%%time\n",
    "integrais_0_filt = integral_simples_dataframe(_[0], dx=1)\n",
    "integrais_1_filt = integral_simples_dataframe(_[1], dx=1)"
   ]
  },
  {
   "cell_type": "code",
   "execution_count": null,
   "metadata": {},
   "outputs": [],
   "source": [
    "# sns.histplot( -1*peaks_xy_0_filt['y'].round() )\n",
    "# plt.title('Espectro de amplitude do muon Filtrado')\n",
    "# plt.xlabel('Máximo do pulso')\n",
    "# plt.savefig(\"images/espectro_amplitude-pulso_0_filtrado.png\", dpi = 150)"
   ]
  },
  {
   "cell_type": "code",
   "execution_count": null,
   "metadata": {},
   "outputs": [],
   "source": [
    "# sns.histplot( -1*peaks_xy_1_filt['y'].round() )\n",
    "# plt.title('Espectro de amplitude do eletron Filtrado')\n",
    "# plt.savefig(\"images/espectro_amplitude_1_filtrado.png\", dpi = 150)"
   ]
  },
  {
   "cell_type": "code",
   "execution_count": null,
   "metadata": {},
   "outputs": [],
   "source": [
    "# sns.histplot(-1*integrais_0_filt)\n",
    "# plt.title(\"Espectro de carga - pulso do muon (0) Filtrado\")\n",
    "# plt.xlabel('Carga (unidades)')\n",
    "# plt.savefig(\"images/espectro_carga-pulso_0_filtrado.png\", dpi = 150)"
   ]
  },
  {
   "cell_type": "code",
   "execution_count": null,
   "metadata": {},
   "outputs": [],
   "source": [
    "# sns.histplot(-1*integrais_1_filt)\n",
    "# plt.title(\"Espectro de carga - pulso do eletron (1) Filtrado\")\n",
    "# plt.xlabel('Carga (unidades)')\n",
    "# plt.savefig(\"images/espectro_carga-pulso_1_filtrado.png\", dpi = 150)"
   ]
  },
  {
   "cell_type": "code",
   "execution_count": null,
   "metadata": {},
   "outputs": [],
   "source": [
    "fig = plt.figure(dpi=200, figsize=(10,8))\n",
    "fig.suptitle('Espectros de amplitude e carga filtrados pela saturação', fontsize=15)\n",
    "\n",
    "ax1 = plt.subplot(221)\n",
    "sns.histplot( -1*peaks_xy_0_filt['y'], color='black' )\n",
    "plt.xlabel('Pico do pulso (unidades)')\n",
    "plt.ylabel(r'Contagem / tensão ($unidades^{-1}$)')\n",
    "plt.title(r\"Espectro de amplitude - $\\mu$\")\n",
    "\n",
    "ax2 = plt.subplot(222, sharex=ax1, sharey=ax1)\n",
    "sns.histplot( -1*peaks_xy_1_filt['y'] , color='gray')\n",
    "plt.xlabel('Pico do pulso (unidades)')\n",
    "plt.ylabel(r'Contagem / tensão ($unidades^{-1}$)')\n",
    "plt.title(r\"Espectro de amplitude - $e^{-}$\")\n",
    "\n",
    "ax3 = plt.subplot(223)\n",
    "sns.histplot(-1*integrais_0_filt, color='black')\n",
    "plt.xlabel('Carga elétrica (unidades)')\n",
    "plt.ylabel(r'Contagem / carga elétrica ($unidades^{-1}$)')\n",
    "plt.title(r\"Espectro de carga - $\\mu$\")\n",
    "\n",
    "ax4 = plt.subplot(224, sharex=ax3, sharey=ax3)\n",
    "sns.histplot(-1*integrais_1_filt, color='gray')\n",
    "plt.xlabel('Carga elétrica (unidades)')\n",
    "plt.ylabel(r'Contagem / carga elétrica ($unidades^{-1}$)')\n",
    "plt.title(r\"Espectro de carga - $e^{-}$\")\n",
    "\n",
    "fig.tight_layout()\n",
    "\n",
    "plt.savefig('images/espectros_orig_filt.png')"
   ]
  },
  {
   "source": [],
   "cell_type": "markdown",
   "metadata": {}
  },
  {
   "source": [
    "    Como pedido, um DataFrame que une os valores dos delta_t, picos e integrais\n"
   ],
   "cell_type": "markdown",
   "metadata": {}
  },
  {
   "cell_type": "code",
   "execution_count": null,
   "metadata": {},
   "outputs": [],
   "source": [
    "'''\n",
    "Como pedido, um DataFrame que une os valores dos delta_t, picos e integrais\n",
    "'''\n",
    "\n",
    "_ = pd.DataFrame(   peaks_em_x( df=df, height=height),  columns = ['peak_0', 'peak_1']   )   \n",
    "delta_x = (   _['peak_1']  -  _['peak_0']   )\n",
    "delta_x.name = 'delta_x'\n",
    "\n",
    "_ = pd.DataFrame( [delta_x , -1*integrais_0 , -1*integrais_1] ).T\n",
    "\n",
    "df_bruto = pd.concat( \n",
    "    (_ , peaks_xy_0.reset_index().iloc[: , 1:], peaks_xy_1.reset_index().iloc[: , 1:]) , axis=1\n",
    "                    )\n",
    "df_bruto.columns = ['delta_x' , 'integrais_muon' , 'integrais_eletron', 'x_pico_muon' , 'y_pico_muon', 'x_pico_eletron' , 'y_pico_eletron']\n",
    "\n",
    "df_bruto.to_csv('data/df_resultados_brutos.csv')"
   ]
  },
  {
   "cell_type": "code",
   "execution_count": null,
   "metadata": {},
   "outputs": [],
   "source": [
    "_ = df_bruto['delta_x'].value_counts().sort_index()\n",
    "plt.scatter(_.index , _)\n",
    "_"
   ]
  },
  {
   "source": [],
   "cell_type": "markdown",
   "metadata": {}
  },
  {
   "cell_type": "code",
   "execution_count": null,
   "metadata": {},
   "outputs": [],
   "source": [
    "plt.plot(  df['event_70'].index*convert_to_microsec, df['event_70'].values, color='dimgrey'  )\n",
    "plt.xlabel(r'Tempo ($\\mu$s)')\n",
    "plt.ylabel('Tensão (chADC)')\n",
    "plt.title('Exemplo de waveform do decaimento do múon')"
   ]
  },
  {
   "cell_type": "code",
   "execution_count": null,
   "metadata": {},
   "outputs": [],
   "source": [
    "df['event_70'].values"
   ]
  },
  {
   "cell_type": "code",
   "execution_count": null,
   "metadata": {},
   "outputs": [],
   "source": []
  }
 ],
 "metadata": {
  "kernelspec": {
   "display_name": "Python 3",
   "language": "python",
   "name": "python3"
  },
  "language_info": {
   "codemirror_mode": {
    "name": "ipython",
    "version": 3
   },
   "file_extension": ".py",
   "mimetype": "text/x-python",
   "name": "python",
   "nbconvert_exporter": "python",
   "pygments_lexer": "ipython3",
   "version": "3.8.8-final"
  }
 },
 "nbformat": 4,
 "nbformat_minor": 4
}