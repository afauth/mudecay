{
 "cells": [
  {
   "cell_type": "markdown",
   "metadata": {},
   "source": [
    "## Imports"
   ]
  },
  {
   "cell_type": "code",
   "execution_count": 1,
   "metadata": {},
   "outputs": [
    {
     "output_type": "stream",
     "name": "stdout",
     "text": [
      "mainFile e bibliotecas importados\nWall time: 2.61 s\n"
     ]
    }
   ],
   "source": [
    "%%time\n",
    "'''\n",
    "import pandas  as pd\n",
    "import seaborn as sns\n",
    "import numpy   as np\n",
    "import matplotlib.pyplot as plt\n",
    "from scipy.signal    import find_peaks\n",
    "from scipy.integrate import simps, trapz\n",
    "'''\n",
    "\n",
    "from mainFile import *"
   ]
  },
  {
   "cell_type": "markdown",
   "metadata": {},
   "source": [
    "# Lendo arquivo das waveforms"
   ]
  },
  {
   "cell_type": "markdown",
   "metadata": {},
   "source": [
    "#### O arquivo original já foi parcialmente modificado em relação a linhas e colunas"
   ]
  },
  {
   "cell_type": "code",
   "execution_count": 2,
   "metadata": {},
   "outputs": [
    {
     "output_type": "stream",
     "name": "stdout",
     "text": [
      "Wall time: 2.85 s\n"
     ]
    }
   ],
   "source": [
    "%%time\n",
    "'''Lendo arquivo das waveforms'''\n",
    "\n",
    "waveform = pd.read_csv(\n",
    "    'data/5555_eventos-edit.csv', \n",
    "    index_col = 0\n",
    "                      ) # importa como waveform vs sample\n",
    "# waveform"
   ]
  },
  {
   "cell_type": "code",
   "execution_count": 3,
   "metadata": {},
   "outputs": [],
   "source": [
    "#plt.plot( waveform.time, waveform.event_0 )\n",
    "#waveform.shape[1] - 1"
   ]
  },
  {
   "cell_type": "markdown",
   "metadata": {},
   "source": [
    "# 3. Análise de dados"
   ]
  },
  {
   "cell_type": "markdown",
   "metadata": {},
   "source": [
    "## 3.1. Copia o data frame e seleciona a janela de busca\n",
    "\n",
    "Cria uma cópia das waveforms para poder transladar o base line sem modificar os dados originais;\n",
    "\n",
    "Define a janela onde procuraremos pelos valores do contorno do pulso"
   ]
  },
  {
   "cell_type": "code",
   "execution_count": 4,
   "metadata": {},
   "outputs": [
    {
     "output_type": "execute_result",
     "data": {
      "text/plain": [
       "   event_0  event_1  event_2  event_3  event_4  event_5  event_6  event_7  \\\n",
       "0     56.0     56.0     56.0     53.0     55.0     55.0     54.0     54.0   \n",
       "1     55.0     55.0     55.0     53.0     55.0     55.0     54.0     54.0   \n",
       "2     53.0     53.0     53.0     51.0     53.0     53.0     55.0     55.0   \n",
       "3     53.0     53.0     53.0     52.0     53.0     53.0     54.0     54.0   \n",
       "4     54.0     54.0     54.0     53.0     55.0     55.0     55.0     55.0   \n",
       "\n",
       "   event_8  event_9  ...  event_5545  event_5546  event_5547  event_5548  \\\n",
       "0     54.0     54.0  ...        54.0        54.0        53.0        53.0   \n",
       "1     54.0     54.0  ...        52.0        52.0        52.0        52.0   \n",
       "2     55.0     55.0  ...        53.0        53.0        53.0        53.0   \n",
       "3     54.0     54.0  ...        53.0        53.0        53.0        53.0   \n",
       "4     55.0     55.0  ...        51.0        51.0        53.0        53.0   \n",
       "\n",
       "   event_5549  event_5550  event_5551  event_5552  event_5553  event_5554  \n",
       "0        51.0        51.0        51.0        51.0        51.0        51.0  \n",
       "1        52.0        51.0        51.0        51.0        51.0        51.0  \n",
       "2        50.0        55.0        55.0        55.0        55.0        55.0  \n",
       "3        50.0        55.0        55.0        55.0        55.0        55.0  \n",
       "4        52.0        54.0        54.0        54.0        54.0        54.0  \n",
       "\n",
       "[5 rows x 5555 columns]"
      ],
      "text/html": "<div>\n<style scoped>\n    .dataframe tbody tr th:only-of-type {\n        vertical-align: middle;\n    }\n\n    .dataframe tbody tr th {\n        vertical-align: top;\n    }\n\n    .dataframe thead th {\n        text-align: right;\n    }\n</style>\n<table border=\"1\" class=\"dataframe\">\n  <thead>\n    <tr style=\"text-align: right;\">\n      <th></th>\n      <th>event_0</th>\n      <th>event_1</th>\n      <th>event_2</th>\n      <th>event_3</th>\n      <th>event_4</th>\n      <th>event_5</th>\n      <th>event_6</th>\n      <th>event_7</th>\n      <th>event_8</th>\n      <th>event_9</th>\n      <th>...</th>\n      <th>event_5545</th>\n      <th>event_5546</th>\n      <th>event_5547</th>\n      <th>event_5548</th>\n      <th>event_5549</th>\n      <th>event_5550</th>\n      <th>event_5551</th>\n      <th>event_5552</th>\n      <th>event_5553</th>\n      <th>event_5554</th>\n    </tr>\n  </thead>\n  <tbody>\n    <tr>\n      <th>0</th>\n      <td>56.0</td>\n      <td>56.0</td>\n      <td>56.0</td>\n      <td>53.0</td>\n      <td>55.0</td>\n      <td>55.0</td>\n      <td>54.0</td>\n      <td>54.0</td>\n      <td>54.0</td>\n      <td>54.0</td>\n      <td>...</td>\n      <td>54.0</td>\n      <td>54.0</td>\n      <td>53.0</td>\n      <td>53.0</td>\n      <td>51.0</td>\n      <td>51.0</td>\n      <td>51.0</td>\n      <td>51.0</td>\n      <td>51.0</td>\n      <td>51.0</td>\n    </tr>\n    <tr>\n      <th>1</th>\n      <td>55.0</td>\n      <td>55.0</td>\n      <td>55.0</td>\n      <td>53.0</td>\n      <td>55.0</td>\n      <td>55.0</td>\n      <td>54.0</td>\n      <td>54.0</td>\n      <td>54.0</td>\n      <td>54.0</td>\n      <td>...</td>\n      <td>52.0</td>\n      <td>52.0</td>\n      <td>52.0</td>\n      <td>52.0</td>\n      <td>52.0</td>\n      <td>51.0</td>\n      <td>51.0</td>\n      <td>51.0</td>\n      <td>51.0</td>\n      <td>51.0</td>\n    </tr>\n    <tr>\n      <th>2</th>\n      <td>53.0</td>\n      <td>53.0</td>\n      <td>53.0</td>\n      <td>51.0</td>\n      <td>53.0</td>\n      <td>53.0</td>\n      <td>55.0</td>\n      <td>55.0</td>\n      <td>55.0</td>\n      <td>55.0</td>\n      <td>...</td>\n      <td>53.0</td>\n      <td>53.0</td>\n      <td>53.0</td>\n      <td>53.0</td>\n      <td>50.0</td>\n      <td>55.0</td>\n      <td>55.0</td>\n      <td>55.0</td>\n      <td>55.0</td>\n      <td>55.0</td>\n    </tr>\n    <tr>\n      <th>3</th>\n      <td>53.0</td>\n      <td>53.0</td>\n      <td>53.0</td>\n      <td>52.0</td>\n      <td>53.0</td>\n      <td>53.0</td>\n      <td>54.0</td>\n      <td>54.0</td>\n      <td>54.0</td>\n      <td>54.0</td>\n      <td>...</td>\n      <td>53.0</td>\n      <td>53.0</td>\n      <td>53.0</td>\n      <td>53.0</td>\n      <td>50.0</td>\n      <td>55.0</td>\n      <td>55.0</td>\n      <td>55.0</td>\n      <td>55.0</td>\n      <td>55.0</td>\n    </tr>\n    <tr>\n      <th>4</th>\n      <td>54.0</td>\n      <td>54.0</td>\n      <td>54.0</td>\n      <td>53.0</td>\n      <td>55.0</td>\n      <td>55.0</td>\n      <td>55.0</td>\n      <td>55.0</td>\n      <td>55.0</td>\n      <td>55.0</td>\n      <td>...</td>\n      <td>51.0</td>\n      <td>51.0</td>\n      <td>53.0</td>\n      <td>53.0</td>\n      <td>52.0</td>\n      <td>54.0</td>\n      <td>54.0</td>\n      <td>54.0</td>\n      <td>54.0</td>\n      <td>54.0</td>\n    </tr>\n  </tbody>\n</table>\n<p>5 rows × 5555 columns</p>\n</div>"
     },
     "metadata": {},
     "execution_count": 4
    }
   ],
   "source": [
    "df = waveform.copy(deep = True)\n",
    "df = df.iloc[ : , :df.shape[1] - 1 ]\n",
    "\n",
    "VA_1 = 20 # VA_1 e VA_2 são variáveis arbitrárias para definir o majorante da largura dos pulsos\n",
    "VA_2 = 70\n",
    "\n",
    "convert_to_microsec = 1/250\n",
    "\n",
    "df.head()"
   ]
  },
  {
   "cell_type": "markdown",
   "metadata": {},
   "source": [
    "## 3.2. Translação da base-line\n",
    "\n",
    "É interessante transladar os pontos e fixar a base line no 0. Podemos fazer isso somando ~= -50 em cada um dos valores de toda a coleção de waveforms. Isso servirá para evitar problemas de 'height' no peak_finder()\n",
    "\n",
    "Análise estatística do base-line:\n",
    "No caso, tomaremos todos os dados antes do primeiro pulso de cada waveform e consideraremos o base-line como o mesmo para todos os waveforms\n",
    "\n",
    "#### Método:\n",
    "\n",
    "Para encontrar a base line, selecionaremos a parte mais à esquerda, antes do pulso. \n",
    "Esse pedaço é definido como fora de um valor arbitrário em torno do primeiro pico da waveform, que acaba não sofrendo com a questão da base line. Definimos desse jeito porque a função para calcular o contorno do pulso, além de demorar para ser computada, sofre com as questões do peak_finder acabar encontrando apenas um elemento\n"
   ]
  },
  {
   "cell_type": "code",
   "execution_count": 5,
   "metadata": {
    "tags": []
   },
   "outputs": [
    {
     "output_type": "stream",
     "name": "stdout",
     "text": [
      "Wall time: 1.76 s\n"
     ]
    }
   ],
   "source": [
    "%%time\n",
    "\n",
    "height = 50 # esse parâmetro aqui é somente para efeito de encontrar os elementos da  base line a priori\n",
    "\n",
    "baseLines = baseLine(df, height = height, VA_1 = VA_1)"
   ]
  },
  {
   "cell_type": "code",
   "execution_count": 6,
   "metadata": {},
   "outputs": [],
   "source": [
    "# baseLines"
   ]
  },
  {
   "cell_type": "code",
   "execution_count": 7,
   "metadata": {},
   "outputs": [],
   "source": [
    "# baseLines.value_counts()"
   ]
  },
  {
   "cell_type": "code",
   "execution_count": 8,
   "metadata": {},
   "outputs": [],
   "source": [
    "# baseLines.mean() , baseLines.std()"
   ]
  },
  {
   "cell_type": "markdown",
   "metadata": {},
   "source": [
    "#### Relocação do base-line\n",
    "Colocando o valor médio do base line como o parâmetro height do peak-finder, surpreendentemente temos um resultado que não incorre em erros na hora de achar os dois picos de cada waveform. No caso, ele acaba por achar dois picos (não mais nem menos) de maneira mais fácil e exata"
   ]
  },
  {
   "cell_type": "code",
   "execution_count": 9,
   "metadata": {},
   "outputs": [
    {
     "output_type": "execute_result",
     "data": {
      "text/plain": [
       "   event_0  event_1  event_2  event_3  event_4  event_5  event_6  event_7  \\\n",
       "0  3.72321  3.72321  3.72321  0.72321  2.72321  2.72321  1.72321  1.72321   \n",
       "1  2.72321  2.72321  2.72321  0.72321  2.72321  2.72321  1.72321  1.72321   \n",
       "2  0.72321  0.72321  0.72321 -1.27679  0.72321  0.72321  2.72321  2.72321   \n",
       "3  0.72321  0.72321  0.72321 -0.27679  0.72321  0.72321  1.72321  1.72321   \n",
       "4  1.72321  1.72321  1.72321  0.72321  2.72321  2.72321  2.72321  2.72321   \n",
       "\n",
       "   event_8  event_9  ...  event_5545  event_5546  event_5547  event_5548  \\\n",
       "0  1.72321  1.72321  ...     1.72321     1.72321     0.72321     0.72321   \n",
       "1  1.72321  1.72321  ...    -0.27679    -0.27679    -0.27679    -0.27679   \n",
       "2  2.72321  2.72321  ...     0.72321     0.72321     0.72321     0.72321   \n",
       "3  1.72321  1.72321  ...     0.72321     0.72321     0.72321     0.72321   \n",
       "4  2.72321  2.72321  ...    -1.27679    -1.27679     0.72321     0.72321   \n",
       "\n",
       "   event_5549  event_5550  event_5551  event_5552  event_5553  event_5554  \n",
       "0    -1.27679    -1.27679    -1.27679    -1.27679    -1.27679    -1.27679  \n",
       "1    -0.27679    -1.27679    -1.27679    -1.27679    -1.27679    -1.27679  \n",
       "2    -2.27679     2.72321     2.72321     2.72321     2.72321     2.72321  \n",
       "3    -2.27679     2.72321     2.72321     2.72321     2.72321     2.72321  \n",
       "4    -0.27679     1.72321     1.72321     1.72321     1.72321     1.72321  \n",
       "\n",
       "[5 rows x 5555 columns]"
      ],
      "text/html": "<div>\n<style scoped>\n    .dataframe tbody tr th:only-of-type {\n        vertical-align: middle;\n    }\n\n    .dataframe tbody tr th {\n        vertical-align: top;\n    }\n\n    .dataframe thead th {\n        text-align: right;\n    }\n</style>\n<table border=\"1\" class=\"dataframe\">\n  <thead>\n    <tr style=\"text-align: right;\">\n      <th></th>\n      <th>event_0</th>\n      <th>event_1</th>\n      <th>event_2</th>\n      <th>event_3</th>\n      <th>event_4</th>\n      <th>event_5</th>\n      <th>event_6</th>\n      <th>event_7</th>\n      <th>event_8</th>\n      <th>event_9</th>\n      <th>...</th>\n      <th>event_5545</th>\n      <th>event_5546</th>\n      <th>event_5547</th>\n      <th>event_5548</th>\n      <th>event_5549</th>\n      <th>event_5550</th>\n      <th>event_5551</th>\n      <th>event_5552</th>\n      <th>event_5553</th>\n      <th>event_5554</th>\n    </tr>\n  </thead>\n  <tbody>\n    <tr>\n      <th>0</th>\n      <td>3.72321</td>\n      <td>3.72321</td>\n      <td>3.72321</td>\n      <td>0.72321</td>\n      <td>2.72321</td>\n      <td>2.72321</td>\n      <td>1.72321</td>\n      <td>1.72321</td>\n      <td>1.72321</td>\n      <td>1.72321</td>\n      <td>...</td>\n      <td>1.72321</td>\n      <td>1.72321</td>\n      <td>0.72321</td>\n      <td>0.72321</td>\n      <td>-1.27679</td>\n      <td>-1.27679</td>\n      <td>-1.27679</td>\n      <td>-1.27679</td>\n      <td>-1.27679</td>\n      <td>-1.27679</td>\n    </tr>\n    <tr>\n      <th>1</th>\n      <td>2.72321</td>\n      <td>2.72321</td>\n      <td>2.72321</td>\n      <td>0.72321</td>\n      <td>2.72321</td>\n      <td>2.72321</td>\n      <td>1.72321</td>\n      <td>1.72321</td>\n      <td>1.72321</td>\n      <td>1.72321</td>\n      <td>...</td>\n      <td>-0.27679</td>\n      <td>-0.27679</td>\n      <td>-0.27679</td>\n      <td>-0.27679</td>\n      <td>-0.27679</td>\n      <td>-1.27679</td>\n      <td>-1.27679</td>\n      <td>-1.27679</td>\n      <td>-1.27679</td>\n      <td>-1.27679</td>\n    </tr>\n    <tr>\n      <th>2</th>\n      <td>0.72321</td>\n      <td>0.72321</td>\n      <td>0.72321</td>\n      <td>-1.27679</td>\n      <td>0.72321</td>\n      <td>0.72321</td>\n      <td>2.72321</td>\n      <td>2.72321</td>\n      <td>2.72321</td>\n      <td>2.72321</td>\n      <td>...</td>\n      <td>0.72321</td>\n      <td>0.72321</td>\n      <td>0.72321</td>\n      <td>0.72321</td>\n      <td>-2.27679</td>\n      <td>2.72321</td>\n      <td>2.72321</td>\n      <td>2.72321</td>\n      <td>2.72321</td>\n      <td>2.72321</td>\n    </tr>\n    <tr>\n      <th>3</th>\n      <td>0.72321</td>\n      <td>0.72321</td>\n      <td>0.72321</td>\n      <td>-0.27679</td>\n      <td>0.72321</td>\n      <td>0.72321</td>\n      <td>1.72321</td>\n      <td>1.72321</td>\n      <td>1.72321</td>\n      <td>1.72321</td>\n      <td>...</td>\n      <td>0.72321</td>\n      <td>0.72321</td>\n      <td>0.72321</td>\n      <td>0.72321</td>\n      <td>-2.27679</td>\n      <td>2.72321</td>\n      <td>2.72321</td>\n      <td>2.72321</td>\n      <td>2.72321</td>\n      <td>2.72321</td>\n    </tr>\n    <tr>\n      <th>4</th>\n      <td>1.72321</td>\n      <td>1.72321</td>\n      <td>1.72321</td>\n      <td>0.72321</td>\n      <td>2.72321</td>\n      <td>2.72321</td>\n      <td>2.72321</td>\n      <td>2.72321</td>\n      <td>2.72321</td>\n      <td>2.72321</td>\n      <td>...</td>\n      <td>-1.27679</td>\n      <td>-1.27679</td>\n      <td>0.72321</td>\n      <td>0.72321</td>\n      <td>-0.27679</td>\n      <td>1.72321</td>\n      <td>1.72321</td>\n      <td>1.72321</td>\n      <td>1.72321</td>\n      <td>1.72321</td>\n    </tr>\n  </tbody>\n</table>\n<p>5 rows × 5555 columns</p>\n</div>"
     },
     "metadata": {},
     "execution_count": 9
    }
   ],
   "source": [
    "'''\n",
    "Alterando os valores e recolocando na base line ~= 0\n",
    "'''\n",
    "\n",
    "df.iloc[ :  , : df.shape[1] ] -= baseLines.mean() \n",
    "# soma ~= -50 em todo o df, exceto pela última coluna 'time'\n",
    "df.head()"
   ]
  },
  {
   "source": [],
   "cell_type": "markdown",
   "metadata": {}
  }
 ],
 "metadata": {
  "kernelspec": {
   "display_name": "Python 3",
   "language": "python",
   "name": "python3"
  },
  "language_info": {
   "codemirror_mode": {
    "name": "ipython",
    "version": 3
   },
   "file_extension": ".py",
   "mimetype": "text/x-python",
   "name": "python",
   "nbconvert_exporter": "python",
   "pygments_lexer": "ipython3",
   "version": "3.8.3-final"
  }
 },
 "nbformat": 4,
 "nbformat_minor": 4
}